{
 "cells": [
  {
   "cell_type": "code",
   "id": "initial_id",
   "metadata": {
    "collapsed": true,
    "ExecuteTime": {
     "end_time": "2025-03-13T20:51:57.911309Z",
     "start_time": "2025-03-13T20:51:57.383563Z"
    }
   },
   "source": [
    "import numpy as np\n",
    "import pandas as pd\n",
    "from google.cloud import bigquery"
   ],
   "outputs": [],
   "execution_count": 1
  },
  {
   "metadata": {},
   "cell_type": "markdown",
   "source": "## Część 2",
   "id": "c6cb4916b7ae27d0"
  },
  {
   "metadata": {},
   "cell_type": "markdown",
   "source": "Uzyskaj dostęp do danych nt. COVID-19 z poziomu Pythona.",
   "id": "6b049c8781e1c953"
  },
  {
   "metadata": {},
   "cell_type": "markdown",
   "source": "##### **2.5.** Uruchom klienta BigQuery z poziomu Pythona.",
   "id": "11ee98f122050fa2"
  },
  {
   "metadata": {
    "ExecuteTime": {
     "end_time": "2025-03-13T20:51:57.929164Z",
     "start_time": "2025-03-13T20:51:57.915811Z"
    }
   },
   "cell_type": "code",
   "source": [
    "from dotenv import load_dotenv\n",
    "\n",
    "load_dotenv()\n",
    "\n",
    "client = bigquery.Client()"
   ],
   "id": "d105d3bae147f539",
   "outputs": [],
   "execution_count": 2
  },
  {
   "metadata": {},
   "cell_type": "markdown",
   "source": "##### **2.6.** Pobierz dane do obiektu DataFrame.",
   "id": "5861d363283d60a"
  },
  {
   "metadata": {
    "ExecuteTime": {
     "end_time": "2025-03-13T20:52:00.830947Z",
     "start_time": "2025-03-13T20:51:58.060344Z"
    }
   },
   "cell_type": "code",
   "source": [
    "query = \"\"\"\n",
    "    SELECT *\n",
    "    FROM bigquery-public-data.covid19_open_data.covid19_open_data LIMIT 10\n",
    "\"\"\"\n",
    "query_job = client.query(query)\n",
    "query_result = query_job.result()\n",
    "\n",
    "query_result.to_dataframe()"
   ],
   "id": "647b8a38f4507dbf",
   "outputs": [
    {
     "data": {
      "text/plain": [
       "  location_key        date                     place_id wikidata_id  \\\n",
       "0           AR  2021-11-01  ChIJZ8b99fXKvJURqA_wKpl3Lz0        Q414   \n",
       "1           AR  2020-09-22  ChIJZ8b99fXKvJURqA_wKpl3Lz0        Q414   \n",
       "2           AR  2020-12-02  ChIJZ8b99fXKvJURqA_wKpl3Lz0        Q414   \n",
       "3           AR  2021-05-14  ChIJZ8b99fXKvJURqA_wKpl3Lz0        Q414   \n",
       "4           AR  2020-11-15  ChIJZ8b99fXKvJURqA_wKpl3Lz0        Q414   \n",
       "5           AR  2021-03-08  ChIJZ8b99fXKvJURqA_wKpl3Lz0        Q414   \n",
       "6           AR  2021-09-19  ChIJZ8b99fXKvJURqA_wKpl3Lz0        Q414   \n",
       "7           AR  2022-03-01  ChIJZ8b99fXKvJURqA_wKpl3Lz0        Q414   \n",
       "8           AR  2020-12-18  ChIJZ8b99fXKvJURqA_wKpl3Lz0        Q414   \n",
       "9           AR  2021-09-20  ChIJZ8b99fXKvJURqA_wKpl3Lz0        Q414   \n",
       "\n",
       "  datacommons_id country_code country_name iso_3166_1_alpha_2  \\\n",
       "0    country/ARG           AR    Argentina                 AR   \n",
       "1    country/ARG           AR    Argentina                 AR   \n",
       "2    country/ARG           AR    Argentina                 AR   \n",
       "3    country/ARG           AR    Argentina                 AR   \n",
       "4    country/ARG           AR    Argentina                 AR   \n",
       "5    country/ARG           AR    Argentina                 AR   \n",
       "6    country/ARG           AR    Argentina                 AR   \n",
       "7    country/ARG           AR    Argentina                 AR   \n",
       "8    country/ARG           AR    Argentina                 AR   \n",
       "9    country/ARG           AR    Argentina                 AR   \n",
       "\n",
       "  iso_3166_1_alpha_3  aggregation_level  ...  \\\n",
       "0                ARG                  0  ...   \n",
       "1                ARG                  0  ...   \n",
       "2                ARG                  0  ...   \n",
       "3                ARG                  0  ...   \n",
       "4                ARG                  0  ...   \n",
       "5                ARG                  0  ...   \n",
       "6                ARG                  0  ...   \n",
       "7                ARG                  0  ...   \n",
       "8                ARG                  0  ...   \n",
       "9                ARG                  0  ...   \n",
       "\n",
       "   cumulative_vaccine_doses_administered_pfizer  \\\n",
       "0                                          <NA>   \n",
       "1                                          <NA>   \n",
       "2                                          <NA>   \n",
       "3                                          <NA>   \n",
       "4                                          <NA>   \n",
       "5                                          <NA>   \n",
       "6                                          <NA>   \n",
       "7                                          <NA>   \n",
       "8                                          <NA>   \n",
       "9                                          <NA>   \n",
       "\n",
       "   new_persons_fully_vaccinated_moderna  \\\n",
       "0                                  <NA>   \n",
       "1                                  <NA>   \n",
       "2                                  <NA>   \n",
       "3                                  <NA>   \n",
       "4                                  <NA>   \n",
       "5                                  <NA>   \n",
       "6                                  <NA>   \n",
       "7                                  <NA>   \n",
       "8                                  <NA>   \n",
       "9                                  <NA>   \n",
       "\n",
       "   cumulative_persons_fully_vaccinated_moderna  \\\n",
       "0                                         <NA>   \n",
       "1                                         <NA>   \n",
       "2                                         <NA>   \n",
       "3                                         <NA>   \n",
       "4                                         <NA>   \n",
       "5                                         <NA>   \n",
       "6                                         <NA>   \n",
       "7                                         <NA>   \n",
       "8                                         <NA>   \n",
       "9                                         <NA>   \n",
       "\n",
       "   new_vaccine_doses_administered_moderna  \\\n",
       "0                                    <NA>   \n",
       "1                                    <NA>   \n",
       "2                                    <NA>   \n",
       "3                                    <NA>   \n",
       "4                                    <NA>   \n",
       "5                                    <NA>   \n",
       "6                                    <NA>   \n",
       "7                                    <NA>   \n",
       "8                                    <NA>   \n",
       "9                                    <NA>   \n",
       "\n",
       "   cumulative_vaccine_doses_administered_moderna  \\\n",
       "0                                           <NA>   \n",
       "1                                           <NA>   \n",
       "2                                           <NA>   \n",
       "3                                           <NA>   \n",
       "4                                           <NA>   \n",
       "5                                           <NA>   \n",
       "6                                           <NA>   \n",
       "7                                           <NA>   \n",
       "8                                           <NA>   \n",
       "9                                           <NA>   \n",
       "\n",
       "   new_persons_fully_vaccinated_janssen  \\\n",
       "0                                  <NA>   \n",
       "1                                  <NA>   \n",
       "2                                  <NA>   \n",
       "3                                  <NA>   \n",
       "4                                  <NA>   \n",
       "5                                  <NA>   \n",
       "6                                  <NA>   \n",
       "7                                  <NA>   \n",
       "8                                  <NA>   \n",
       "9                                  <NA>   \n",
       "\n",
       "   cumulative_persons_fully_vaccinated_janssen  \\\n",
       "0                                         <NA>   \n",
       "1                                         <NA>   \n",
       "2                                         <NA>   \n",
       "3                                         <NA>   \n",
       "4                                         <NA>   \n",
       "5                                         <NA>   \n",
       "6                                         <NA>   \n",
       "7                                         <NA>   \n",
       "8                                         <NA>   \n",
       "9                                         <NA>   \n",
       "\n",
       "   new_vaccine_doses_administered_janssen  \\\n",
       "0                                    <NA>   \n",
       "1                                    <NA>   \n",
       "2                                    <NA>   \n",
       "3                                    <NA>   \n",
       "4                                    <NA>   \n",
       "5                                    <NA>   \n",
       "6                                    <NA>   \n",
       "7                                    <NA>   \n",
       "8                                    <NA>   \n",
       "9                                    <NA>   \n",
       "\n",
       "   cumulative_vaccine_doses_administered_janssen  location_geometry  \n",
       "0                                           <NA>     POINT(-64 -34)  \n",
       "1                                           <NA>     POINT(-64 -34)  \n",
       "2                                           <NA>     POINT(-64 -34)  \n",
       "3                                           <NA>     POINT(-64 -34)  \n",
       "4                                           <NA>     POINT(-64 -34)  \n",
       "5                                           <NA>     POINT(-64 -34)  \n",
       "6                                           <NA>     POINT(-64 -34)  \n",
       "7                                           <NA>     POINT(-64 -34)  \n",
       "8                                           <NA>     POINT(-64 -34)  \n",
       "9                                           <NA>     POINT(-64 -34)  \n",
       "\n",
       "[10 rows x 701 columns]"
      ],
      "text/html": [
       "<div>\n",
       "<style scoped>\n",
       "    .dataframe tbody tr th:only-of-type {\n",
       "        vertical-align: middle;\n",
       "    }\n",
       "\n",
       "    .dataframe tbody tr th {\n",
       "        vertical-align: top;\n",
       "    }\n",
       "\n",
       "    .dataframe thead th {\n",
       "        text-align: right;\n",
       "    }\n",
       "</style>\n",
       "<table border=\"1\" class=\"dataframe\">\n",
       "  <thead>\n",
       "    <tr style=\"text-align: right;\">\n",
       "      <th></th>\n",
       "      <th>location_key</th>\n",
       "      <th>date</th>\n",
       "      <th>place_id</th>\n",
       "      <th>wikidata_id</th>\n",
       "      <th>datacommons_id</th>\n",
       "      <th>country_code</th>\n",
       "      <th>country_name</th>\n",
       "      <th>iso_3166_1_alpha_2</th>\n",
       "      <th>iso_3166_1_alpha_3</th>\n",
       "      <th>aggregation_level</th>\n",
       "      <th>...</th>\n",
       "      <th>cumulative_vaccine_doses_administered_pfizer</th>\n",
       "      <th>new_persons_fully_vaccinated_moderna</th>\n",
       "      <th>cumulative_persons_fully_vaccinated_moderna</th>\n",
       "      <th>new_vaccine_doses_administered_moderna</th>\n",
       "      <th>cumulative_vaccine_doses_administered_moderna</th>\n",
       "      <th>new_persons_fully_vaccinated_janssen</th>\n",
       "      <th>cumulative_persons_fully_vaccinated_janssen</th>\n",
       "      <th>new_vaccine_doses_administered_janssen</th>\n",
       "      <th>cumulative_vaccine_doses_administered_janssen</th>\n",
       "      <th>location_geometry</th>\n",
       "    </tr>\n",
       "  </thead>\n",
       "  <tbody>\n",
       "    <tr>\n",
       "      <th>0</th>\n",
       "      <td>AR</td>\n",
       "      <td>2021-11-01</td>\n",
       "      <td>ChIJZ8b99fXKvJURqA_wKpl3Lz0</td>\n",
       "      <td>Q414</td>\n",
       "      <td>country/ARG</td>\n",
       "      <td>AR</td>\n",
       "      <td>Argentina</td>\n",
       "      <td>AR</td>\n",
       "      <td>ARG</td>\n",
       "      <td>0</td>\n",
       "      <td>...</td>\n",
       "      <td>&lt;NA&gt;</td>\n",
       "      <td>&lt;NA&gt;</td>\n",
       "      <td>&lt;NA&gt;</td>\n",
       "      <td>&lt;NA&gt;</td>\n",
       "      <td>&lt;NA&gt;</td>\n",
       "      <td>&lt;NA&gt;</td>\n",
       "      <td>&lt;NA&gt;</td>\n",
       "      <td>&lt;NA&gt;</td>\n",
       "      <td>&lt;NA&gt;</td>\n",
       "      <td>POINT(-64 -34)</td>\n",
       "    </tr>\n",
       "    <tr>\n",
       "      <th>1</th>\n",
       "      <td>AR</td>\n",
       "      <td>2020-09-22</td>\n",
       "      <td>ChIJZ8b99fXKvJURqA_wKpl3Lz0</td>\n",
       "      <td>Q414</td>\n",
       "      <td>country/ARG</td>\n",
       "      <td>AR</td>\n",
       "      <td>Argentina</td>\n",
       "      <td>AR</td>\n",
       "      <td>ARG</td>\n",
       "      <td>0</td>\n",
       "      <td>...</td>\n",
       "      <td>&lt;NA&gt;</td>\n",
       "      <td>&lt;NA&gt;</td>\n",
       "      <td>&lt;NA&gt;</td>\n",
       "      <td>&lt;NA&gt;</td>\n",
       "      <td>&lt;NA&gt;</td>\n",
       "      <td>&lt;NA&gt;</td>\n",
       "      <td>&lt;NA&gt;</td>\n",
       "      <td>&lt;NA&gt;</td>\n",
       "      <td>&lt;NA&gt;</td>\n",
       "      <td>POINT(-64 -34)</td>\n",
       "    </tr>\n",
       "    <tr>\n",
       "      <th>2</th>\n",
       "      <td>AR</td>\n",
       "      <td>2020-12-02</td>\n",
       "      <td>ChIJZ8b99fXKvJURqA_wKpl3Lz0</td>\n",
       "      <td>Q414</td>\n",
       "      <td>country/ARG</td>\n",
       "      <td>AR</td>\n",
       "      <td>Argentina</td>\n",
       "      <td>AR</td>\n",
       "      <td>ARG</td>\n",
       "      <td>0</td>\n",
       "      <td>...</td>\n",
       "      <td>&lt;NA&gt;</td>\n",
       "      <td>&lt;NA&gt;</td>\n",
       "      <td>&lt;NA&gt;</td>\n",
       "      <td>&lt;NA&gt;</td>\n",
       "      <td>&lt;NA&gt;</td>\n",
       "      <td>&lt;NA&gt;</td>\n",
       "      <td>&lt;NA&gt;</td>\n",
       "      <td>&lt;NA&gt;</td>\n",
       "      <td>&lt;NA&gt;</td>\n",
       "      <td>POINT(-64 -34)</td>\n",
       "    </tr>\n",
       "    <tr>\n",
       "      <th>3</th>\n",
       "      <td>AR</td>\n",
       "      <td>2021-05-14</td>\n",
       "      <td>ChIJZ8b99fXKvJURqA_wKpl3Lz0</td>\n",
       "      <td>Q414</td>\n",
       "      <td>country/ARG</td>\n",
       "      <td>AR</td>\n",
       "      <td>Argentina</td>\n",
       "      <td>AR</td>\n",
       "      <td>ARG</td>\n",
       "      <td>0</td>\n",
       "      <td>...</td>\n",
       "      <td>&lt;NA&gt;</td>\n",
       "      <td>&lt;NA&gt;</td>\n",
       "      <td>&lt;NA&gt;</td>\n",
       "      <td>&lt;NA&gt;</td>\n",
       "      <td>&lt;NA&gt;</td>\n",
       "      <td>&lt;NA&gt;</td>\n",
       "      <td>&lt;NA&gt;</td>\n",
       "      <td>&lt;NA&gt;</td>\n",
       "      <td>&lt;NA&gt;</td>\n",
       "      <td>POINT(-64 -34)</td>\n",
       "    </tr>\n",
       "    <tr>\n",
       "      <th>4</th>\n",
       "      <td>AR</td>\n",
       "      <td>2020-11-15</td>\n",
       "      <td>ChIJZ8b99fXKvJURqA_wKpl3Lz0</td>\n",
       "      <td>Q414</td>\n",
       "      <td>country/ARG</td>\n",
       "      <td>AR</td>\n",
       "      <td>Argentina</td>\n",
       "      <td>AR</td>\n",
       "      <td>ARG</td>\n",
       "      <td>0</td>\n",
       "      <td>...</td>\n",
       "      <td>&lt;NA&gt;</td>\n",
       "      <td>&lt;NA&gt;</td>\n",
       "      <td>&lt;NA&gt;</td>\n",
       "      <td>&lt;NA&gt;</td>\n",
       "      <td>&lt;NA&gt;</td>\n",
       "      <td>&lt;NA&gt;</td>\n",
       "      <td>&lt;NA&gt;</td>\n",
       "      <td>&lt;NA&gt;</td>\n",
       "      <td>&lt;NA&gt;</td>\n",
       "      <td>POINT(-64 -34)</td>\n",
       "    </tr>\n",
       "    <tr>\n",
       "      <th>5</th>\n",
       "      <td>AR</td>\n",
       "      <td>2021-03-08</td>\n",
       "      <td>ChIJZ8b99fXKvJURqA_wKpl3Lz0</td>\n",
       "      <td>Q414</td>\n",
       "      <td>country/ARG</td>\n",
       "      <td>AR</td>\n",
       "      <td>Argentina</td>\n",
       "      <td>AR</td>\n",
       "      <td>ARG</td>\n",
       "      <td>0</td>\n",
       "      <td>...</td>\n",
       "      <td>&lt;NA&gt;</td>\n",
       "      <td>&lt;NA&gt;</td>\n",
       "      <td>&lt;NA&gt;</td>\n",
       "      <td>&lt;NA&gt;</td>\n",
       "      <td>&lt;NA&gt;</td>\n",
       "      <td>&lt;NA&gt;</td>\n",
       "      <td>&lt;NA&gt;</td>\n",
       "      <td>&lt;NA&gt;</td>\n",
       "      <td>&lt;NA&gt;</td>\n",
       "      <td>POINT(-64 -34)</td>\n",
       "    </tr>\n",
       "    <tr>\n",
       "      <th>6</th>\n",
       "      <td>AR</td>\n",
       "      <td>2021-09-19</td>\n",
       "      <td>ChIJZ8b99fXKvJURqA_wKpl3Lz0</td>\n",
       "      <td>Q414</td>\n",
       "      <td>country/ARG</td>\n",
       "      <td>AR</td>\n",
       "      <td>Argentina</td>\n",
       "      <td>AR</td>\n",
       "      <td>ARG</td>\n",
       "      <td>0</td>\n",
       "      <td>...</td>\n",
       "      <td>&lt;NA&gt;</td>\n",
       "      <td>&lt;NA&gt;</td>\n",
       "      <td>&lt;NA&gt;</td>\n",
       "      <td>&lt;NA&gt;</td>\n",
       "      <td>&lt;NA&gt;</td>\n",
       "      <td>&lt;NA&gt;</td>\n",
       "      <td>&lt;NA&gt;</td>\n",
       "      <td>&lt;NA&gt;</td>\n",
       "      <td>&lt;NA&gt;</td>\n",
       "      <td>POINT(-64 -34)</td>\n",
       "    </tr>\n",
       "    <tr>\n",
       "      <th>7</th>\n",
       "      <td>AR</td>\n",
       "      <td>2022-03-01</td>\n",
       "      <td>ChIJZ8b99fXKvJURqA_wKpl3Lz0</td>\n",
       "      <td>Q414</td>\n",
       "      <td>country/ARG</td>\n",
       "      <td>AR</td>\n",
       "      <td>Argentina</td>\n",
       "      <td>AR</td>\n",
       "      <td>ARG</td>\n",
       "      <td>0</td>\n",
       "      <td>...</td>\n",
       "      <td>&lt;NA&gt;</td>\n",
       "      <td>&lt;NA&gt;</td>\n",
       "      <td>&lt;NA&gt;</td>\n",
       "      <td>&lt;NA&gt;</td>\n",
       "      <td>&lt;NA&gt;</td>\n",
       "      <td>&lt;NA&gt;</td>\n",
       "      <td>&lt;NA&gt;</td>\n",
       "      <td>&lt;NA&gt;</td>\n",
       "      <td>&lt;NA&gt;</td>\n",
       "      <td>POINT(-64 -34)</td>\n",
       "    </tr>\n",
       "    <tr>\n",
       "      <th>8</th>\n",
       "      <td>AR</td>\n",
       "      <td>2020-12-18</td>\n",
       "      <td>ChIJZ8b99fXKvJURqA_wKpl3Lz0</td>\n",
       "      <td>Q414</td>\n",
       "      <td>country/ARG</td>\n",
       "      <td>AR</td>\n",
       "      <td>Argentina</td>\n",
       "      <td>AR</td>\n",
       "      <td>ARG</td>\n",
       "      <td>0</td>\n",
       "      <td>...</td>\n",
       "      <td>&lt;NA&gt;</td>\n",
       "      <td>&lt;NA&gt;</td>\n",
       "      <td>&lt;NA&gt;</td>\n",
       "      <td>&lt;NA&gt;</td>\n",
       "      <td>&lt;NA&gt;</td>\n",
       "      <td>&lt;NA&gt;</td>\n",
       "      <td>&lt;NA&gt;</td>\n",
       "      <td>&lt;NA&gt;</td>\n",
       "      <td>&lt;NA&gt;</td>\n",
       "      <td>POINT(-64 -34)</td>\n",
       "    </tr>\n",
       "    <tr>\n",
       "      <th>9</th>\n",
       "      <td>AR</td>\n",
       "      <td>2021-09-20</td>\n",
       "      <td>ChIJZ8b99fXKvJURqA_wKpl3Lz0</td>\n",
       "      <td>Q414</td>\n",
       "      <td>country/ARG</td>\n",
       "      <td>AR</td>\n",
       "      <td>Argentina</td>\n",
       "      <td>AR</td>\n",
       "      <td>ARG</td>\n",
       "      <td>0</td>\n",
       "      <td>...</td>\n",
       "      <td>&lt;NA&gt;</td>\n",
       "      <td>&lt;NA&gt;</td>\n",
       "      <td>&lt;NA&gt;</td>\n",
       "      <td>&lt;NA&gt;</td>\n",
       "      <td>&lt;NA&gt;</td>\n",
       "      <td>&lt;NA&gt;</td>\n",
       "      <td>&lt;NA&gt;</td>\n",
       "      <td>&lt;NA&gt;</td>\n",
       "      <td>&lt;NA&gt;</td>\n",
       "      <td>POINT(-64 -34)</td>\n",
       "    </tr>\n",
       "  </tbody>\n",
       "</table>\n",
       "<p>10 rows × 701 columns</p>\n",
       "</div>"
      ]
     },
     "execution_count": 3,
     "metadata": {},
     "output_type": "execute_result"
    }
   ],
   "execution_count": 3
  },
  {
   "metadata": {},
   "cell_type": "markdown",
   "source": [
    "## Część 3\n",
    "#### **Misja dodatkowa - Poznanie danych**\n"
   ],
   "id": "1f7fb4f9af3789bd"
  },
  {
   "metadata": {},
   "cell_type": "markdown",
   "source": "Zapoznaj się z informacjami o danych na temat COVID-19.",
   "id": "fac48b3022b3b27a"
  },
  {
   "metadata": {},
   "cell_type": "markdown",
   "source": "##### 3.1. Sprawdź, ile jest zapisanych wierszy z danymi.",
   "id": "da22d0360e54f5c"
  },
  {
   "metadata": {
    "ExecuteTime": {
     "end_time": "2025-03-13T20:52:02.962959Z",
     "start_time": "2025-03-13T20:52:00.887974Z"
    }
   },
   "cell_type": "code",
   "source": [
    "query = \"\"\"\n",
    "    SELECT COUNT(*) AS rows_count\n",
    "    FROM bigquery-public-data.covid19_open_data.covid19_open_data\n",
    "\"\"\"\n",
    "query_job = client.query(query)\n",
    "query_result = query_job.result()\n",
    "\n",
    "query_result.to_dataframe()"
   ],
   "id": "8dede3027df39e58",
   "outputs": [
    {
     "data": {
      "text/plain": [
       "   rows_count\n",
       "0    22756333"
      ],
      "text/html": [
       "<div>\n",
       "<style scoped>\n",
       "    .dataframe tbody tr th:only-of-type {\n",
       "        vertical-align: middle;\n",
       "    }\n",
       "\n",
       "    .dataframe tbody tr th {\n",
       "        vertical-align: top;\n",
       "    }\n",
       "\n",
       "    .dataframe thead th {\n",
       "        text-align: right;\n",
       "    }\n",
       "</style>\n",
       "<table border=\"1\" class=\"dataframe\">\n",
       "  <thead>\n",
       "    <tr style=\"text-align: right;\">\n",
       "      <th></th>\n",
       "      <th>rows_count</th>\n",
       "    </tr>\n",
       "  </thead>\n",
       "  <tbody>\n",
       "    <tr>\n",
       "      <th>0</th>\n",
       "      <td>22756333</td>\n",
       "    </tr>\n",
       "  </tbody>\n",
       "</table>\n",
       "</div>"
      ]
     },
     "execution_count": 4,
     "metadata": {},
     "output_type": "execute_result"
    }
   ],
   "execution_count": 4
  },
  {
   "metadata": {},
   "cell_type": "markdown",
   "source": "##### 3.2. Sprawdź, ile krajów jest uwzględnionych w danych.",
   "id": "65dbee0d7d00f1b8"
  },
  {
   "metadata": {
    "ExecuteTime": {
     "end_time": "2025-03-13T20:52:05.573578Z",
     "start_time": "2025-03-13T20:52:02.984469Z"
    }
   },
   "cell_type": "code",
   "source": [
    "query = \"\"\"\n",
    "    SELECT COUNT(DISTINCT country_code) AS countries_count\n",
    "    FROM bigquery-public-data.covid19_open_data.covid19_open_data\n",
    "\"\"\"\n",
    "query_job = client.query(query)\n",
    "query_result = query_job.result()\n",
    "\n",
    "query_result.to_dataframe()"
   ],
   "id": "831e367e7d298c73",
   "outputs": [
    {
     "data": {
      "text/plain": [
       "   countries_count\n",
       "0              246"
      ],
      "text/html": [
       "<div>\n",
       "<style scoped>\n",
       "    .dataframe tbody tr th:only-of-type {\n",
       "        vertical-align: middle;\n",
       "    }\n",
       "\n",
       "    .dataframe tbody tr th {\n",
       "        vertical-align: top;\n",
       "    }\n",
       "\n",
       "    .dataframe thead th {\n",
       "        text-align: right;\n",
       "    }\n",
       "</style>\n",
       "<table border=\"1\" class=\"dataframe\">\n",
       "  <thead>\n",
       "    <tr style=\"text-align: right;\">\n",
       "      <th></th>\n",
       "      <th>countries_count</th>\n",
       "    </tr>\n",
       "  </thead>\n",
       "  <tbody>\n",
       "    <tr>\n",
       "      <th>0</th>\n",
       "      <td>246</td>\n",
       "    </tr>\n",
       "  </tbody>\n",
       "</table>\n",
       "</div>"
      ]
     },
     "execution_count": 5,
     "metadata": {},
     "output_type": "execute_result"
    }
   ],
   "execution_count": 5
  },
  {
   "metadata": {},
   "cell_type": "markdown",
   "source": "##### 3.3. Sprawdź, w jaki sposób zapisywane są dzienne informacje dla krajów.",
   "id": "40580fbda3ba3325"
  },
  {
   "metadata": {},
   "cell_type": "markdown",
   "source": [
    "Dzienne informacje (np. nowe przypadki, nowe zgony, nowe szczepienia) są zapisywane w postaci 2 wartości:\n",
    "- liczba nowych przypadków danego dnia\n",
    "- całkowita liczba przypadków w danym dniu\n",
    "\n",
    "Przykładowe kolumny (dla nowych przypadków):"
   ],
   "id": "23ceaf5e6ef83713"
  },
  {
   "metadata": {
    "ExecuteTime": {
     "end_time": "2025-03-13T20:52:07.934736Z",
     "start_time": "2025-03-13T20:52:05.621026Z"
    }
   },
   "cell_type": "code",
   "source": [
    "query = \"\"\"\n",
    "    SELECT location_key, date,\n",
    "        new_confirmed, cumulative_confirmed\n",
    "    FROM bigquery-public-data.covid19_open_data.covid19_open_data\n",
    "    WHERE COALESCE(\n",
    "        new_confirmed, cumulative_confirmed\n",
    "    ) IS NOT NULL\n",
    "    LIMIT 10\n",
    "\"\"\"\n",
    "query_job = client.query(query)\n",
    "query_result = query_job.result()\n",
    "\n",
    "query_result.to_dataframe()"
   ],
   "id": "5cb5dc79fa61e13a",
   "outputs": [
    {
     "data": {
      "text/plain": [
       "  location_key        date  new_confirmed  cumulative_confirmed\n",
       "0           AD  2021-07-05              0                 13991\n",
       "1           AD  2021-10-08              0                 15291\n",
       "2           AD  2022-02-01            357                 36315\n",
       "3           AD  2021-11-22             43                 16342\n",
       "4           AD  2021-12-20              0                 21062\n",
       "5           AD  2020-11-12            109                  5725\n",
       "6           AD  2021-08-24             11                 15014\n",
       "7           AD  2021-04-16             59                 12771\n",
       "8           AE  2020-06-28            449                 48246\n",
       "9           AE  2020-07-07            445                 53045"
      ],
      "text/html": [
       "<div>\n",
       "<style scoped>\n",
       "    .dataframe tbody tr th:only-of-type {\n",
       "        vertical-align: middle;\n",
       "    }\n",
       "\n",
       "    .dataframe tbody tr th {\n",
       "        vertical-align: top;\n",
       "    }\n",
       "\n",
       "    .dataframe thead th {\n",
       "        text-align: right;\n",
       "    }\n",
       "</style>\n",
       "<table border=\"1\" class=\"dataframe\">\n",
       "  <thead>\n",
       "    <tr style=\"text-align: right;\">\n",
       "      <th></th>\n",
       "      <th>location_key</th>\n",
       "      <th>date</th>\n",
       "      <th>new_confirmed</th>\n",
       "      <th>cumulative_confirmed</th>\n",
       "    </tr>\n",
       "  </thead>\n",
       "  <tbody>\n",
       "    <tr>\n",
       "      <th>0</th>\n",
       "      <td>AD</td>\n",
       "      <td>2021-07-05</td>\n",
       "      <td>0</td>\n",
       "      <td>13991</td>\n",
       "    </tr>\n",
       "    <tr>\n",
       "      <th>1</th>\n",
       "      <td>AD</td>\n",
       "      <td>2021-10-08</td>\n",
       "      <td>0</td>\n",
       "      <td>15291</td>\n",
       "    </tr>\n",
       "    <tr>\n",
       "      <th>2</th>\n",
       "      <td>AD</td>\n",
       "      <td>2022-02-01</td>\n",
       "      <td>357</td>\n",
       "      <td>36315</td>\n",
       "    </tr>\n",
       "    <tr>\n",
       "      <th>3</th>\n",
       "      <td>AD</td>\n",
       "      <td>2021-11-22</td>\n",
       "      <td>43</td>\n",
       "      <td>16342</td>\n",
       "    </tr>\n",
       "    <tr>\n",
       "      <th>4</th>\n",
       "      <td>AD</td>\n",
       "      <td>2021-12-20</td>\n",
       "      <td>0</td>\n",
       "      <td>21062</td>\n",
       "    </tr>\n",
       "    <tr>\n",
       "      <th>5</th>\n",
       "      <td>AD</td>\n",
       "      <td>2020-11-12</td>\n",
       "      <td>109</td>\n",
       "      <td>5725</td>\n",
       "    </tr>\n",
       "    <tr>\n",
       "      <th>6</th>\n",
       "      <td>AD</td>\n",
       "      <td>2021-08-24</td>\n",
       "      <td>11</td>\n",
       "      <td>15014</td>\n",
       "    </tr>\n",
       "    <tr>\n",
       "      <th>7</th>\n",
       "      <td>AD</td>\n",
       "      <td>2021-04-16</td>\n",
       "      <td>59</td>\n",
       "      <td>12771</td>\n",
       "    </tr>\n",
       "    <tr>\n",
       "      <th>8</th>\n",
       "      <td>AE</td>\n",
       "      <td>2020-06-28</td>\n",
       "      <td>449</td>\n",
       "      <td>48246</td>\n",
       "    </tr>\n",
       "    <tr>\n",
       "      <th>9</th>\n",
       "      <td>AE</td>\n",
       "      <td>2020-07-07</td>\n",
       "      <td>445</td>\n",
       "      <td>53045</td>\n",
       "    </tr>\n",
       "  </tbody>\n",
       "</table>\n",
       "</div>"
      ]
     },
     "execution_count": 6,
     "metadata": {},
     "output_type": "execute_result"
    }
   ],
   "execution_count": 6
  },
  {
   "metadata": {},
   "cell_type": "markdown",
   "source": "##### 3.4. Sprawdź, w jaki sposób zapisywane są wartości liczbowe.",
   "id": "f4c99bc555cce2dd"
  },
  {
   "metadata": {
    "ExecuteTime": {
     "end_time": "2025-03-13T20:52:07.980920Z",
     "start_time": "2025-03-13T20:52:07.979578Z"
    }
   },
   "cell_type": "code",
   "source": "",
   "id": "ed0222cba20e7341",
   "outputs": [],
   "execution_count": null
  },
  {
   "metadata": {},
   "cell_type": "markdown",
   "source": "##### 3.5. Sprawdź, jaki przedział czasowy jest uwzględniony w danych. Dodatkowo porównaj przedziały czasowe dla przypadków nowych zachorowań, nowych śmierci oraz nowych zaszczepionych osób w danych.",
   "id": "bf4ab2aac959f048"
  },
  {
   "metadata": {
    "ExecuteTime": {
     "end_time": "2025-03-13T20:52:10.099895Z",
     "start_time": "2025-03-13T20:52:08.038238Z"
    }
   },
   "cell_type": "code",
   "source": [
    "query = \"\"\"\n",
    "    SELECT RANGE(MIN(date), MAX(DATE)) AS total_date_range,\n",
    "        RANGE(\n",
    "            MIN(CASE WHEN new_confirmed > 0 THEN date END),\n",
    "            MAX(CASE WHEN new_confirmed > 0 THEN date END)\n",
    "        ) AS new_confirmed_date_range,\n",
    "        RANGE(\n",
    "            MIN(CASE WHEN new_deceased > 0 THEN date END),\n",
    "            MAX(CASE WHEN new_deceased > 0 THEN date END)\n",
    "        ) AS new_deceased_date_range,\n",
    "        RANGE(\n",
    "            MIN(CASE WHEN new_persons_vaccinated > 0 THEN date END),\n",
    "            MAX(CASE WHEN new_persons_vaccinated > 0 THEN date END)\n",
    "        ) AS new_persons_vaccinated_date_range\n",
    "    FROM bigquery-public-data.covid19_open_data.covid19_open_data\n",
    "\"\"\"\n",
    "query_job = client.query(query)\n",
    "query_result = query_job.result()\n",
    "\n",
    "date_ranges = query_result.to_dataframe()"
   ],
   "id": "c968830c41691668",
   "outputs": [],
   "execution_count": 7
  },
  {
   "metadata": {
    "ExecuteTime": {
     "end_time": "2025-03-13T20:52:10.117397Z",
     "start_time": "2025-03-13T20:52:10.114305Z"
    }
   },
   "cell_type": "code",
   "source": [
    "date_ranges = date_ranges.T\n",
    "date_ranges.columns = ['date_range']\n",
    "\n",
    "date_ranges = date_ranges.assign(\n",
    "    start=date_ranges['date_range'].apply(lambda x: x['start']),\n",
    "    end=date_ranges['date_range'].apply(lambda x: x['end'])\n",
    ")\n",
    "\n",
    "date_ranges.drop(columns='date_range', inplace=True)"
   ],
   "id": "faa1f0f17f872c21",
   "outputs": [],
   "execution_count": 8
  },
  {
   "metadata": {
    "ExecuteTime": {
     "end_time": "2025-03-13T20:52:10.127052Z",
     "start_time": "2025-03-13T20:52:10.124584Z"
    }
   },
   "cell_type": "code",
   "source": "date_ranges",
   "id": "83d73ef1906c6fef",
   "outputs": [
    {
     "data": {
      "text/plain": [
       "                                        start         end\n",
       "total_date_range                   2020-01-01  2022-09-17\n",
       "new_confirmed_date_range           2020-01-01  2022-09-15\n",
       "new_deceased_date_range            2020-01-02  2022-09-15\n",
       "new_persons_vaccinated_date_range  2020-12-07  2022-09-14"
      ],
      "text/html": [
       "<div>\n",
       "<style scoped>\n",
       "    .dataframe tbody tr th:only-of-type {\n",
       "        vertical-align: middle;\n",
       "    }\n",
       "\n",
       "    .dataframe tbody tr th {\n",
       "        vertical-align: top;\n",
       "    }\n",
       "\n",
       "    .dataframe thead th {\n",
       "        text-align: right;\n",
       "    }\n",
       "</style>\n",
       "<table border=\"1\" class=\"dataframe\">\n",
       "  <thead>\n",
       "    <tr style=\"text-align: right;\">\n",
       "      <th></th>\n",
       "      <th>start</th>\n",
       "      <th>end</th>\n",
       "    </tr>\n",
       "  </thead>\n",
       "  <tbody>\n",
       "    <tr>\n",
       "      <th>total_date_range</th>\n",
       "      <td>2020-01-01</td>\n",
       "      <td>2022-09-17</td>\n",
       "    </tr>\n",
       "    <tr>\n",
       "      <th>new_confirmed_date_range</th>\n",
       "      <td>2020-01-01</td>\n",
       "      <td>2022-09-15</td>\n",
       "    </tr>\n",
       "    <tr>\n",
       "      <th>new_deceased_date_range</th>\n",
       "      <td>2020-01-02</td>\n",
       "      <td>2022-09-15</td>\n",
       "    </tr>\n",
       "    <tr>\n",
       "      <th>new_persons_vaccinated_date_range</th>\n",
       "      <td>2020-12-07</td>\n",
       "      <td>2022-09-14</td>\n",
       "    </tr>\n",
       "  </tbody>\n",
       "</table>\n",
       "</div>"
      ]
     },
     "execution_count": 9,
     "metadata": {},
     "output_type": "execute_result"
    }
   ],
   "execution_count": 9
  },
  {
   "metadata": {},
   "cell_type": "markdown",
   "source": "##### 3.6. Sprawdź więcej informacji (co najmniej 5 różnych) o danych dotyczących COVID-19. W tym celu nie wykonuj żadnych dodatkowych obliczeń.",
   "id": "6d285a130df3b939"
  },
  {
   "metadata": {},
   "cell_type": "markdown",
   "source": "1. Ile jest zapisanych kolumn z danymi?",
   "id": "166215890d48c6fa"
  },
  {
   "metadata": {
    "ExecuteTime": {
     "end_time": "2025-03-13T20:52:12.539451Z",
     "start_time": "2025-03-13T20:52:10.159933Z"
    }
   },
   "cell_type": "code",
   "source": [
    "query = \"\"\"\n",
    "    SELECT COUNT(DISTINCT column_name) AS columns_count\n",
    "    FROM bigquery-public-data.covid19_open_data.INFORMATION_SCHEMA.COLUMNS\n",
    "    WHERE table_name = \"covid19_open_data\"\n",
    "\"\"\"\n",
    "query_job = client.query(query)\n",
    "query_result = query_job.result()\n",
    "\n",
    "query_result.to_dataframe()"
   ],
   "id": "66472a1c303a49ed",
   "outputs": [
    {
     "data": {
      "text/plain": [
       "   columns_count\n",
       "0            701"
      ],
      "text/html": [
       "<div>\n",
       "<style scoped>\n",
       "    .dataframe tbody tr th:only-of-type {\n",
       "        vertical-align: middle;\n",
       "    }\n",
       "\n",
       "    .dataframe tbody tr th {\n",
       "        vertical-align: top;\n",
       "    }\n",
       "\n",
       "    .dataframe thead th {\n",
       "        text-align: right;\n",
       "    }\n",
       "</style>\n",
       "<table border=\"1\" class=\"dataframe\">\n",
       "  <thead>\n",
       "    <tr style=\"text-align: right;\">\n",
       "      <th></th>\n",
       "      <th>columns_count</th>\n",
       "    </tr>\n",
       "  </thead>\n",
       "  <tbody>\n",
       "    <tr>\n",
       "      <th>0</th>\n",
       "      <td>701</td>\n",
       "    </tr>\n",
       "  </tbody>\n",
       "</table>\n",
       "</div>"
      ]
     },
     "execution_count": 10,
     "metadata": {},
     "output_type": "execute_result"
    }
   ],
   "execution_count": 10
  },
  {
   "metadata": {},
   "cell_type": "markdown",
   "source": "2. Czy w identyfikatorze lokalizacji (*location_key*) oraz dacie (*date*) są brakujące wartości?",
   "id": "222e82a8534f693d"
  },
  {
   "metadata": {
    "ExecuteTime": {
     "end_time": "2025-03-13T20:52:14.689630Z",
     "start_time": "2025-03-13T20:52:12.556354Z"
    }
   },
   "cell_type": "code",
   "source": [
    "query = \"\"\"\n",
    "    SELECT COUNTIF(location_key IS NULL) AS location_key_missing_values,\n",
    "        COUNTIF(date IS NULL) AS date_missing_values\n",
    "    FROM bigquery-public-data.covid19_open_data.covid19_open_data\n",
    "\"\"\"\n",
    "query_job = client.query(query)\n",
    "query_result = query_job.result()\n",
    "\n",
    "query_result.to_dataframe()"
   ],
   "id": "bb88cba58dc1b9af",
   "outputs": [
    {
     "data": {
      "text/plain": [
       "   location_key_missing_values  date_missing_values\n",
       "0                            0                    0"
      ],
      "text/html": [
       "<div>\n",
       "<style scoped>\n",
       "    .dataframe tbody tr th:only-of-type {\n",
       "        vertical-align: middle;\n",
       "    }\n",
       "\n",
       "    .dataframe tbody tr th {\n",
       "        vertical-align: top;\n",
       "    }\n",
       "\n",
       "    .dataframe thead th {\n",
       "        text-align: right;\n",
       "    }\n",
       "</style>\n",
       "<table border=\"1\" class=\"dataframe\">\n",
       "  <thead>\n",
       "    <tr style=\"text-align: right;\">\n",
       "      <th></th>\n",
       "      <th>location_key_missing_values</th>\n",
       "      <th>date_missing_values</th>\n",
       "    </tr>\n",
       "  </thead>\n",
       "  <tbody>\n",
       "    <tr>\n",
       "      <th>0</th>\n",
       "      <td>0</td>\n",
       "      <td>0</td>\n",
       "    </tr>\n",
       "  </tbody>\n",
       "</table>\n",
       "</div>"
      ]
     },
     "execution_count": 11,
     "metadata": {},
     "output_type": "execute_result"
    }
   ],
   "execution_count": 11
  },
  {
   "metadata": {},
   "cell_type": "markdown",
   "source": "3. Ile jest zapisanych wierszy z danymi dla poszczególnych stopni agregacji względem lokalizacji?",
   "id": "8ca8f05853119348"
  },
  {
   "metadata": {
    "ExecuteTime": {
     "end_time": "2025-03-13T20:52:16.778482Z",
     "start_time": "2025-03-13T20:52:14.727321Z"
    }
   },
   "cell_type": "code",
   "source": [
    "query = \"\"\"\n",
    "    SELECT aggregation_level, COUNT(*) AS rows_count\n",
    "    FROM bigquery-public-data.covid19_open_data.covid19_open_data\n",
    "    GROUP BY aggregation_level\n",
    "    ORDER BY rows_count DESC\n",
    "\"\"\"\n",
    "query_job = client.query(query)\n",
    "query_result = query_job.result()\n",
    "\n",
    "query_result.to_dataframe()"
   ],
   "id": "da0a28a870e725a1",
   "outputs": [
    {
     "data": {
      "text/plain": [
       "   aggregation_level  rows_count\n",
       "0                  2    21061723\n",
       "1                  1     1419112\n",
       "2                  0      243786\n",
       "3                  3       31712"
      ],
      "text/html": [
       "<div>\n",
       "<style scoped>\n",
       "    .dataframe tbody tr th:only-of-type {\n",
       "        vertical-align: middle;\n",
       "    }\n",
       "\n",
       "    .dataframe tbody tr th {\n",
       "        vertical-align: top;\n",
       "    }\n",
       "\n",
       "    .dataframe thead th {\n",
       "        text-align: right;\n",
       "    }\n",
       "</style>\n",
       "<table border=\"1\" class=\"dataframe\">\n",
       "  <thead>\n",
       "    <tr style=\"text-align: right;\">\n",
       "      <th></th>\n",
       "      <th>aggregation_level</th>\n",
       "      <th>rows_count</th>\n",
       "    </tr>\n",
       "  </thead>\n",
       "  <tbody>\n",
       "    <tr>\n",
       "      <th>0</th>\n",
       "      <td>2</td>\n",
       "      <td>21061723</td>\n",
       "    </tr>\n",
       "    <tr>\n",
       "      <th>1</th>\n",
       "      <td>1</td>\n",
       "      <td>1419112</td>\n",
       "    </tr>\n",
       "    <tr>\n",
       "      <th>2</th>\n",
       "      <td>0</td>\n",
       "      <td>243786</td>\n",
       "    </tr>\n",
       "    <tr>\n",
       "      <th>3</th>\n",
       "      <td>3</td>\n",
       "      <td>31712</td>\n",
       "    </tr>\n",
       "  </tbody>\n",
       "</table>\n",
       "</div>"
      ]
     },
     "execution_count": 12,
     "metadata": {},
     "output_type": "execute_result"
    }
   ],
   "execution_count": 12
  },
  {
   "metadata": {},
   "cell_type": "markdown",
   "source": "4. Jakie są przedziały wiekowe w przypadku podziału zapisanych danych w zależności od wieku?",
   "id": "401a2c68e086c83d"
  },
  {
   "metadata": {
    "ExecuteTime": {
     "end_time": "2025-03-13T20:52:18.788448Z",
     "start_time": "2025-03-13T20:52:16.807698Z"
    }
   },
   "cell_type": "code",
   "source": [
    "query = \"\"\"\n",
    "    SELECT DISTINCT age_bin_0, age_bin_1, age_bin_2, age_bin_3, age_bin_4,\n",
    "        age_bin_5, age_bin_6, age_bin_7, age_bin_8, age_bin_9\n",
    "    FROM bigquery-public-data.covid19_open_data.covid19_open_data\n",
    "\"\"\"\n",
    "query_job = client.query(query)\n",
    "query_result = query_job.result()\n",
    "\n",
    "age_bins = query_result.to_dataframe()"
   ],
   "id": "2bc5ba83e121e6d7",
   "outputs": [],
   "execution_count": 13
  },
  {
   "metadata": {
    "ExecuteTime": {
     "end_time": "2025-03-13T20:52:18.816476Z",
     "start_time": "2025-03-13T20:52:18.814264Z"
    }
   },
   "cell_type": "code",
   "source": "age_bins.shape",
   "id": "9a1b93e216c8929a",
   "outputs": [
    {
     "data": {
      "text/plain": [
       "(41, 10)"
      ]
     },
     "execution_count": 14,
     "metadata": {},
     "output_type": "execute_result"
    }
   ],
   "execution_count": 14
  },
  {
   "metadata": {
    "ExecuteTime": {
     "end_time": "2025-03-13T20:52:18.862344Z",
     "start_time": "2025-03-13T20:52:18.858151Z"
    }
   },
   "cell_type": "code",
   "source": "age_bins.head()",
   "id": "ecb1ae963247238b",
   "outputs": [
    {
     "data": {
      "text/plain": [
       "  age_bin_0 age_bin_1 age_bin_2 age_bin_3 age_bin_4 age_bin_5 age_bin_6  \\\n",
       "0       0-9     10-19     20-29     30-39     40-49     50-59     60-69   \n",
       "1     00-17     18-24     25-49     50-64     65-74       75-      None   \n",
       "2     00-09     10-19     20-29     30-39     40-49     50-59     60-69   \n",
       "3      0-17     18-49     50-64       65-     65-79       80-      None   \n",
       "4     00-19     20-44     45-54     55-64       65-      None      None   \n",
       "\n",
       "  age_bin_7 age_bin_8 age_bin_9  \n",
       "0     70-79       80-      None  \n",
       "1      None      None      None  \n",
       "2       70-      None      None  \n",
       "3      None      None      None  \n",
       "4      None      None      None  "
      ],
      "text/html": [
       "<div>\n",
       "<style scoped>\n",
       "    .dataframe tbody tr th:only-of-type {\n",
       "        vertical-align: middle;\n",
       "    }\n",
       "\n",
       "    .dataframe tbody tr th {\n",
       "        vertical-align: top;\n",
       "    }\n",
       "\n",
       "    .dataframe thead th {\n",
       "        text-align: right;\n",
       "    }\n",
       "</style>\n",
       "<table border=\"1\" class=\"dataframe\">\n",
       "  <thead>\n",
       "    <tr style=\"text-align: right;\">\n",
       "      <th></th>\n",
       "      <th>age_bin_0</th>\n",
       "      <th>age_bin_1</th>\n",
       "      <th>age_bin_2</th>\n",
       "      <th>age_bin_3</th>\n",
       "      <th>age_bin_4</th>\n",
       "      <th>age_bin_5</th>\n",
       "      <th>age_bin_6</th>\n",
       "      <th>age_bin_7</th>\n",
       "      <th>age_bin_8</th>\n",
       "      <th>age_bin_9</th>\n",
       "    </tr>\n",
       "  </thead>\n",
       "  <tbody>\n",
       "    <tr>\n",
       "      <th>0</th>\n",
       "      <td>0-9</td>\n",
       "      <td>10-19</td>\n",
       "      <td>20-29</td>\n",
       "      <td>30-39</td>\n",
       "      <td>40-49</td>\n",
       "      <td>50-59</td>\n",
       "      <td>60-69</td>\n",
       "      <td>70-79</td>\n",
       "      <td>80-</td>\n",
       "      <td>None</td>\n",
       "    </tr>\n",
       "    <tr>\n",
       "      <th>1</th>\n",
       "      <td>00-17</td>\n",
       "      <td>18-24</td>\n",
       "      <td>25-49</td>\n",
       "      <td>50-64</td>\n",
       "      <td>65-74</td>\n",
       "      <td>75-</td>\n",
       "      <td>None</td>\n",
       "      <td>None</td>\n",
       "      <td>None</td>\n",
       "      <td>None</td>\n",
       "    </tr>\n",
       "    <tr>\n",
       "      <th>2</th>\n",
       "      <td>00-09</td>\n",
       "      <td>10-19</td>\n",
       "      <td>20-29</td>\n",
       "      <td>30-39</td>\n",
       "      <td>40-49</td>\n",
       "      <td>50-59</td>\n",
       "      <td>60-69</td>\n",
       "      <td>70-</td>\n",
       "      <td>None</td>\n",
       "      <td>None</td>\n",
       "    </tr>\n",
       "    <tr>\n",
       "      <th>3</th>\n",
       "      <td>0-17</td>\n",
       "      <td>18-49</td>\n",
       "      <td>50-64</td>\n",
       "      <td>65-</td>\n",
       "      <td>65-79</td>\n",
       "      <td>80-</td>\n",
       "      <td>None</td>\n",
       "      <td>None</td>\n",
       "      <td>None</td>\n",
       "      <td>None</td>\n",
       "    </tr>\n",
       "    <tr>\n",
       "      <th>4</th>\n",
       "      <td>00-19</td>\n",
       "      <td>20-44</td>\n",
       "      <td>45-54</td>\n",
       "      <td>55-64</td>\n",
       "      <td>65-</td>\n",
       "      <td>None</td>\n",
       "      <td>None</td>\n",
       "      <td>None</td>\n",
       "      <td>None</td>\n",
       "      <td>None</td>\n",
       "    </tr>\n",
       "  </tbody>\n",
       "</table>\n",
       "</div>"
      ]
     },
     "execution_count": 15,
     "metadata": {},
     "output_type": "execute_result"
    }
   ],
   "execution_count": 15
  },
  {
   "metadata": {},
   "cell_type": "markdown",
   "source": "5. Trendy dotyczące wyszukiwań jakich fraz są dostępne w danych?",
   "id": "4b0c08a9ba8a9212"
  },
  {
   "metadata": {
    "ExecuteTime": {
     "end_time": "2025-03-13T20:52:21.144568Z",
     "start_time": "2025-03-13T20:52:18.902086Z"
    }
   },
   "cell_type": "code",
   "source": [
    "query = \"\"\"\n",
    "    SELECT DISTINCT column_name\n",
    "    FROM bigquery-public-data.covid19_open_data.INFORMATION_SCHEMA.COLUMNS\n",
    "    WHERE table_name = \"covid19_open_data\"\n",
    "        AND column_name LIKE 'search_trends_%'\n",
    "\"\"\"\n",
    "query_job = client.query(query)\n",
    "query_result = query_job.result()\n",
    "\n",
    "df_trends = query_result.to_dataframe()\n",
    "df_trends['column_name'] = df_trends['column_name'].str.replace('search_trends_', '')\n",
    "\n",
    "df_trends['column_name'].unique()"
   ],
   "id": "6f81462f10cc3765",
   "outputs": [
    {
     "data": {
      "text/plain": [
       "array(['abdominal_obesity', 'abdominal_pain', 'acne', 'actinic_keratosis',\n",
       "       'acute_bronchitis', 'adrenal_crisis', 'ageusia', 'alcoholism',\n",
       "       'allergic_conjunctivitis', 'allergy', 'amblyopia', 'amenorrhea',\n",
       "       'amnesia', 'anal_fissure', 'anaphylaxis', 'anemia',\n",
       "       'angina_pectoris', 'angioedema', 'angular_cheilitis', 'anosmia',\n",
       "       'anxiety', 'aphasia', 'aphonia', 'apnea', 'arthralgia',\n",
       "       'arthritis', 'ascites', 'asperger_syndrome', 'asphyxia', 'asthma',\n",
       "       'astigmatism', 'ataxia', 'atheroma',\n",
       "       'attention_deficit_hyperactivity_disorder',\n",
       "       'auditory_hallucination', 'autoimmune_disease',\n",
       "       'avoidant_personality_disorder', 'back_pain',\n",
       "       'bacterial_vaginosis', 'balance_disorder', 'beaus_lines',\n",
       "       'bells_palsy', 'biliary_colic', 'binge_eating', 'bleeding',\n",
       "       'bleeding_on_probing', 'blepharospasm', 'bloating',\n",
       "       'blood_in_stool', 'blurred_vision', 'blushing', 'boil',\n",
       "       'bone_fracture', 'bone_tumor', 'bowel_obstruction', 'bradycardia',\n",
       "       'braxton_hicks_contractions', 'breakthrough_bleeding',\n",
       "       'breast_pain', 'bronchitis', 'bruise', 'bruxism', 'bunion', 'burn',\n",
       "       'burning_chest_pain', 'burning_mouth_syndrome', 'candidiasis',\n",
       "       'canker_sore', 'cardiac_arrest', 'carpal_tunnel_syndrome',\n",
       "       'cataplexy', 'cataract', 'chancre', 'cheilitis', 'chest_pain',\n",
       "       'chills', 'chorea', 'chronic_pain', 'cirrhosis',\n",
       "       'cleft_lip_and_cleft_palate', 'clouding_of_consciousness',\n",
       "       'cluster_headache', 'colitis', 'coma', 'common_cold',\n",
       "       'compulsive_behavior', 'compulsive_hoarding', 'confusion',\n",
       "       'congenital_heart_defect', 'conjunctivitis', 'constipation',\n",
       "       'convulsion', 'cough', 'crackles', 'cramp', 'crepitus', 'croup',\n",
       "       'cyanosis', 'dandruff', 'delayed_onset_muscle_soreness',\n",
       "       'dementia', 'dentin_hypersensitivity', 'depersonalization',\n",
       "       'depression', 'dermatitis', 'desquamation',\n",
       "       'developmental_disability', 'diabetes', 'diabetic_ketoacidosis',\n",
       "       'diarrhea', 'dizziness', 'dry_eye_syndrome', 'dysautonomia',\n",
       "       'dysgeusia', 'dysmenorrhea', 'dyspareunia', 'dysphagia',\n",
       "       'dysphoria', 'dystonia', 'dysuria', 'ear_pain', 'eczema', 'edema',\n",
       "       'encephalitis', 'encephalopathy', 'epidermoid_cyst', 'epilepsy',\n",
       "       'epiphora', 'erectile_dysfunction', 'erythema',\n",
       "       'erythema_chronicum_migrans', 'esophagitis',\n",
       "       'excessive_daytime_sleepiness', 'eye_pain', 'eye_strain',\n",
       "       'facial_nerve_paralysis', 'facial_swelling', 'fasciculation',\n",
       "       'fatigue', 'fatty_liver_disease', 'fecal_incontinence', 'fever',\n",
       "       'fibrillation', 'fibrocystic_breast_changes', 'fibromyalgia',\n",
       "       'flatulence', 'floater', 'focal_seizure', 'folate_deficiency',\n",
       "       'food_craving', 'food_intolerance', 'frequent_urination',\n",
       "       'gastroesophageal_reflux_disease', 'gastroparesis',\n",
       "       'generalized_anxiety_disorder', 'genital_wart',\n",
       "       'gingival_recession', 'gingivitis', 'globus_pharyngis', 'goitre',\n",
       "       'gout', 'grandiosity', 'granuloma', 'guilt', 'hair_loss',\n",
       "       'halitosis', 'hay_fever', 'headache', 'heart_arrhythmia',\n",
       "       'heart_murmur', 'heartburn', 'hematochezia', 'hematoma',\n",
       "       'hematuria', 'hemolysis', 'hemoptysis', 'hemorrhoids',\n",
       "       'hepatic_encephalopathy', 'hepatitis', 'hepatotoxicity', 'hiccup',\n",
       "       'hip_pain', 'hives', 'hot_flash', 'hydrocephalus',\n",
       "       'hypercalcaemia', 'hypercapnia', 'hypercholesterolemia',\n",
       "       'hyperemesis_gravidarum', 'hyperglycemia', 'hyperhidrosis',\n",
       "       'hyperkalemia', 'hyperlipidemia', 'hypermobility',\n",
       "       'hyperpigmentation', 'hypersomnia', 'hypertension', 'hyperthermia',\n",
       "       'hyperthyroidism', 'hypertriglyceridemia', 'hypertrophy',\n",
       "       'hyperventilation', 'hypocalcaemia', 'hypochondriasis',\n",
       "       'hypoglycemia', 'hypogonadism', 'hypokalemia', 'hypomania',\n",
       "       'hyponatremia', 'hypotension', 'hypothyroidism', 'hypoxemia',\n",
       "       'hypoxia', 'impetigo', 'implantation_bleeding', 'impulsivity',\n",
       "       'indigestion', 'infection', 'inflammation',\n",
       "       'inflammatory_bowel_disease', 'ingrown_hair', 'insomnia',\n",
       "       'insulin_resistance', 'intermenstrual_bleeding',\n",
       "       'intracranial_pressure', 'iron_deficiency',\n",
       "       'irregular_menstruation', 'itch', 'jaundice', 'kidney_failure',\n",
       "       'kidney_stone', 'knee_pain', 'kyphosis', 'lactose_intolerance',\n",
       "       'laryngitis', 'leg_cramps', 'lesion', 'leukorrhea',\n",
       "       'lightheadedness', 'low_back_pain', 'low_grade_fever',\n",
       "       'lymphedema', 'major_depressive_disorder', 'malabsorption',\n",
       "       'male_infertility', 'manic_disorder', 'melasma', 'melena',\n",
       "       'meningitis', 'menorrhagia', 'middle_back_pain', 'migraine',\n",
       "       'milium', 'mitral_insufficiency', 'mood_disorder', 'mood_swing',\n",
       "       'morning_sickness', 'motion_sickness', 'mouth_ulcer',\n",
       "       'muscle_atrophy', 'muscle_weakness', 'myalgia', 'mydriasis',\n",
       "       'myocardial_infarction', 'myoclonus', 'nasal_congestion',\n",
       "       'nasal_polyp', 'nausea', 'neck_mass', 'neck_pain',\n",
       "       'neonatal_jaundice', 'nerve_injury', 'neuralgia', 'neutropenia',\n",
       "       'night_sweats', 'night_terror', 'nocturnal_enuresis', 'nodule',\n",
       "       'nosebleed', 'nystagmus', 'obesity', 'onychorrhexis',\n",
       "       'oral_candidiasis', 'orthostatic_hypotension', 'osteopenia',\n",
       "       'osteophyte', 'osteoporosis', 'otitis', 'otitis_externa',\n",
       "       'otitis_media', 'pain', 'palpitations', 'pancreatitis',\n",
       "       'panic_attack', 'papule', 'paranoia', 'paresthesia',\n",
       "       'pelvic_inflammatory_disease', 'pericarditis',\n",
       "       'periodontal_disease', 'periorbital_puffiness',\n",
       "       'peripheral_neuropathy', 'perspiration', 'petechia', 'phlegm',\n",
       "       'photodermatitis', 'photophobia', 'photopsia', 'pleural_effusion',\n",
       "       'pleurisy', 'pneumonia', 'podalgia', 'polycythemia', 'polydipsia',\n",
       "       'polyneuropathy', 'polyuria', 'poor_posture', 'post_nasal_drip',\n",
       "       'postural_orthostatic_tachycardia_syndrome', 'prediabetes',\n",
       "       'proteinuria', 'pruritus_ani', 'psychosis', 'ptosis',\n",
       "       'pulmonary_edema', 'pulmonary_hypertension', 'purpura', 'pus',\n",
       "       'pyelonephritis', 'radiculopathy', 'rectal_pain',\n",
       "       'rectal_prolapse', 'red_eye', 'renal_colic',\n",
       "       'restless_legs_syndrome', 'rheum', 'rhinitis', 'rhinorrhea',\n",
       "       'rosacea', 'round_ligament_pain', 'rumination', 'scar', 'sciatica',\n",
       "       'scoliosis', 'seborrheic_dermatitis', 'self_harm',\n",
       "       'sensitivity_to_sound', 'sexual_dysfunction', 'shallow_breathing',\n",
       "       'sharp_pain', 'shivering', 'shortness_of_breath', 'shyness',\n",
       "       'sinusitis', 'skin_condition', 'skin_rash', 'skin_tag',\n",
       "       'skin_ulcer', 'sleep_apnea', 'sleep_deprivation', 'sleep_disorder',\n",
       "       'snoring', 'sore_throat', 'spasticity', 'splenomegaly', 'sputum',\n",
       "       'stomach_rumble', 'strabismus', 'stretch_marks', 'stridor',\n",
       "       'stroke', 'stuttering', 'subdural_hematoma', 'suicidal_ideation',\n",
       "       'swelling', 'swollen_feet', 'swollen_lymph_nodes', 'syncope',\n",
       "       'tachycardia', 'tachypnea', 'telangiectasia', 'tenderness',\n",
       "       'testicular_pain', 'throat_irritation', 'thrombocytopenia',\n",
       "       'thyroid_nodule', 'tic', 'tinnitus', 'tonsillitis', 'toothache',\n",
       "       'tremor', 'trichoptilosis', 'tumor', 'type_2_diabetes',\n",
       "       'unconsciousness', 'underweight',\n",
       "       'upper_respiratory_tract_infection', 'urethritis',\n",
       "       'urinary_incontinence', 'urinary_tract_infection',\n",
       "       'urinary_urgency', 'uterine_contraction', 'vaginal_bleeding',\n",
       "       'vaginal_discharge', 'vaginitis', 'varicose_veins', 'vasculitis',\n",
       "       'ventricular_fibrillation', 'ventricular_tachycardia', 'vertigo',\n",
       "       'viral_pneumonia', 'visual_acuity', 'vomiting', 'wart',\n",
       "       'water_retention', 'weakness', 'weight_gain', 'wheeze',\n",
       "       'xeroderma', 'xerostomia', 'yawn'], dtype=object)"
      ]
     },
     "execution_count": 16,
     "metadata": {},
     "output_type": "execute_result"
    }
   ],
   "execution_count": 16
  },
  {
   "metadata": {},
   "cell_type": "markdown",
   "source": "## Część 4",
   "id": "eae193410f58af27"
  },
  {
   "metadata": {},
   "cell_type": "markdown",
   "source": "Przeanalizuj poniższe przypadki. Zastanów się, jakie dane potrzebujesz do każdego z nich, a następnie zapisz je w osobnych, jak najprostszych obiektach DataFrame. Na tym etapie nie przetwarzaj ich. Zadbaj o czystość danych, m.in. usuń niepotrzebne puste wartości i duplikaty, zunifikuj sposób podawania informacji, zaproponuj sposób naprawy błędnych danych. Gotowe dane z obiektów DataFrame zapisz w osobnych plikach CSV.",
   "id": "d4762bc5686e7f3"
  },
  {
   "metadata": {},
   "cell_type": "markdown",
   "source": "##### **4.1.** Chcemy posiadać podstawowe dane o wszystkich krajach świata, które będą zrozumiałe dla człowieka oraz uniwersalne i potencjalnie przyszłościowe do dalszego przetwarzania.",
   "id": "5a3b074045ab3f8b"
  },
  {
   "metadata": {
    "ExecuteTime": {
     "end_time": "2025-03-13T20:53:39.076427Z",
     "start_time": "2025-03-13T20:52:21.188221Z"
    }
   },
   "cell_type": "code",
   "source": [
    "query = \"\"\"\n",
    "    SELECT location_key, date,\n",
    "        country_name, aggregation_level,\n",
    "        iso_3166_1_alpha_2, iso_3166_1_alpha_3,\n",
    "        subregion1_code, subregion1_name,\n",
    "        subregion2_code, subregion2_name,\n",
    "        # physicians_per_1000, nurses_per_1000,\n",
    "        # hospital_beds_per_1000, health_expenditure_usd,\n",
    "        # smoking_prevalence, diabetes_prevalence,\n",
    "        # population, population_density\n",
    "    FROM bigquery-public-data.covid19_open_data.covid19_open_data\n",
    "\"\"\"\n",
    "query_job = client.query(query)\n",
    "query_result = query_job.result()\n",
    "\n",
    "df_countries = query_result.to_dataframe()\n",
    "df_countries.drop_duplicates(inplace=True)"
   ],
   "id": "b601c278ffe78ed",
   "outputs": [],
   "execution_count": 18
  },
  {
   "metadata": {
    "ExecuteTime": {
     "end_time": "2025-03-13T20:53:39.117292Z",
     "start_time": "2025-03-13T20:53:39.111931Z"
    }
   },
   "cell_type": "code",
   "source": "df_countries.info()",
   "id": "f5d7f7483173dbb7",
   "outputs": [
    {
     "name": "stdout",
     "output_type": "stream",
     "text": [
      "<class 'pandas.core.frame.DataFrame'>\n",
      "RangeIndex: 22756333 entries, 0 to 22756332\n",
      "Data columns (total 10 columns):\n",
      " #   Column              Dtype \n",
      "---  ------              ----- \n",
      " 0   location_key        object\n",
      " 1   date                dbdate\n",
      " 2   country_name        object\n",
      " 3   aggregation_level   Int64 \n",
      " 4   iso_3166_1_alpha_2  object\n",
      " 5   iso_3166_1_alpha_3  object\n",
      " 6   subregion1_code     object\n",
      " 7   subregion1_name     object\n",
      " 8   subregion2_code     object\n",
      " 9   subregion2_name     object\n",
      "dtypes: Int64(1), dbdate(1), object(8)\n",
      "memory usage: 1.7+ GB\n"
     ]
    }
   ],
   "execution_count": 19
  },
  {
   "metadata": {
    "ExecuteTime": {
     "end_time": "2025-03-13T20:53:39.158402Z",
     "start_time": "2025-03-13T20:53:39.153812Z"
    }
   },
   "cell_type": "code",
   "source": "df_countries.head()",
   "id": "e45614b97231aa6c",
   "outputs": [
    {
     "data": {
      "text/plain": [
       "  location_key        date    country_name  aggregation_level  \\\n",
       "0    CZ_53_533  2021-09-23  Czech Republic                  2   \n",
       "1    CZ_71_713  2021-09-09  Czech Republic                  2   \n",
       "2        CZ_42  2021-04-06  Czech Republic                  1   \n",
       "3        TH_66  2021-07-07        Thailand                  1   \n",
       "4    CZ_20_203  2020-09-15  Czech Republic                  2   \n",
       "\n",
       "  iso_3166_1_alpha_2 iso_3166_1_alpha_3 subregion1_code  \\\n",
       "0                 CZ                CZE              53   \n",
       "1                 CZ                CZE              71   \n",
       "2                 CZ                CZE              42   \n",
       "3                 TH                THA              66   \n",
       "4                 CZ                CZE              20   \n",
       "\n",
       "           subregion1_name subregion2_code     subregion2_name  \n",
       "0         Pardubice Region             533    Svitavy District  \n",
       "1           Olomouc Region             713  Prostějov District  \n",
       "2    Ústí nad Labem Region            None                None  \n",
       "3                  Phichit            None                None  \n",
       "4  Central Bohemian Region             203     Kladno District  "
      ],
      "text/html": [
       "<div>\n",
       "<style scoped>\n",
       "    .dataframe tbody tr th:only-of-type {\n",
       "        vertical-align: middle;\n",
       "    }\n",
       "\n",
       "    .dataframe tbody tr th {\n",
       "        vertical-align: top;\n",
       "    }\n",
       "\n",
       "    .dataframe thead th {\n",
       "        text-align: right;\n",
       "    }\n",
       "</style>\n",
       "<table border=\"1\" class=\"dataframe\">\n",
       "  <thead>\n",
       "    <tr style=\"text-align: right;\">\n",
       "      <th></th>\n",
       "      <th>location_key</th>\n",
       "      <th>date</th>\n",
       "      <th>country_name</th>\n",
       "      <th>aggregation_level</th>\n",
       "      <th>iso_3166_1_alpha_2</th>\n",
       "      <th>iso_3166_1_alpha_3</th>\n",
       "      <th>subregion1_code</th>\n",
       "      <th>subregion1_name</th>\n",
       "      <th>subregion2_code</th>\n",
       "      <th>subregion2_name</th>\n",
       "    </tr>\n",
       "  </thead>\n",
       "  <tbody>\n",
       "    <tr>\n",
       "      <th>0</th>\n",
       "      <td>CZ_53_533</td>\n",
       "      <td>2021-09-23</td>\n",
       "      <td>Czech Republic</td>\n",
       "      <td>2</td>\n",
       "      <td>CZ</td>\n",
       "      <td>CZE</td>\n",
       "      <td>53</td>\n",
       "      <td>Pardubice Region</td>\n",
       "      <td>533</td>\n",
       "      <td>Svitavy District</td>\n",
       "    </tr>\n",
       "    <tr>\n",
       "      <th>1</th>\n",
       "      <td>CZ_71_713</td>\n",
       "      <td>2021-09-09</td>\n",
       "      <td>Czech Republic</td>\n",
       "      <td>2</td>\n",
       "      <td>CZ</td>\n",
       "      <td>CZE</td>\n",
       "      <td>71</td>\n",
       "      <td>Olomouc Region</td>\n",
       "      <td>713</td>\n",
       "      <td>Prostějov District</td>\n",
       "    </tr>\n",
       "    <tr>\n",
       "      <th>2</th>\n",
       "      <td>CZ_42</td>\n",
       "      <td>2021-04-06</td>\n",
       "      <td>Czech Republic</td>\n",
       "      <td>1</td>\n",
       "      <td>CZ</td>\n",
       "      <td>CZE</td>\n",
       "      <td>42</td>\n",
       "      <td>Ústí nad Labem Region</td>\n",
       "      <td>None</td>\n",
       "      <td>None</td>\n",
       "    </tr>\n",
       "    <tr>\n",
       "      <th>3</th>\n",
       "      <td>TH_66</td>\n",
       "      <td>2021-07-07</td>\n",
       "      <td>Thailand</td>\n",
       "      <td>1</td>\n",
       "      <td>TH</td>\n",
       "      <td>THA</td>\n",
       "      <td>66</td>\n",
       "      <td>Phichit</td>\n",
       "      <td>None</td>\n",
       "      <td>None</td>\n",
       "    </tr>\n",
       "    <tr>\n",
       "      <th>4</th>\n",
       "      <td>CZ_20_203</td>\n",
       "      <td>2020-09-15</td>\n",
       "      <td>Czech Republic</td>\n",
       "      <td>2</td>\n",
       "      <td>CZ</td>\n",
       "      <td>CZE</td>\n",
       "      <td>20</td>\n",
       "      <td>Central Bohemian Region</td>\n",
       "      <td>203</td>\n",
       "      <td>Kladno District</td>\n",
       "    </tr>\n",
       "  </tbody>\n",
       "</table>\n",
       "</div>"
      ]
     },
     "execution_count": 20,
     "metadata": {},
     "output_type": "execute_result"
    }
   ],
   "execution_count": 20
  },
  {
   "metadata": {
    "ExecuteTime": {
     "end_time": "2025-03-13T20:53:42.611469Z",
     "start_time": "2025-03-13T20:53:39.185050Z"
    }
   },
   "cell_type": "code",
   "source": "df_countries.isna().sum()",
   "id": "4df5965ecc0be9c0",
   "outputs": [
    {
     "data": {
      "text/plain": [
       "location_key                0\n",
       "date                        0\n",
       "country_name                0\n",
       "aggregation_level           0\n",
       "iso_3166_1_alpha_2        991\n",
       "iso_3166_1_alpha_3        991\n",
       "subregion1_code        244777\n",
       "subregion1_name        244777\n",
       "subregion2_code       1694610\n",
       "subregion2_name       1694610\n",
       "dtype: int64"
      ]
     },
     "execution_count": 21,
     "metadata": {},
     "output_type": "execute_result"
    }
   ],
   "execution_count": 21
  },
  {
   "metadata": {
    "ExecuteTime": {
     "end_time": "2025-03-13T20:53:42.913492Z",
     "start_time": "2025-03-13T20:53:42.626736Z"
    }
   },
   "cell_type": "code",
   "source": "df_countries.describe()",
   "id": "c6998f7635708bcc",
   "outputs": [
    {
     "data": {
      "text/plain": [
       "       aggregation_level\n",
       "count         22756333.0\n",
       "mean            1.917607\n",
       "std             0.315939\n",
       "min                  0.0\n",
       "25%                  2.0\n",
       "50%                  2.0\n",
       "75%                  2.0\n",
       "max                  3.0"
      ],
      "text/html": [
       "<div>\n",
       "<style scoped>\n",
       "    .dataframe tbody tr th:only-of-type {\n",
       "        vertical-align: middle;\n",
       "    }\n",
       "\n",
       "    .dataframe tbody tr th {\n",
       "        vertical-align: top;\n",
       "    }\n",
       "\n",
       "    .dataframe thead th {\n",
       "        text-align: right;\n",
       "    }\n",
       "</style>\n",
       "<table border=\"1\" class=\"dataframe\">\n",
       "  <thead>\n",
       "    <tr style=\"text-align: right;\">\n",
       "      <th></th>\n",
       "      <th>aggregation_level</th>\n",
       "    </tr>\n",
       "  </thead>\n",
       "  <tbody>\n",
       "    <tr>\n",
       "      <th>count</th>\n",
       "      <td>22756333.0</td>\n",
       "    </tr>\n",
       "    <tr>\n",
       "      <th>mean</th>\n",
       "      <td>1.917607</td>\n",
       "    </tr>\n",
       "    <tr>\n",
       "      <th>std</th>\n",
       "      <td>0.315939</td>\n",
       "    </tr>\n",
       "    <tr>\n",
       "      <th>min</th>\n",
       "      <td>0.0</td>\n",
       "    </tr>\n",
       "    <tr>\n",
       "      <th>25%</th>\n",
       "      <td>2.0</td>\n",
       "    </tr>\n",
       "    <tr>\n",
       "      <th>50%</th>\n",
       "      <td>2.0</td>\n",
       "    </tr>\n",
       "    <tr>\n",
       "      <th>75%</th>\n",
       "      <td>2.0</td>\n",
       "    </tr>\n",
       "    <tr>\n",
       "      <th>max</th>\n",
       "      <td>3.0</td>\n",
       "    </tr>\n",
       "  </tbody>\n",
       "</table>\n",
       "</div>"
      ]
     },
     "execution_count": 22,
     "metadata": {},
     "output_type": "execute_result"
    }
   ],
   "execution_count": 22
  },
  {
   "metadata": {
    "ExecuteTime": {
     "end_time": "2025-03-13T20:53:42.948110Z",
     "start_time": "2025-03-13T20:53:42.946200Z"
    }
   },
   "cell_type": "code",
   "source": "# df_countries.to_csv('output/countries.csv')",
   "id": "f0cd31ba8498ac46",
   "outputs": [],
   "execution_count": 23
  },
  {
   "metadata": {},
   "cell_type": "markdown",
   "source": "##### **4.2.** Chcemy wygenerować statystyki dotyczące zachorowań na COVID-19 na całym świecie.",
   "id": "fab65263fa2e2bd7"
  },
  {
   "metadata": {
    "ExecuteTime": {
     "end_time": "2025-03-13T20:53:59.608534Z",
     "start_time": "2025-03-13T20:53:42.988988Z"
    }
   },
   "cell_type": "code",
   "source": [
    "query = \"\"\"\n",
    "    SELECT location_key, date,\n",
    "        new_confirmed, cumulative_confirmed,\n",
    "        # new_confirmed_age_0, new_confirmed_age_1, new_confirmed_age_2,\n",
    "        # new_confirmed_age_3, new_confirmed_age_4, new_confirmed_age_5,\n",
    "        # new_confirmed_age_6, new_confirmed_age_7, new_confirmed_age_8,\n",
    "        # new_confirmed_age_9, cumulative_confirmed_age_0, cumulative_confirmed_age_1,\n",
    "        # cumulative_confirmed_age_2, cumulative_confirmed_age_3, cumulative_confirmed_age_4,\n",
    "        # cumulative_confirmed_age_5, cumulative_confirmed_age_6, cumulative_confirmed_age_7,\n",
    "        # cumulative_confirmed_age_8, cumulative_confirmed_age_9,\n",
    "        new_confirmed_male, new_confirmed_female,\n",
    "        cumulative_confirmed_male, cumulative_confirmed_female\n",
    "    FROM bigquery-public-data.covid19_open_data.covid19_open_data\n",
    "    WHERE COALESCE(\n",
    "        new_confirmed, cumulative_confirmed,\n",
    "        # new_confirmed_age_0, new_confirmed_age_1, new_confirmed_age_2,\n",
    "        # new_confirmed_age_3, new_confirmed_age_4, new_confirmed_age_5,\n",
    "        # new_confirmed_age_6, new_confirmed_age_7, new_confirmed_age_8,\n",
    "        # new_confirmed_age_9, cumulative_confirmed_age_0, cumulative_confirmed_age_1,\n",
    "        # cumulative_confirmed_age_2, cumulative_confirmed_age_3, cumulative_confirmed_age_4,\n",
    "        # cumulative_confirmed_age_5, cumulative_confirmed_age_6, cumulative_confirmed_age_7,\n",
    "        # cumulative_confirmed_age_8, cumulative_confirmed_age_9,\n",
    "        new_confirmed_male, new_confirmed_female,\n",
    "        cumulative_confirmed_male, cumulative_confirmed_female\n",
    "    ) IS NOT NULL\n",
    "\"\"\"\n",
    "query_job = client.query(query)\n",
    "query_result = query_job.result()\n",
    "\n",
    "df_cases = query_result.to_dataframe()\n",
    "df_cases.drop_duplicates(inplace=True)"
   ],
   "id": "325ff6422494c06e",
   "outputs": [],
   "execution_count": 24
  },
  {
   "metadata": {
    "ExecuteTime": {
     "end_time": "2025-03-13T20:53:59.619822Z",
     "start_time": "2025-03-13T20:53:59.615977Z"
    }
   },
   "cell_type": "code",
   "source": "df_cases.info()",
   "id": "36925012ee16bc2b",
   "outputs": [
    {
     "name": "stdout",
     "output_type": "stream",
     "text": [
      "<class 'pandas.core.frame.DataFrame'>\n",
      "RangeIndex: 12482632 entries, 0 to 12482631\n",
      "Data columns (total 8 columns):\n",
      " #   Column                       Dtype \n",
      "---  ------                       ----- \n",
      " 0   location_key                 object\n",
      " 1   date                         dbdate\n",
      " 2   new_confirmed                Int64 \n",
      " 3   cumulative_confirmed         Int64 \n",
      " 4   new_confirmed_male           Int64 \n",
      " 5   new_confirmed_female         Int64 \n",
      " 6   cumulative_confirmed_male    Int64 \n",
      " 7   cumulative_confirmed_female  Int64 \n",
      "dtypes: Int64(6), dbdate(1), object(1)\n",
      "memory usage: 833.3+ MB\n"
     ]
    }
   ],
   "execution_count": 25
  },
  {
   "metadata": {
    "ExecuteTime": {
     "end_time": "2025-03-13T20:53:59.652435Z",
     "start_time": "2025-03-13T20:53:59.647557Z"
    }
   },
   "cell_type": "code",
   "source": "df_cases.head()",
   "id": "872e5f0c50d8282",
   "outputs": [
    {
     "data": {
      "text/plain": [
       "   location_key        date  new_confirmed  cumulative_confirmed  \\\n",
       "0  BR_MG_312680  2021-11-19              0                   618   \n",
       "1  BR_MG_314000  2022-08-17              0                 17100   \n",
       "2  BR_MG_314140  2022-07-29              0                  1953   \n",
       "3  BR_MG_314550  2021-05-08              1                   132   \n",
       "4  BR_MG_314587  2020-06-13              0                     3   \n",
       "\n",
       "   new_confirmed_male  new_confirmed_female  cumulative_confirmed_male  \\\n",
       "0                <NA>                  <NA>                       <NA>   \n",
       "1                <NA>                  <NA>                       <NA>   \n",
       "2                <NA>                  <NA>                       <NA>   \n",
       "3                <NA>                  <NA>                       <NA>   \n",
       "4                <NA>                  <NA>                       <NA>   \n",
       "\n",
       "   cumulative_confirmed_female  \n",
       "0                         <NA>  \n",
       "1                         <NA>  \n",
       "2                         <NA>  \n",
       "3                         <NA>  \n",
       "4                         <NA>  "
      ],
      "text/html": [
       "<div>\n",
       "<style scoped>\n",
       "    .dataframe tbody tr th:only-of-type {\n",
       "        vertical-align: middle;\n",
       "    }\n",
       "\n",
       "    .dataframe tbody tr th {\n",
       "        vertical-align: top;\n",
       "    }\n",
       "\n",
       "    .dataframe thead th {\n",
       "        text-align: right;\n",
       "    }\n",
       "</style>\n",
       "<table border=\"1\" class=\"dataframe\">\n",
       "  <thead>\n",
       "    <tr style=\"text-align: right;\">\n",
       "      <th></th>\n",
       "      <th>location_key</th>\n",
       "      <th>date</th>\n",
       "      <th>new_confirmed</th>\n",
       "      <th>cumulative_confirmed</th>\n",
       "      <th>new_confirmed_male</th>\n",
       "      <th>new_confirmed_female</th>\n",
       "      <th>cumulative_confirmed_male</th>\n",
       "      <th>cumulative_confirmed_female</th>\n",
       "    </tr>\n",
       "  </thead>\n",
       "  <tbody>\n",
       "    <tr>\n",
       "      <th>0</th>\n",
       "      <td>BR_MG_312680</td>\n",
       "      <td>2021-11-19</td>\n",
       "      <td>0</td>\n",
       "      <td>618</td>\n",
       "      <td>&lt;NA&gt;</td>\n",
       "      <td>&lt;NA&gt;</td>\n",
       "      <td>&lt;NA&gt;</td>\n",
       "      <td>&lt;NA&gt;</td>\n",
       "    </tr>\n",
       "    <tr>\n",
       "      <th>1</th>\n",
       "      <td>BR_MG_314000</td>\n",
       "      <td>2022-08-17</td>\n",
       "      <td>0</td>\n",
       "      <td>17100</td>\n",
       "      <td>&lt;NA&gt;</td>\n",
       "      <td>&lt;NA&gt;</td>\n",
       "      <td>&lt;NA&gt;</td>\n",
       "      <td>&lt;NA&gt;</td>\n",
       "    </tr>\n",
       "    <tr>\n",
       "      <th>2</th>\n",
       "      <td>BR_MG_314140</td>\n",
       "      <td>2022-07-29</td>\n",
       "      <td>0</td>\n",
       "      <td>1953</td>\n",
       "      <td>&lt;NA&gt;</td>\n",
       "      <td>&lt;NA&gt;</td>\n",
       "      <td>&lt;NA&gt;</td>\n",
       "      <td>&lt;NA&gt;</td>\n",
       "    </tr>\n",
       "    <tr>\n",
       "      <th>3</th>\n",
       "      <td>BR_MG_314550</td>\n",
       "      <td>2021-05-08</td>\n",
       "      <td>1</td>\n",
       "      <td>132</td>\n",
       "      <td>&lt;NA&gt;</td>\n",
       "      <td>&lt;NA&gt;</td>\n",
       "      <td>&lt;NA&gt;</td>\n",
       "      <td>&lt;NA&gt;</td>\n",
       "    </tr>\n",
       "    <tr>\n",
       "      <th>4</th>\n",
       "      <td>BR_MG_314587</td>\n",
       "      <td>2020-06-13</td>\n",
       "      <td>0</td>\n",
       "      <td>3</td>\n",
       "      <td>&lt;NA&gt;</td>\n",
       "      <td>&lt;NA&gt;</td>\n",
       "      <td>&lt;NA&gt;</td>\n",
       "      <td>&lt;NA&gt;</td>\n",
       "    </tr>\n",
       "  </tbody>\n",
       "</table>\n",
       "</div>"
      ]
     },
     "execution_count": 26,
     "metadata": {},
     "output_type": "execute_result"
    }
   ],
   "execution_count": 26
  },
  {
   "metadata": {
    "ExecuteTime": {
     "end_time": "2025-03-13T20:53:59.959952Z",
     "start_time": "2025-03-13T20:53:59.689200Z"
    }
   },
   "cell_type": "code",
   "source": "df_cases.isna().sum()",
   "id": "fde4f5000287b746",
   "outputs": [
    {
     "data": {
      "text/plain": [
       "location_key                         0\n",
       "date                                 0\n",
       "new_confirmed                     7288\n",
       "cumulative_confirmed            156035\n",
       "new_confirmed_male             9072403\n",
       "new_confirmed_female           9078891\n",
       "cumulative_confirmed_male      8823544\n",
       "cumulative_confirmed_female    8824231\n",
       "dtype: int64"
      ]
     },
     "execution_count": 27,
     "metadata": {},
     "output_type": "execute_result"
    }
   ],
   "execution_count": 27
  },
  {
   "metadata": {
    "ExecuteTime": {
     "end_time": "2025-03-13T20:54:01.188191Z",
     "start_time": "2025-03-13T20:54:00.018265Z"
    }
   },
   "cell_type": "code",
   "source": "df_cases.describe()",
   "id": "f7fd956ce6fbfb5a",
   "outputs": [
    {
     "data": {
      "text/plain": [
       "       new_confirmed  cumulative_confirmed  new_confirmed_male  \\\n",
       "count     12475344.0            12326597.0           3410229.0   \n",
       "mean      111.212188          35383.553739           44.010911   \n",
       "std     11659.244534         613449.698207          1345.94701   \n",
       "min       -5045418.0                   0.0             -2080.0   \n",
       "25%              0.0                 201.0                 0.0   \n",
       "50%              1.0                1033.0                 1.0   \n",
       "75%             11.0                5001.0                 6.0   \n",
       "max        5047094.0            92440495.0            868015.0   \n",
       "\n",
       "       new_confirmed_female  cumulative_confirmed_male  \\\n",
       "count             3403741.0                  3659088.0   \n",
       "mean              46.689347               10809.536452   \n",
       "std             1529.400253               297408.87628   \n",
       "min                 -2078.0                        0.0   \n",
       "25%                     0.0                       63.0   \n",
       "50%                     2.0                      273.0   \n",
       "75%                     6.0                     1328.0   \n",
       "max                971715.0                 35432377.0   \n",
       "\n",
       "       cumulative_confirmed_female  \n",
       "count                    3658401.0  \n",
       "mean                  11278.559864  \n",
       "std                  333825.189107  \n",
       "min                            0.0  \n",
       "25%                           63.0  \n",
       "50%                          289.0  \n",
       "75%                         1405.0  \n",
       "max                     41162212.0  "
      ],
      "text/html": [
       "<div>\n",
       "<style scoped>\n",
       "    .dataframe tbody tr th:only-of-type {\n",
       "        vertical-align: middle;\n",
       "    }\n",
       "\n",
       "    .dataframe tbody tr th {\n",
       "        vertical-align: top;\n",
       "    }\n",
       "\n",
       "    .dataframe thead th {\n",
       "        text-align: right;\n",
       "    }\n",
       "</style>\n",
       "<table border=\"1\" class=\"dataframe\">\n",
       "  <thead>\n",
       "    <tr style=\"text-align: right;\">\n",
       "      <th></th>\n",
       "      <th>new_confirmed</th>\n",
       "      <th>cumulative_confirmed</th>\n",
       "      <th>new_confirmed_male</th>\n",
       "      <th>new_confirmed_female</th>\n",
       "      <th>cumulative_confirmed_male</th>\n",
       "      <th>cumulative_confirmed_female</th>\n",
       "    </tr>\n",
       "  </thead>\n",
       "  <tbody>\n",
       "    <tr>\n",
       "      <th>count</th>\n",
       "      <td>12475344.0</td>\n",
       "      <td>12326597.0</td>\n",
       "      <td>3410229.0</td>\n",
       "      <td>3403741.0</td>\n",
       "      <td>3659088.0</td>\n",
       "      <td>3658401.0</td>\n",
       "    </tr>\n",
       "    <tr>\n",
       "      <th>mean</th>\n",
       "      <td>111.212188</td>\n",
       "      <td>35383.553739</td>\n",
       "      <td>44.010911</td>\n",
       "      <td>46.689347</td>\n",
       "      <td>10809.536452</td>\n",
       "      <td>11278.559864</td>\n",
       "    </tr>\n",
       "    <tr>\n",
       "      <th>std</th>\n",
       "      <td>11659.244534</td>\n",
       "      <td>613449.698207</td>\n",
       "      <td>1345.94701</td>\n",
       "      <td>1529.400253</td>\n",
       "      <td>297408.87628</td>\n",
       "      <td>333825.189107</td>\n",
       "    </tr>\n",
       "    <tr>\n",
       "      <th>min</th>\n",
       "      <td>-5045418.0</td>\n",
       "      <td>0.0</td>\n",
       "      <td>-2080.0</td>\n",
       "      <td>-2078.0</td>\n",
       "      <td>0.0</td>\n",
       "      <td>0.0</td>\n",
       "    </tr>\n",
       "    <tr>\n",
       "      <th>25%</th>\n",
       "      <td>0.0</td>\n",
       "      <td>201.0</td>\n",
       "      <td>0.0</td>\n",
       "      <td>0.0</td>\n",
       "      <td>63.0</td>\n",
       "      <td>63.0</td>\n",
       "    </tr>\n",
       "    <tr>\n",
       "      <th>50%</th>\n",
       "      <td>1.0</td>\n",
       "      <td>1033.0</td>\n",
       "      <td>1.0</td>\n",
       "      <td>2.0</td>\n",
       "      <td>273.0</td>\n",
       "      <td>289.0</td>\n",
       "    </tr>\n",
       "    <tr>\n",
       "      <th>75%</th>\n",
       "      <td>11.0</td>\n",
       "      <td>5001.0</td>\n",
       "      <td>6.0</td>\n",
       "      <td>6.0</td>\n",
       "      <td>1328.0</td>\n",
       "      <td>1405.0</td>\n",
       "    </tr>\n",
       "    <tr>\n",
       "      <th>max</th>\n",
       "      <td>5047094.0</td>\n",
       "      <td>92440495.0</td>\n",
       "      <td>868015.0</td>\n",
       "      <td>971715.0</td>\n",
       "      <td>35432377.0</td>\n",
       "      <td>41162212.0</td>\n",
       "    </tr>\n",
       "  </tbody>\n",
       "</table>\n",
       "</div>"
      ]
     },
     "execution_count": 28,
     "metadata": {},
     "output_type": "execute_result"
    }
   ],
   "execution_count": 28
  },
  {
   "metadata": {},
   "cell_type": "markdown",
   "source": "Kolumny zawierające informacje dotyczące nowych przypadków zawierają wartości ujemne, co jest błędem. Wartości te zostaną usunięte.",
   "id": "f65982d6848898ab"
  },
  {
   "metadata": {
    "ExecuteTime": {
     "end_time": "2025-03-13T20:54:01.470680Z",
     "start_time": "2025-03-13T20:54:01.233111Z"
    }
   },
   "cell_type": "code",
   "source": [
    "new_cases_columns = [\n",
    "    'new_confirmed', 'new_confirmed_male', 'new_confirmed_female'\n",
    "]\n",
    "\n",
    "df_cases[new_cases_columns] = (\n",
    "    df_cases[new_cases_columns]\n",
    "    .where(df_cases[new_cases_columns] >= 0, np.nan)\n",
    ")"
   ],
   "id": "8eddcb2b8aab6479",
   "outputs": [],
   "execution_count": 29
  },
  {
   "metadata": {
    "ExecuteTime": {
     "end_time": "2025-03-13T20:54:01.500209Z",
     "start_time": "2025-03-13T20:54:01.498834Z"
    }
   },
   "cell_type": "code",
   "source": "# df_cases.to_csv('output/cases.csv')",
   "id": "de547a3e98bb8e2c",
   "outputs": [],
   "execution_count": 30
  },
  {
   "metadata": {},
   "cell_type": "markdown",
   "source": "##### **4.3.** Chcemy poznać efekty COVID-19 poprzez uwypuklenie problemu śmiertelności ludzi spowodowanej wirusem.",
   "id": "7560d13c28eda15a"
  },
  {
   "metadata": {
    "ExecuteTime": {
     "end_time": "2025-03-13T20:54:11.974582Z",
     "start_time": "2025-03-13T20:54:01.525578Z"
    }
   },
   "cell_type": "code",
   "source": [
    "query = \"\"\"\n",
    "    SELECT location_key, date,\n",
    "        new_deceased, cumulative_deceased,\n",
    "        # new_deceased_age_0, new_deceased_age_1, new_deceased_age_2,\n",
    "        # new_deceased_age_3, new_deceased_age_4, new_deceased_age_5,\n",
    "        # new_deceased_age_6, new_deceased_age_7, new_deceased_age_8,\n",
    "        # new_deceased_age_9, cumulative_deceased_age_0, cumulative_deceased_age_1,\n",
    "        # cumulative_deceased_age_2, cumulative_deceased_age_3, cumulative_deceased_age_4,\n",
    "        # cumulative_deceased_age_5, cumulative_deceased_age_6, cumulative_deceased_age_7,\n",
    "        # cumulative_deceased_age_8, cumulative_deceased_age_9,\n",
    "        new_deceased_male, new_deceased_female,\n",
    "        cumulative_deceased_male, cumulative_deceased_female\n",
    "    FROM bigquery-public-data.covid19_open_data.covid19_open_data\n",
    "    WHERE COALESCE(\n",
    "        new_deceased, cumulative_deceased,\n",
    "        # new_deceased_age_0, new_deceased_age_1, new_deceased_age_2,\n",
    "        # new_deceased_age_3, new_deceased_age_4, new_deceased_age_5,\n",
    "        # new_deceased_age_6, new_deceased_age_7, new_deceased_age_8,\n",
    "        # new_deceased_age_9, cumulative_deceased_age_0, cumulative_deceased_age_1,\n",
    "        # cumulative_deceased_age_2, cumulative_deceased_age_3, cumulative_deceased_age_4,\n",
    "        # cumulative_deceased_age_5, cumulative_deceased_age_6, cumulative_deceased_age_7,\n",
    "        # cumulative_deceased_age_8, cumulative_deceased_age_9,\n",
    "        new_deceased_male, new_deceased_female,\n",
    "        cumulative_deceased_male, cumulative_deceased_female\n",
    "    ) IS NOT NULL\n",
    "\"\"\"\n",
    "\n",
    "query_job = client.query(query)\n",
    "query_result = query_job.result()\n",
    "\n",
    "df_deceased = query_result.to_dataframe()"
   ],
   "id": "1d708bf1f7309ae1",
   "outputs": [],
   "execution_count": 31
  },
  {
   "metadata": {
    "ExecuteTime": {
     "end_time": "2025-03-13T20:54:11.985252Z",
     "start_time": "2025-03-13T20:54:11.982408Z"
    }
   },
   "cell_type": "code",
   "source": "df_deceased.info()",
   "id": "16b4aba9eb06cee7",
   "outputs": [
    {
     "name": "stdout",
     "output_type": "stream",
     "text": [
      "<class 'pandas.core.frame.DataFrame'>\n",
      "RangeIndex: 11678459 entries, 0 to 11678458\n",
      "Data columns (total 8 columns):\n",
      " #   Column                      Dtype \n",
      "---  ------                      ----- \n",
      " 0   location_key                object\n",
      " 1   date                        dbdate\n",
      " 2   new_deceased                Int64 \n",
      " 3   cumulative_deceased         Int64 \n",
      " 4   new_deceased_male           Int64 \n",
      " 5   new_deceased_female         Int64 \n",
      " 6   cumulative_deceased_male    Int64 \n",
      " 7   cumulative_deceased_female  Int64 \n",
      "dtypes: Int64(6), dbdate(1), object(1)\n",
      "memory usage: 779.6+ MB\n"
     ]
    }
   ],
   "execution_count": 32
  },
  {
   "metadata": {
    "ExecuteTime": {
     "end_time": "2025-03-13T20:54:12.011770Z",
     "start_time": "2025-03-13T20:54:12.007323Z"
    }
   },
   "cell_type": "code",
   "source": "df_deceased.head()",
   "id": "7b75d9507b39090a",
   "outputs": [
    {
     "data": {
      "text/plain": [
       "   location_key        date  new_deceased  cumulative_deceased  \\\n",
       "0  BR_SP_352270  2021-02-12             1                   25   \n",
       "1  BR_SP_354323  2020-10-25             0                    3   \n",
       "2  BR_SP_354570  2021-02-14             0                    7   \n",
       "3  BR_TO_171110  2020-07-15             0                    0   \n",
       "4  BR_TO_171830  2021-06-15             0                    7   \n",
       "\n",
       "   new_deceased_male  new_deceased_female  cumulative_deceased_male  \\\n",
       "0               <NA>                 <NA>                      <NA>   \n",
       "1               <NA>                 <NA>                      <NA>   \n",
       "2               <NA>                 <NA>                      <NA>   \n",
       "3               <NA>                 <NA>                      <NA>   \n",
       "4               <NA>                 <NA>                      <NA>   \n",
       "\n",
       "   cumulative_deceased_female  \n",
       "0                        <NA>  \n",
       "1                        <NA>  \n",
       "2                        <NA>  \n",
       "3                        <NA>  \n",
       "4                        <NA>  "
      ],
      "text/html": [
       "<div>\n",
       "<style scoped>\n",
       "    .dataframe tbody tr th:only-of-type {\n",
       "        vertical-align: middle;\n",
       "    }\n",
       "\n",
       "    .dataframe tbody tr th {\n",
       "        vertical-align: top;\n",
       "    }\n",
       "\n",
       "    .dataframe thead th {\n",
       "        text-align: right;\n",
       "    }\n",
       "</style>\n",
       "<table border=\"1\" class=\"dataframe\">\n",
       "  <thead>\n",
       "    <tr style=\"text-align: right;\">\n",
       "      <th></th>\n",
       "      <th>location_key</th>\n",
       "      <th>date</th>\n",
       "      <th>new_deceased</th>\n",
       "      <th>cumulative_deceased</th>\n",
       "      <th>new_deceased_male</th>\n",
       "      <th>new_deceased_female</th>\n",
       "      <th>cumulative_deceased_male</th>\n",
       "      <th>cumulative_deceased_female</th>\n",
       "    </tr>\n",
       "  </thead>\n",
       "  <tbody>\n",
       "    <tr>\n",
       "      <th>0</th>\n",
       "      <td>BR_SP_352270</td>\n",
       "      <td>2021-02-12</td>\n",
       "      <td>1</td>\n",
       "      <td>25</td>\n",
       "      <td>&lt;NA&gt;</td>\n",
       "      <td>&lt;NA&gt;</td>\n",
       "      <td>&lt;NA&gt;</td>\n",
       "      <td>&lt;NA&gt;</td>\n",
       "    </tr>\n",
       "    <tr>\n",
       "      <th>1</th>\n",
       "      <td>BR_SP_354323</td>\n",
       "      <td>2020-10-25</td>\n",
       "      <td>0</td>\n",
       "      <td>3</td>\n",
       "      <td>&lt;NA&gt;</td>\n",
       "      <td>&lt;NA&gt;</td>\n",
       "      <td>&lt;NA&gt;</td>\n",
       "      <td>&lt;NA&gt;</td>\n",
       "    </tr>\n",
       "    <tr>\n",
       "      <th>2</th>\n",
       "      <td>BR_SP_354570</td>\n",
       "      <td>2021-02-14</td>\n",
       "      <td>0</td>\n",
       "      <td>7</td>\n",
       "      <td>&lt;NA&gt;</td>\n",
       "      <td>&lt;NA&gt;</td>\n",
       "      <td>&lt;NA&gt;</td>\n",
       "      <td>&lt;NA&gt;</td>\n",
       "    </tr>\n",
       "    <tr>\n",
       "      <th>3</th>\n",
       "      <td>BR_TO_171110</td>\n",
       "      <td>2020-07-15</td>\n",
       "      <td>0</td>\n",
       "      <td>0</td>\n",
       "      <td>&lt;NA&gt;</td>\n",
       "      <td>&lt;NA&gt;</td>\n",
       "      <td>&lt;NA&gt;</td>\n",
       "      <td>&lt;NA&gt;</td>\n",
       "    </tr>\n",
       "    <tr>\n",
       "      <th>4</th>\n",
       "      <td>BR_TO_171830</td>\n",
       "      <td>2021-06-15</td>\n",
       "      <td>0</td>\n",
       "      <td>7</td>\n",
       "      <td>&lt;NA&gt;</td>\n",
       "      <td>&lt;NA&gt;</td>\n",
       "      <td>&lt;NA&gt;</td>\n",
       "      <td>&lt;NA&gt;</td>\n",
       "    </tr>\n",
       "  </tbody>\n",
       "</table>\n",
       "</div>"
      ]
     },
     "execution_count": 33,
     "metadata": {},
     "output_type": "execute_result"
    }
   ],
   "execution_count": 33
  },
  {
   "metadata": {
    "ExecuteTime": {
     "end_time": "2025-03-13T20:54:12.287597Z",
     "start_time": "2025-03-13T20:54:12.042707Z"
    }
   },
   "cell_type": "code",
   "source": "df_deceased.isna().sum()",
   "id": "51a86f68afcd8d83",
   "outputs": [
    {
     "data": {
      "text/plain": [
       "location_key                        0\n",
       "date                                0\n",
       "new_deceased                    11599\n",
       "cumulative_deceased            203911\n",
       "new_deceased_male             9613300\n",
       "new_deceased_female           9631229\n",
       "cumulative_deceased_male      9434389\n",
       "cumulative_deceased_female    9435076\n",
       "dtype: int64"
      ]
     },
     "execution_count": 34,
     "metadata": {},
     "output_type": "execute_result"
    }
   ],
   "execution_count": 34
  },
  {
   "metadata": {
    "ExecuteTime": {
     "end_time": "2025-03-13T20:54:13.650726Z",
     "start_time": "2025-03-13T20:54:12.302974Z"
    }
   },
   "cell_type": "code",
   "source": "df_deceased.describe()",
   "id": "ffe63ae54a0523a9",
   "outputs": [
    {
     "data": {
      "text/plain": [
       "       new_deceased  cumulative_deceased  new_deceased_male  \\\n",
       "count    11666860.0           11474548.0          2065159.0   \n",
       "mean       1.274725           587.328897            1.20641   \n",
       "std       88.082247          9228.731201          14.450997   \n",
       "min        -63811.0                  0.0             -162.0   \n",
       "25%             0.0                  3.0                0.0   \n",
       "50%             0.0                 18.0                0.0   \n",
       "75%             0.0                 80.0                0.0   \n",
       "max         63830.0            1005195.0             1860.0   \n",
       "\n",
       "       new_deceased_female  cumulative_deceased_male  \\\n",
       "count            2047230.0                 2244070.0   \n",
       "mean                0.9101                355.372324   \n",
       "std              11.195608               4020.342003   \n",
       "min                 -176.0                       0.0   \n",
       "25%                    0.0                       3.0   \n",
       "50%                    0.0                      15.0   \n",
       "75%                    0.0                      75.0   \n",
       "max                 1589.0                  208279.0   \n",
       "\n",
       "       cumulative_deceased_female  \n",
       "count                   2243383.0  \n",
       "mean                    260.36508  \n",
       "std                   3015.478805  \n",
       "min                           0.0  \n",
       "25%                           2.0  \n",
       "50%                          11.0  \n",
       "75%                          57.0  \n",
       "max                      167525.0  "
      ],
      "text/html": [
       "<div>\n",
       "<style scoped>\n",
       "    .dataframe tbody tr th:only-of-type {\n",
       "        vertical-align: middle;\n",
       "    }\n",
       "\n",
       "    .dataframe tbody tr th {\n",
       "        vertical-align: top;\n",
       "    }\n",
       "\n",
       "    .dataframe thead th {\n",
       "        text-align: right;\n",
       "    }\n",
       "</style>\n",
       "<table border=\"1\" class=\"dataframe\">\n",
       "  <thead>\n",
       "    <tr style=\"text-align: right;\">\n",
       "      <th></th>\n",
       "      <th>new_deceased</th>\n",
       "      <th>cumulative_deceased</th>\n",
       "      <th>new_deceased_male</th>\n",
       "      <th>new_deceased_female</th>\n",
       "      <th>cumulative_deceased_male</th>\n",
       "      <th>cumulative_deceased_female</th>\n",
       "    </tr>\n",
       "  </thead>\n",
       "  <tbody>\n",
       "    <tr>\n",
       "      <th>count</th>\n",
       "      <td>11666860.0</td>\n",
       "      <td>11474548.0</td>\n",
       "      <td>2065159.0</td>\n",
       "      <td>2047230.0</td>\n",
       "      <td>2244070.0</td>\n",
       "      <td>2243383.0</td>\n",
       "    </tr>\n",
       "    <tr>\n",
       "      <th>mean</th>\n",
       "      <td>1.274725</td>\n",
       "      <td>587.328897</td>\n",
       "      <td>1.20641</td>\n",
       "      <td>0.9101</td>\n",
       "      <td>355.372324</td>\n",
       "      <td>260.36508</td>\n",
       "    </tr>\n",
       "    <tr>\n",
       "      <th>std</th>\n",
       "      <td>88.082247</td>\n",
       "      <td>9228.731201</td>\n",
       "      <td>14.450997</td>\n",
       "      <td>11.195608</td>\n",
       "      <td>4020.342003</td>\n",
       "      <td>3015.478805</td>\n",
       "    </tr>\n",
       "    <tr>\n",
       "      <th>min</th>\n",
       "      <td>-63811.0</td>\n",
       "      <td>0.0</td>\n",
       "      <td>-162.0</td>\n",
       "      <td>-176.0</td>\n",
       "      <td>0.0</td>\n",
       "      <td>0.0</td>\n",
       "    </tr>\n",
       "    <tr>\n",
       "      <th>25%</th>\n",
       "      <td>0.0</td>\n",
       "      <td>3.0</td>\n",
       "      <td>0.0</td>\n",
       "      <td>0.0</td>\n",
       "      <td>3.0</td>\n",
       "      <td>2.0</td>\n",
       "    </tr>\n",
       "    <tr>\n",
       "      <th>50%</th>\n",
       "      <td>0.0</td>\n",
       "      <td>18.0</td>\n",
       "      <td>0.0</td>\n",
       "      <td>0.0</td>\n",
       "      <td>15.0</td>\n",
       "      <td>11.0</td>\n",
       "    </tr>\n",
       "    <tr>\n",
       "      <th>75%</th>\n",
       "      <td>0.0</td>\n",
       "      <td>80.0</td>\n",
       "      <td>0.0</td>\n",
       "      <td>0.0</td>\n",
       "      <td>75.0</td>\n",
       "      <td>57.0</td>\n",
       "    </tr>\n",
       "    <tr>\n",
       "      <th>max</th>\n",
       "      <td>63830.0</td>\n",
       "      <td>1005195.0</td>\n",
       "      <td>1860.0</td>\n",
       "      <td>1589.0</td>\n",
       "      <td>208279.0</td>\n",
       "      <td>167525.0</td>\n",
       "    </tr>\n",
       "  </tbody>\n",
       "</table>\n",
       "</div>"
      ]
     },
     "execution_count": 35,
     "metadata": {},
     "output_type": "execute_result"
    }
   ],
   "execution_count": 35
  },
  {
   "metadata": {},
   "cell_type": "markdown",
   "source": "Kolumny zawierające informacje dotyczące nowych zgonów zawierają wartości ujemne, co jest błędem. Te wartości zostaną usunięte.",
   "id": "157068b02662ab0a"
  },
  {
   "metadata": {
    "ExecuteTime": {
     "end_time": "2025-03-13T20:54:13.933858Z",
     "start_time": "2025-03-13T20:54:13.681838Z"
    }
   },
   "cell_type": "code",
   "source": [
    "new_deceased_columns = [\n",
    "    'new_deceased', 'new_deceased_male', 'new_deceased_female'\n",
    "]\n",
    "\n",
    "df_deceased[new_deceased_columns] = (\n",
    "    df_deceased[new_deceased_columns]\n",
    "    .where(df_deceased[new_deceased_columns] >= 0, np.nan)\n",
    ")"
   ],
   "id": "4a2f1b3f60ebd83c",
   "outputs": [],
   "execution_count": 36
  },
  {
   "metadata": {
    "ExecuteTime": {
     "end_time": "2025-03-13T20:54:13.962717Z",
     "start_time": "2025-03-13T20:54:13.961336Z"
    }
   },
   "cell_type": "code",
   "source": "# df_deceased.to_csv('output/deceased.csv')",
   "id": "76afeb99b716f8b6",
   "outputs": [],
   "execution_count": 37
  },
  {
   "metadata": {},
   "cell_type": "markdown",
   "source": "##### **4.4.** Chcemy zaobserwować trendy i zależności dotyczące szczepień na COVID-19.",
   "id": "3ab8148515888f16"
  },
  {
   "metadata": {
    "ExecuteTime": {
     "end_time": "2025-03-13T20:54:18.624620Z",
     "start_time": "2025-03-13T20:54:14.003300Z"
    }
   },
   "cell_type": "code",
   "source": [
    "query = \"\"\"\n",
    "    SELECT location_key, date,\n",
    "        new_persons_vaccinated, cumulative_persons_vaccinated,\n",
    "        new_persons_fully_vaccinated, cumulative_persons_fully_vaccinated,\n",
    "        new_vaccine_doses_administered, cumulative_vaccine_doses_administered,\n",
    "        # new_persons_fully_vaccinated_pfizer, cumulative_persons_fully_vaccinated_pfizer,\n",
    "        # new_vaccine_doses_administered_pfizer, cumulative_vaccine_doses_administered_pfizer,\n",
    "        # new_persons_fully_vaccinated_moderna, cumulative_persons_fully_vaccinated_moderna,\n",
    "        # new_vaccine_doses_administered_moderna, cumulative_vaccine_doses_administered_moderna,\n",
    "        # new_persons_fully_vaccinated_janssen, cumulative_persons_fully_vaccinated_janssen,\n",
    "        # new_vaccine_doses_administered_janssen, cumulative_vaccine_doses_administered_janssen\n",
    "    FROM bigquery-public-data.covid19_open_data.covid19_open_data\n",
    "    WHERE COALESCE(\n",
    "        new_persons_vaccinated, cumulative_persons_vaccinated,\n",
    "        new_persons_fully_vaccinated, cumulative_persons_fully_vaccinated,\n",
    "        new_vaccine_doses_administered, cumulative_vaccine_doses_administered\n",
    "        # new_persons_fully_vaccinated_pfizer, cumulative_persons_fully_vaccinated_pfizer,\n",
    "        # new_vaccine_doses_administered_pfizer, cumulative_vaccine_doses_administered_pfizer,\n",
    "        # new_persons_fully_vaccinated_moderna, cumulative_persons_fully_vaccinated_moderna,\n",
    "        # new_vaccine_doses_administered_moderna, cumulative_vaccine_doses_administered_moderna,\n",
    "        # new_persons_fully_vaccinated_janssen, cumulative_persons_fully_vaccinated_janssen,\n",
    "        # new_vaccine_doses_administered_janssen, cumulative_vaccine_doses_administered_janssen\n",
    "    ) IS NOT NULL\n",
    "\"\"\"\n",
    "\n",
    "query_job = client.query(query)\n",
    "query_result = query_job.result()\n",
    "\n",
    "df_vaccinations = query_result.to_dataframe()"
   ],
   "id": "b46731e12dcad5e1",
   "outputs": [],
   "execution_count": 38
  },
  {
   "metadata": {
    "ExecuteTime": {
     "end_time": "2025-03-13T20:54:18.633936Z",
     "start_time": "2025-03-13T20:54:18.630406Z"
    }
   },
   "cell_type": "code",
   "source": "df_vaccinations.info()",
   "id": "ccc6f060a62c0e2c",
   "outputs": [
    {
     "name": "stdout",
     "output_type": "stream",
     "text": [
      "<class 'pandas.core.frame.DataFrame'>\n",
      "RangeIndex: 2541802 entries, 0 to 2541801\n",
      "Data columns (total 8 columns):\n",
      " #   Column                                 Dtype \n",
      "---  ------                                 ----- \n",
      " 0   location_key                           object\n",
      " 1   date                                   dbdate\n",
      " 2   new_persons_vaccinated                 Int64 \n",
      " 3   cumulative_persons_vaccinated          Int64 \n",
      " 4   new_persons_fully_vaccinated           Int64 \n",
      " 5   cumulative_persons_fully_vaccinated    Int64 \n",
      " 6   new_vaccine_doses_administered         Int64 \n",
      " 7   cumulative_vaccine_doses_administered  Int64 \n",
      "dtypes: Int64(6), dbdate(1), object(1)\n",
      "memory usage: 169.7+ MB\n"
     ]
    }
   ],
   "execution_count": 39
  },
  {
   "metadata": {
    "ExecuteTime": {
     "end_time": "2025-03-13T20:54:18.668360Z",
     "start_time": "2025-03-13T20:54:18.664158Z"
    }
   },
   "cell_type": "code",
   "source": "df_vaccinations.head()",
   "id": "a3b9962acb614dc8",
   "outputs": [
    {
     "data": {
      "text/plain": [
       "  location_key        date  new_persons_vaccinated  \\\n",
       "0           AR  2021-09-20                   19559   \n",
       "1           AR  2021-09-10                   21163   \n",
       "2           AR  2021-04-16                   51115   \n",
       "3           AR  2021-08-30                   40080   \n",
       "4           BR  2020-06-14                    <NA>   \n",
       "\n",
       "   cumulative_persons_vaccinated  new_persons_fully_vaccinated  \\\n",
       "0                       12653589                        124470   \n",
       "1                       12504888                        126146   \n",
       "2                        2541303                          3566   \n",
       "3                       12229091                        140209   \n",
       "4                           <NA>                             0   \n",
       "\n",
       "   cumulative_persons_fully_vaccinated  new_vaccine_doses_administered  \\\n",
       "0                              9046234                          144029   \n",
       "1                              8108540                          147309   \n",
       "2                               360871                           54681   \n",
       "3                              6525701                          180289   \n",
       "4                                    0                            <NA>   \n",
       "\n",
       "   cumulative_vaccine_doses_administered  \n",
       "0                               21699823  \n",
       "1                               20613428  \n",
       "2                                2902174  \n",
       "3                               18754792  \n",
       "4                                   <NA>  "
      ],
      "text/html": [
       "<div>\n",
       "<style scoped>\n",
       "    .dataframe tbody tr th:only-of-type {\n",
       "        vertical-align: middle;\n",
       "    }\n",
       "\n",
       "    .dataframe tbody tr th {\n",
       "        vertical-align: top;\n",
       "    }\n",
       "\n",
       "    .dataframe thead th {\n",
       "        text-align: right;\n",
       "    }\n",
       "</style>\n",
       "<table border=\"1\" class=\"dataframe\">\n",
       "  <thead>\n",
       "    <tr style=\"text-align: right;\">\n",
       "      <th></th>\n",
       "      <th>location_key</th>\n",
       "      <th>date</th>\n",
       "      <th>new_persons_vaccinated</th>\n",
       "      <th>cumulative_persons_vaccinated</th>\n",
       "      <th>new_persons_fully_vaccinated</th>\n",
       "      <th>cumulative_persons_fully_vaccinated</th>\n",
       "      <th>new_vaccine_doses_administered</th>\n",
       "      <th>cumulative_vaccine_doses_administered</th>\n",
       "    </tr>\n",
       "  </thead>\n",
       "  <tbody>\n",
       "    <tr>\n",
       "      <th>0</th>\n",
       "      <td>AR</td>\n",
       "      <td>2021-09-20</td>\n",
       "      <td>19559</td>\n",
       "      <td>12653589</td>\n",
       "      <td>124470</td>\n",
       "      <td>9046234</td>\n",
       "      <td>144029</td>\n",
       "      <td>21699823</td>\n",
       "    </tr>\n",
       "    <tr>\n",
       "      <th>1</th>\n",
       "      <td>AR</td>\n",
       "      <td>2021-09-10</td>\n",
       "      <td>21163</td>\n",
       "      <td>12504888</td>\n",
       "      <td>126146</td>\n",
       "      <td>8108540</td>\n",
       "      <td>147309</td>\n",
       "      <td>20613428</td>\n",
       "    </tr>\n",
       "    <tr>\n",
       "      <th>2</th>\n",
       "      <td>AR</td>\n",
       "      <td>2021-04-16</td>\n",
       "      <td>51115</td>\n",
       "      <td>2541303</td>\n",
       "      <td>3566</td>\n",
       "      <td>360871</td>\n",
       "      <td>54681</td>\n",
       "      <td>2902174</td>\n",
       "    </tr>\n",
       "    <tr>\n",
       "      <th>3</th>\n",
       "      <td>AR</td>\n",
       "      <td>2021-08-30</td>\n",
       "      <td>40080</td>\n",
       "      <td>12229091</td>\n",
       "      <td>140209</td>\n",
       "      <td>6525701</td>\n",
       "      <td>180289</td>\n",
       "      <td>18754792</td>\n",
       "    </tr>\n",
       "    <tr>\n",
       "      <th>4</th>\n",
       "      <td>BR</td>\n",
       "      <td>2020-06-14</td>\n",
       "      <td>&lt;NA&gt;</td>\n",
       "      <td>&lt;NA&gt;</td>\n",
       "      <td>0</td>\n",
       "      <td>0</td>\n",
       "      <td>&lt;NA&gt;</td>\n",
       "      <td>&lt;NA&gt;</td>\n",
       "    </tr>\n",
       "  </tbody>\n",
       "</table>\n",
       "</div>"
      ]
     },
     "execution_count": 40,
     "metadata": {},
     "output_type": "execute_result"
    }
   ],
   "execution_count": 40
  },
  {
   "metadata": {
    "ExecuteTime": {
     "end_time": "2025-03-13T20:54:18.772745Z",
     "start_time": "2025-03-13T20:54:18.712541Z"
    }
   },
   "cell_type": "code",
   "source": "df_vaccinations.isna().sum()",
   "id": "c7d36e3372492844",
   "outputs": [
    {
     "data": {
      "text/plain": [
       "location_key                                   0\n",
       "date                                           0\n",
       "new_persons_vaccinated                   1609009\n",
       "cumulative_persons_vaccinated            1654988\n",
       "new_persons_fully_vaccinated               19650\n",
       "cumulative_persons_fully_vaccinated        18653\n",
       "new_vaccine_doses_administered           1601168\n",
       "cumulative_vaccine_doses_administered    1644732\n",
       "dtype: int64"
      ]
     },
     "execution_count": 41,
     "metadata": {},
     "output_type": "execute_result"
    }
   ],
   "execution_count": 41
  },
  {
   "metadata": {
    "ExecuteTime": {
     "end_time": "2025-03-13T20:54:19.134842Z",
     "start_time": "2025-03-13T20:54:18.791965Z"
    }
   },
   "cell_type": "code",
   "source": "df_vaccinations.describe()",
   "id": "e7fff3c6dc26f794",
   "outputs": [
    {
     "data": {
      "text/plain": [
       "       new_persons_vaccinated  cumulative_persons_vaccinated  \\\n",
       "count                932793.0                       886814.0   \n",
       "mean              8056.294613                 1864280.623487   \n",
       "std             512668.722569                 22579824.37855   \n",
       "min                -9410506.0                            0.0   \n",
       "25%                       0.0                         3702.0   \n",
       "50%                      14.0                        22527.0   \n",
       "75%                     190.0                       166171.0   \n",
       "max               450500000.0                   1302773000.0   \n",
       "\n",
       "       new_persons_fully_vaccinated  cumulative_persons_fully_vaccinated  \\\n",
       "count                     2522152.0                            2523149.0   \n",
       "mean                    2481.920983                        553302.972863   \n",
       "std                   130763.882608                      11313418.951899   \n",
       "min                      -6867191.0                                  0.0   \n",
       "25%                             0.0                               3205.0   \n",
       "50%                             3.0                              11229.0   \n",
       "75%                            36.0                              40687.0   \n",
       "max                     112393000.0                         1270656000.0   \n",
       "\n",
       "       new_vaccine_doses_administered  cumulative_vaccine_doses_administered  \n",
       "count                        940634.0                               897070.0  \n",
       "mean                     18887.862376                         4869510.054678  \n",
       "std                     364237.595311                        74709178.471205  \n",
       "min                       -23300109.0                                    0.0  \n",
       "25%                               1.0                                6208.25  \n",
       "50%                              45.0                                41738.0  \n",
       "75%                             508.0                              315623.25  \n",
       "max                        48622062.0                           3434774000.0  "
      ],
      "text/html": [
       "<div>\n",
       "<style scoped>\n",
       "    .dataframe tbody tr th:only-of-type {\n",
       "        vertical-align: middle;\n",
       "    }\n",
       "\n",
       "    .dataframe tbody tr th {\n",
       "        vertical-align: top;\n",
       "    }\n",
       "\n",
       "    .dataframe thead th {\n",
       "        text-align: right;\n",
       "    }\n",
       "</style>\n",
       "<table border=\"1\" class=\"dataframe\">\n",
       "  <thead>\n",
       "    <tr style=\"text-align: right;\">\n",
       "      <th></th>\n",
       "      <th>new_persons_vaccinated</th>\n",
       "      <th>cumulative_persons_vaccinated</th>\n",
       "      <th>new_persons_fully_vaccinated</th>\n",
       "      <th>cumulative_persons_fully_vaccinated</th>\n",
       "      <th>new_vaccine_doses_administered</th>\n",
       "      <th>cumulative_vaccine_doses_administered</th>\n",
       "    </tr>\n",
       "  </thead>\n",
       "  <tbody>\n",
       "    <tr>\n",
       "      <th>count</th>\n",
       "      <td>932793.0</td>\n",
       "      <td>886814.0</td>\n",
       "      <td>2522152.0</td>\n",
       "      <td>2523149.0</td>\n",
       "      <td>940634.0</td>\n",
       "      <td>897070.0</td>\n",
       "    </tr>\n",
       "    <tr>\n",
       "      <th>mean</th>\n",
       "      <td>8056.294613</td>\n",
       "      <td>1864280.623487</td>\n",
       "      <td>2481.920983</td>\n",
       "      <td>553302.972863</td>\n",
       "      <td>18887.862376</td>\n",
       "      <td>4869510.054678</td>\n",
       "    </tr>\n",
       "    <tr>\n",
       "      <th>std</th>\n",
       "      <td>512668.722569</td>\n",
       "      <td>22579824.37855</td>\n",
       "      <td>130763.882608</td>\n",
       "      <td>11313418.951899</td>\n",
       "      <td>364237.595311</td>\n",
       "      <td>74709178.471205</td>\n",
       "    </tr>\n",
       "    <tr>\n",
       "      <th>min</th>\n",
       "      <td>-9410506.0</td>\n",
       "      <td>0.0</td>\n",
       "      <td>-6867191.0</td>\n",
       "      <td>0.0</td>\n",
       "      <td>-23300109.0</td>\n",
       "      <td>0.0</td>\n",
       "    </tr>\n",
       "    <tr>\n",
       "      <th>25%</th>\n",
       "      <td>0.0</td>\n",
       "      <td>3702.0</td>\n",
       "      <td>0.0</td>\n",
       "      <td>3205.0</td>\n",
       "      <td>1.0</td>\n",
       "      <td>6208.25</td>\n",
       "    </tr>\n",
       "    <tr>\n",
       "      <th>50%</th>\n",
       "      <td>14.0</td>\n",
       "      <td>22527.0</td>\n",
       "      <td>3.0</td>\n",
       "      <td>11229.0</td>\n",
       "      <td>45.0</td>\n",
       "      <td>41738.0</td>\n",
       "    </tr>\n",
       "    <tr>\n",
       "      <th>75%</th>\n",
       "      <td>190.0</td>\n",
       "      <td>166171.0</td>\n",
       "      <td>36.0</td>\n",
       "      <td>40687.0</td>\n",
       "      <td>508.0</td>\n",
       "      <td>315623.25</td>\n",
       "    </tr>\n",
       "    <tr>\n",
       "      <th>max</th>\n",
       "      <td>450500000.0</td>\n",
       "      <td>1302773000.0</td>\n",
       "      <td>112393000.0</td>\n",
       "      <td>1270656000.0</td>\n",
       "      <td>48622062.0</td>\n",
       "      <td>3434774000.0</td>\n",
       "    </tr>\n",
       "  </tbody>\n",
       "</table>\n",
       "</div>"
      ]
     },
     "execution_count": 42,
     "metadata": {},
     "output_type": "execute_result"
    }
   ],
   "execution_count": 42
  },
  {
   "metadata": {},
   "cell_type": "markdown",
   "source": "Kolumny zawierające informacje dotyczące nowych zaszczepień zawierają wartości ujemne, co jest błędem. Wartości te zostaną usunięte.",
   "id": "de2dddc293d8bc6f"
  },
  {
   "metadata": {
    "ExecuteTime": {
     "end_time": "2025-03-13T20:54:19.230399Z",
     "start_time": "2025-03-13T20:54:19.176988Z"
    }
   },
   "cell_type": "code",
   "source": [
    "new_vaccinations_columns = [\n",
    "    'new_persons_vaccinated', 'new_persons_fully_vaccinated', 'cumulative_vaccine_doses_administered'\n",
    "]\n",
    "\n",
    "df_vaccinations[new_vaccinations_columns] = (\n",
    "    df_vaccinations[new_vaccinations_columns]\n",
    "    .where(df_vaccinations[new_vaccinations_columns] >= 0, np.nan)\n",
    ")"
   ],
   "id": "2ec11e3c7ec20518",
   "outputs": [],
   "execution_count": 43
  },
  {
   "metadata": {
    "ExecuteTime": {
     "end_time": "2025-03-13T20:54:19.280400Z",
     "start_time": "2025-03-13T20:54:19.278353Z"
    }
   },
   "cell_type": "code",
   "source": "# df_vaccinations.to_csv('output/vaccinations.csv')",
   "id": "f103ee77620f4f5d",
   "outputs": [],
   "execution_count": 44
  },
  {
   "metadata": {},
   "cell_type": "markdown",
   "source": "##### **4.5.** Zdefiniuj własny dodatkowy przypadek.",
   "id": "d2e2babab4056e88"
  },
  {
   "metadata": {},
   "cell_type": "markdown",
   "source": [
    "Chcemy zbadać trendy w wyszukiwaniach fraz dotyczących wybranych zaburzeń podczas pandemii COVID-19. Rozpatrywane będą następujące wyszukiwania w Google:\n",
    "- alkoholizm,\n",
    "- zaburzenia lękowe,\n",
    "- depresja,\n",
    "- bezsenność."
   ],
   "id": "3fcaf6337e1c599b"
  },
  {
   "metadata": {
    "ExecuteTime": {
     "end_time": "2025-03-13T20:54:23.218867Z",
     "start_time": "2025-03-13T20:54:19.330383Z"
    }
   },
   "cell_type": "code",
   "source": [
    "query = \"\"\"\n",
    "    SELECT location_key, date,\n",
    "        search_trends_alcoholism, search_trends_anxiety,\n",
    "        search_trends_depression, search_trends_insomnia\n",
    "    FROM bigquery-public-data.covid19_open_data.covid19_open_data\n",
    "    WHERE COALESCE(\n",
    "        search_trends_alcoholism, search_trends_anxiety,\n",
    "        search_trends_depression, search_trends_insomnia\n",
    "    ) IS NOT NULL\n",
    "\"\"\"\n",
    "query_job = client.query(query)\n",
    "query_result = query_job.result()\n",
    "\n",
    "df_disorders = query_result.to_dataframe()\n",
    "df_disorders.drop_duplicates(inplace=True)"
   ],
   "id": "efa12581b07e6aeb",
   "outputs": [],
   "execution_count": 45
  },
  {
   "metadata": {
    "ExecuteTime": {
     "end_time": "2025-03-13T20:54:23.232210Z",
     "start_time": "2025-03-13T20:54:23.228957Z"
    }
   },
   "cell_type": "code",
   "source": "df_disorders.info()",
   "id": "db89ba916ee68b4a",
   "outputs": [
    {
     "name": "stdout",
     "output_type": "stream",
     "text": [
      "<class 'pandas.core.frame.DataFrame'>\n",
      "RangeIndex: 1750121 entries, 0 to 1750120\n",
      "Data columns (total 6 columns):\n",
      " #   Column                    Dtype  \n",
      "---  ------                    -----  \n",
      " 0   location_key              object \n",
      " 1   date                      dbdate \n",
      " 2   search_trends_alcoholism  float64\n",
      " 3   search_trends_anxiety     float64\n",
      " 4   search_trends_depression  float64\n",
      " 5   search_trends_insomnia    float64\n",
      "dtypes: dbdate(1), float64(4), object(1)\n",
      "memory usage: 80.1+ MB\n"
     ]
    }
   ],
   "execution_count": 46
  },
  {
   "metadata": {
    "ExecuteTime": {
     "end_time": "2025-03-13T20:54:23.253756Z",
     "start_time": "2025-03-13T20:54:23.249572Z"
    }
   },
   "cell_type": "code",
   "source": "df_disorders.head()",
   "id": "89933e9973c4e16c",
   "outputs": [
    {
     "data": {
      "text/plain": [
       "  location_key        date  search_trends_alcoholism  search_trends_anxiety  \\\n",
       "0           US  2020-08-06                      3.66                   7.58   \n",
       "1        US_CA  2020-11-26                      3.99                   6.57   \n",
       "2        US_CA  2021-02-14                      4.29                   7.89   \n",
       "3        US_CA  2022-02-24                      3.72                   8.37   \n",
       "4        US_CA  2020-08-23                      4.33                   8.14   \n",
       "\n",
       "   search_trends_depression  search_trends_insomnia  \n",
       "0                      4.65                    3.09  \n",
       "1                      3.98                    2.53  \n",
       "2                      4.79                    2.99  \n",
       "3                      4.63                    2.92  \n",
       "4                      4.60                    2.99  "
      ],
      "text/html": [
       "<div>\n",
       "<style scoped>\n",
       "    .dataframe tbody tr th:only-of-type {\n",
       "        vertical-align: middle;\n",
       "    }\n",
       "\n",
       "    .dataframe tbody tr th {\n",
       "        vertical-align: top;\n",
       "    }\n",
       "\n",
       "    .dataframe thead th {\n",
       "        text-align: right;\n",
       "    }\n",
       "</style>\n",
       "<table border=\"1\" class=\"dataframe\">\n",
       "  <thead>\n",
       "    <tr style=\"text-align: right;\">\n",
       "      <th></th>\n",
       "      <th>location_key</th>\n",
       "      <th>date</th>\n",
       "      <th>search_trends_alcoholism</th>\n",
       "      <th>search_trends_anxiety</th>\n",
       "      <th>search_trends_depression</th>\n",
       "      <th>search_trends_insomnia</th>\n",
       "    </tr>\n",
       "  </thead>\n",
       "  <tbody>\n",
       "    <tr>\n",
       "      <th>0</th>\n",
       "      <td>US</td>\n",
       "      <td>2020-08-06</td>\n",
       "      <td>3.66</td>\n",
       "      <td>7.58</td>\n",
       "      <td>4.65</td>\n",
       "      <td>3.09</td>\n",
       "    </tr>\n",
       "    <tr>\n",
       "      <th>1</th>\n",
       "      <td>US_CA</td>\n",
       "      <td>2020-11-26</td>\n",
       "      <td>3.99</td>\n",
       "      <td>6.57</td>\n",
       "      <td>3.98</td>\n",
       "      <td>2.53</td>\n",
       "    </tr>\n",
       "    <tr>\n",
       "      <th>2</th>\n",
       "      <td>US_CA</td>\n",
       "      <td>2021-02-14</td>\n",
       "      <td>4.29</td>\n",
       "      <td>7.89</td>\n",
       "      <td>4.79</td>\n",
       "      <td>2.99</td>\n",
       "    </tr>\n",
       "    <tr>\n",
       "      <th>3</th>\n",
       "      <td>US_CA</td>\n",
       "      <td>2022-02-24</td>\n",
       "      <td>3.72</td>\n",
       "      <td>8.37</td>\n",
       "      <td>4.63</td>\n",
       "      <td>2.92</td>\n",
       "    </tr>\n",
       "    <tr>\n",
       "      <th>4</th>\n",
       "      <td>US_CA</td>\n",
       "      <td>2020-08-23</td>\n",
       "      <td>4.33</td>\n",
       "      <td>8.14</td>\n",
       "      <td>4.60</td>\n",
       "      <td>2.99</td>\n",
       "    </tr>\n",
       "  </tbody>\n",
       "</table>\n",
       "</div>"
      ]
     },
     "execution_count": 47,
     "metadata": {},
     "output_type": "execute_result"
    }
   ],
   "execution_count": 47
  },
  {
   "metadata": {
    "ExecuteTime": {
     "end_time": "2025-03-13T20:54:23.328199Z",
     "start_time": "2025-03-13T20:54:23.283972Z"
    }
   },
   "cell_type": "code",
   "source": "df_disorders.isna().sum()",
   "id": "f052dc8933643bc0",
   "outputs": [
    {
     "data": {
      "text/plain": [
       "location_key                     0\n",
       "date                             0\n",
       "search_trends_alcoholism    440684\n",
       "search_trends_anxiety         3721\n",
       "search_trends_depression    332134\n",
       "search_trends_insomnia      613536\n",
       "dtype: int64"
      ]
     },
     "execution_count": 48,
     "metadata": {},
     "output_type": "execute_result"
    }
   ],
   "execution_count": 48
  },
  {
   "metadata": {
    "ExecuteTime": {
     "end_time": "2025-03-13T20:54:23.564198Z",
     "start_time": "2025-03-13T20:54:23.352856Z"
    }
   },
   "cell_type": "code",
   "source": "df_disorders.describe()",
   "id": "6f3e3a09d354214b",
   "outputs": [
    {
     "data": {
      "text/plain": [
       "       search_trends_alcoholism  search_trends_anxiety  \\\n",
       "count              1.309437e+06           1.746400e+06   \n",
       "mean               4.004108e+00           7.504335e+00   \n",
       "std                1.081740e+00           1.740011e+00   \n",
       "min                8.000000e-01           1.190000e+00   \n",
       "25%                3.310000e+00           6.400000e+00   \n",
       "50%                3.870000e+00           7.390000e+00   \n",
       "75%                4.540000e+00           8.450000e+00   \n",
       "max                2.879000e+01           4.125000e+01   \n",
       "\n",
       "       search_trends_depression  search_trends_insomnia  \n",
       "count              1.417987e+06            1.136585e+06  \n",
       "mean               4.467266e+00            2.987337e+00  \n",
       "std                1.137928e+00            7.299195e-01  \n",
       "min                7.600000e-01            4.500000e-01  \n",
       "25%                3.750000e+00            2.510000e+00  \n",
       "50%                4.350000e+00            2.920000e+00  \n",
       "75%                5.040000e+00            3.390000e+00  \n",
       "max                4.314000e+01            1.648000e+01  "
      ],
      "text/html": [
       "<div>\n",
       "<style scoped>\n",
       "    .dataframe tbody tr th:only-of-type {\n",
       "        vertical-align: middle;\n",
       "    }\n",
       "\n",
       "    .dataframe tbody tr th {\n",
       "        vertical-align: top;\n",
       "    }\n",
       "\n",
       "    .dataframe thead th {\n",
       "        text-align: right;\n",
       "    }\n",
       "</style>\n",
       "<table border=\"1\" class=\"dataframe\">\n",
       "  <thead>\n",
       "    <tr style=\"text-align: right;\">\n",
       "      <th></th>\n",
       "      <th>search_trends_alcoholism</th>\n",
       "      <th>search_trends_anxiety</th>\n",
       "      <th>search_trends_depression</th>\n",
       "      <th>search_trends_insomnia</th>\n",
       "    </tr>\n",
       "  </thead>\n",
       "  <tbody>\n",
       "    <tr>\n",
       "      <th>count</th>\n",
       "      <td>1.309437e+06</td>\n",
       "      <td>1.746400e+06</td>\n",
       "      <td>1.417987e+06</td>\n",
       "      <td>1.136585e+06</td>\n",
       "    </tr>\n",
       "    <tr>\n",
       "      <th>mean</th>\n",
       "      <td>4.004108e+00</td>\n",
       "      <td>7.504335e+00</td>\n",
       "      <td>4.467266e+00</td>\n",
       "      <td>2.987337e+00</td>\n",
       "    </tr>\n",
       "    <tr>\n",
       "      <th>std</th>\n",
       "      <td>1.081740e+00</td>\n",
       "      <td>1.740011e+00</td>\n",
       "      <td>1.137928e+00</td>\n",
       "      <td>7.299195e-01</td>\n",
       "    </tr>\n",
       "    <tr>\n",
       "      <th>min</th>\n",
       "      <td>8.000000e-01</td>\n",
       "      <td>1.190000e+00</td>\n",
       "      <td>7.600000e-01</td>\n",
       "      <td>4.500000e-01</td>\n",
       "    </tr>\n",
       "    <tr>\n",
       "      <th>25%</th>\n",
       "      <td>3.310000e+00</td>\n",
       "      <td>6.400000e+00</td>\n",
       "      <td>3.750000e+00</td>\n",
       "      <td>2.510000e+00</td>\n",
       "    </tr>\n",
       "    <tr>\n",
       "      <th>50%</th>\n",
       "      <td>3.870000e+00</td>\n",
       "      <td>7.390000e+00</td>\n",
       "      <td>4.350000e+00</td>\n",
       "      <td>2.920000e+00</td>\n",
       "    </tr>\n",
       "    <tr>\n",
       "      <th>75%</th>\n",
       "      <td>4.540000e+00</td>\n",
       "      <td>8.450000e+00</td>\n",
       "      <td>5.040000e+00</td>\n",
       "      <td>3.390000e+00</td>\n",
       "    </tr>\n",
       "    <tr>\n",
       "      <th>max</th>\n",
       "      <td>2.879000e+01</td>\n",
       "      <td>4.125000e+01</td>\n",
       "      <td>4.314000e+01</td>\n",
       "      <td>1.648000e+01</td>\n",
       "    </tr>\n",
       "  </tbody>\n",
       "</table>\n",
       "</div>"
      ]
     },
     "execution_count": 49,
     "metadata": {},
     "output_type": "execute_result"
    }
   ],
   "execution_count": 49
  },
  {
   "metadata": {
    "ExecuteTime": {
     "end_time": "2025-03-13T20:54:23.604047Z",
     "start_time": "2025-03-13T20:54:23.602475Z"
    }
   },
   "cell_type": "code",
   "source": "# df_disorders.to_csv('output/disorders.csv')",
   "id": "a3ae244e05cee3d7",
   "outputs": [],
   "execution_count": 50
  },
  {
   "metadata": {},
   "cell_type": "markdown",
   "source": "## Część 5",
   "id": "baf9cdd049945fec"
  },
  {
   "metadata": {},
   "cell_type": "markdown",
   "source": "Połącz ze sobą wszystkie dane otrzymane w części 4. Nowy zbiór danych zapisz jako oddzielny obiekt DataFrame. Jeżeli uważasz, że należy stworzyć kilka takich obiektów, zrób to i zapisz swoje uzasadnienie. Pamiętaj o ciągłej konieczności zachowania czystości danych. Wynik tego zadania zapisz w pliku / plikach CSV.",
   "id": "126e289d375342b8"
  },
  {
   "metadata": {
    "ExecuteTime": {
     "end_time": "2025-03-13T20:54:58.615203Z",
     "start_time": "2025-03-13T20:54:23.665006Z"
    }
   },
   "cell_type": "code",
   "source": [
    "import functools\n",
    "\n",
    "dfs_to_combine = [df_countries, df_cases, df_deceased, df_vaccinations, df_disorders]\n",
    "\n",
    "df_combined = functools.reduce(\n",
    "    lambda left, right: pd.merge(left, right, on=['location_key', 'date'], how='outer'),\n",
    "    dfs_to_combine\n",
    ")"
   ],
   "id": "5c5eb462f8e25e5",
   "outputs": [],
   "execution_count": 51
  },
  {
   "metadata": {
    "ExecuteTime": {
     "end_time": "2025-03-13T20:55:25.779943Z",
     "start_time": "2025-03-13T20:54:58.622585Z"
    }
   },
   "cell_type": "code",
   "source": "df_combined['date'] = pd.to_datetime(df_combined['date'])",
   "id": "2553a166d5ade4da",
   "outputs": [],
   "execution_count": 52
  },
  {
   "metadata": {
    "ExecuteTime": {
     "end_time": "2025-03-13T20:55:25.801941Z",
     "start_time": "2025-03-13T20:55:25.796837Z"
    }
   },
   "cell_type": "code",
   "source": "df_combined.info()",
   "id": "aab1ea4662d343b8",
   "outputs": [
    {
     "name": "stdout",
     "output_type": "stream",
     "text": [
      "<class 'pandas.core.frame.DataFrame'>\n",
      "RangeIndex: 22756333 entries, 0 to 22756332\n",
      "Data columns (total 32 columns):\n",
      " #   Column                                 Dtype         \n",
      "---  ------                                 -----         \n",
      " 0   location_key                           object        \n",
      " 1   date                                   datetime64[ns]\n",
      " 2   country_name                           object        \n",
      " 3   aggregation_level                      Int64         \n",
      " 4   iso_3166_1_alpha_2                     object        \n",
      " 5   iso_3166_1_alpha_3                     object        \n",
      " 6   subregion1_code                        object        \n",
      " 7   subregion1_name                        object        \n",
      " 8   subregion2_code                        object        \n",
      " 9   subregion2_name                        object        \n",
      " 10  new_confirmed                          Int64         \n",
      " 11  cumulative_confirmed                   Int64         \n",
      " 12  new_confirmed_male                     Int64         \n",
      " 13  new_confirmed_female                   Int64         \n",
      " 14  cumulative_confirmed_male              Int64         \n",
      " 15  cumulative_confirmed_female            Int64         \n",
      " 16  new_deceased                           Int64         \n",
      " 17  cumulative_deceased                    Int64         \n",
      " 18  new_deceased_male                      Int64         \n",
      " 19  new_deceased_female                    Int64         \n",
      " 20  cumulative_deceased_male               Int64         \n",
      " 21  cumulative_deceased_female             Int64         \n",
      " 22  new_persons_vaccinated                 Int64         \n",
      " 23  cumulative_persons_vaccinated          Int64         \n",
      " 24  new_persons_fully_vaccinated           Int64         \n",
      " 25  cumulative_persons_fully_vaccinated    Int64         \n",
      " 26  new_vaccine_doses_administered         Int64         \n",
      " 27  cumulative_vaccine_doses_administered  Int64         \n",
      " 28  search_trends_alcoholism               float64       \n",
      " 29  search_trends_anxiety                  float64       \n",
      " 30  search_trends_depression               float64       \n",
      " 31  search_trends_insomnia                 float64       \n",
      "dtypes: Int64(19), datetime64[ns](1), float64(4), object(8)\n",
      "memory usage: 5.8+ GB\n"
     ]
    }
   ],
   "execution_count": 53
  },
  {
   "metadata": {
    "ExecuteTime": {
     "end_time": "2025-03-13T20:55:25.817489Z",
     "start_time": "2025-03-13T20:55:25.815510Z"
    }
   },
   "cell_type": "code",
   "source": "# df_combined.to_csv('output/combined_part_5.csv')",
   "id": "32d4a92cb11a299d",
   "outputs": [],
   "execution_count": 54
  },
  {
   "metadata": {},
   "cell_type": "markdown",
   "source": "## Część 6",
   "id": "7295bb62b7b4c95d"
  },
  {
   "metadata": {},
   "cell_type": "markdown",
   "source": "Połącz ze sobą dane otrzymane w części 5 oraz dane znajdujące się w plikach:",
   "id": "6b5c27a8e541f4d9"
  },
  {
   "metadata": {},
   "cell_type": "markdown",
   "source": "##### **6.1.** world_countries.csv",
   "id": "dd9e291a0dc6a8b6"
  },
  {
   "metadata": {},
   "cell_type": "markdown",
   "source": [
    "Podstawowe dane dotyczące krajów na całym świecie razem z historycznymi danymi na temat ich populacji. Kolejno zawarto:\n",
    "- Rank - miejsce w rankingu wyznaczone na podstawie populacji.\n",
    "- CCA3 - 3-literowy kod kraju lub terytorium zapisany w standardzie ISO 3166-1 alpha-3.\n",
    "- Country/Territories - nazwa kraju lub terytorium.\n",
    "- Capital - nazwa stolicy.\n",
    "- Continent - nazwa kontynentu.\n",
    "- 2022 Population - populacja kraju lub terytorium w 2022 roku.\n",
    "- 2020 Population - populacja kraju lub terytorium w 2020 roku.\n",
    "- 2015 Population - populacja kraju lub terytorium w 2015 roku.\n",
    "- 2010 Population - populacja kraju lub terytorium w 2010 roku.\n",
    "- 2000 Population - populacja kraju lub terytorium w 2000 roku.\n",
    "- 1990 Population - populacja kraju lub terytorium w 1990 roku.\n",
    "- 1980 Population - populacja kraju lub terytorium w 1980 roku.\n",
    "- 1970 Population - populacja kraju lub terytorium w 1970 roku.\n",
    "- Area (km²) - powierzchnia kraju lub terytorium podana w km².\n",
    "- Density (per km²) - gęstość zaludnienia kraju lub terytorium na 1 km².\n",
    "- Growth Rate - stosunek wyrażający stan populacji kraju lub terytorium w 2022 i 2021 roku, wartość zaokrąglona do 4 miejsc po przecinku.\n",
    "- World Population Percentage - udział procentowy populacji kraju lub terytorium w populacji całego świata, wartość zaokrąglona do 2 miejsc po przecinku."
   ],
   "id": "53da81bb78bff9f7"
  },
  {
   "metadata": {
    "ExecuteTime": {
     "end_time": "2025-03-13T20:55:25.845996Z",
     "start_time": "2025-03-13T20:55:25.841839Z"
    }
   },
   "cell_type": "code",
   "source": "df_world_countries = pd.read_csv('data/world_countries.csv')",
   "id": "f9a0099a5929d80d",
   "outputs": [],
   "execution_count": 55
  },
  {
   "metadata": {
    "ExecuteTime": {
     "end_time": "2025-03-13T20:55:25.864640Z",
     "start_time": "2025-03-13T20:55:25.860322Z"
    }
   },
   "cell_type": "code",
   "source": "df_world_countries.info()",
   "id": "4189ceadaa8e207c",
   "outputs": [
    {
     "name": "stdout",
     "output_type": "stream",
     "text": [
      "<class 'pandas.core.frame.DataFrame'>\n",
      "RangeIndex: 234 entries, 0 to 233\n",
      "Data columns (total 17 columns):\n",
      " #   Column                       Non-Null Count  Dtype  \n",
      "---  ------                       --------------  -----  \n",
      " 0   Rank                         234 non-null    int64  \n",
      " 1   CCA3                         234 non-null    object \n",
      " 2   Country/Territory            234 non-null    object \n",
      " 3   Capital                      234 non-null    object \n",
      " 4   Continent                    234 non-null    object \n",
      " 5   2022 Population              234 non-null    int64  \n",
      " 6   2020 Population              234 non-null    int64  \n",
      " 7   2015 Population              234 non-null    int64  \n",
      " 8   2010 Population              234 non-null    int64  \n",
      " 9   2000 Population              234 non-null    int64  \n",
      " 10  1990 Population              234 non-null    int64  \n",
      " 11  1980 Population              234 non-null    int64  \n",
      " 12  1970 Population              234 non-null    int64  \n",
      " 13  Area (km²)                   234 non-null    int64  \n",
      " 14  Density (per km²)            234 non-null    float64\n",
      " 15  Growth Rate                  234 non-null    float64\n",
      " 16  World Population Percentage  234 non-null    float64\n",
      "dtypes: float64(3), int64(10), object(4)\n",
      "memory usage: 31.2+ KB\n"
     ]
    }
   ],
   "execution_count": 56
  },
  {
   "metadata": {
    "ExecuteTime": {
     "end_time": "2025-03-13T20:55:25.883401Z",
     "start_time": "2025-03-13T20:55:25.878521Z"
    }
   },
   "cell_type": "code",
   "source": "df_world_countries.head()",
   "id": "e7d0b5ecc66f31d0",
   "outputs": [
    {
     "data": {
      "text/plain": [
       "   Rank CCA3 Country/Territory           Capital Continent  2022 Population  \\\n",
       "0    36  AFG       Afghanistan             Kabul      Asia         41128771   \n",
       "1   138  ALB           Albania            Tirana    Europe          2842321   \n",
       "2    34  DZA           Algeria           Algiers    Africa         44903225   \n",
       "3   213  ASM    American Samoa         Pago Pago   Oceania            44273   \n",
       "4   203  AND           Andorra  Andorra la Vella    Europe            79824   \n",
       "\n",
       "   2020 Population  2015 Population  2010 Population  2000 Population  \\\n",
       "0         38972230         33753499         28189672         19542982   \n",
       "1          2866849          2882481          2913399          3182021   \n",
       "2         43451666         39543154         35856344         30774621   \n",
       "3            46189            51368            54849            58230   \n",
       "4            77700            71746            71519            66097   \n",
       "\n",
       "   1990 Population  1980 Population  1970 Population  Area (km²)  \\\n",
       "0         10694796         12486631         10752971      652230   \n",
       "1          3295066          2941651          2324731       28748   \n",
       "2         25518074         18739378         13795915     2381741   \n",
       "3            47818            32886            27075         199   \n",
       "4            53569            35611            19860         468   \n",
       "\n",
       "   Density (per km²)  Growth Rate  World Population Percentage  \n",
       "0            63.0587       1.0257                         0.52  \n",
       "1            98.8702       0.9957                         0.04  \n",
       "2            18.8531       1.0164                         0.56  \n",
       "3           222.4774       0.9831                         0.00  \n",
       "4           170.5641       1.0100                         0.00  "
      ],
      "text/html": [
       "<div>\n",
       "<style scoped>\n",
       "    .dataframe tbody tr th:only-of-type {\n",
       "        vertical-align: middle;\n",
       "    }\n",
       "\n",
       "    .dataframe tbody tr th {\n",
       "        vertical-align: top;\n",
       "    }\n",
       "\n",
       "    .dataframe thead th {\n",
       "        text-align: right;\n",
       "    }\n",
       "</style>\n",
       "<table border=\"1\" class=\"dataframe\">\n",
       "  <thead>\n",
       "    <tr style=\"text-align: right;\">\n",
       "      <th></th>\n",
       "      <th>Rank</th>\n",
       "      <th>CCA3</th>\n",
       "      <th>Country/Territory</th>\n",
       "      <th>Capital</th>\n",
       "      <th>Continent</th>\n",
       "      <th>2022 Population</th>\n",
       "      <th>2020 Population</th>\n",
       "      <th>2015 Population</th>\n",
       "      <th>2010 Population</th>\n",
       "      <th>2000 Population</th>\n",
       "      <th>1990 Population</th>\n",
       "      <th>1980 Population</th>\n",
       "      <th>1970 Population</th>\n",
       "      <th>Area (km²)</th>\n",
       "      <th>Density (per km²)</th>\n",
       "      <th>Growth Rate</th>\n",
       "      <th>World Population Percentage</th>\n",
       "    </tr>\n",
       "  </thead>\n",
       "  <tbody>\n",
       "    <tr>\n",
       "      <th>0</th>\n",
       "      <td>36</td>\n",
       "      <td>AFG</td>\n",
       "      <td>Afghanistan</td>\n",
       "      <td>Kabul</td>\n",
       "      <td>Asia</td>\n",
       "      <td>41128771</td>\n",
       "      <td>38972230</td>\n",
       "      <td>33753499</td>\n",
       "      <td>28189672</td>\n",
       "      <td>19542982</td>\n",
       "      <td>10694796</td>\n",
       "      <td>12486631</td>\n",
       "      <td>10752971</td>\n",
       "      <td>652230</td>\n",
       "      <td>63.0587</td>\n",
       "      <td>1.0257</td>\n",
       "      <td>0.52</td>\n",
       "    </tr>\n",
       "    <tr>\n",
       "      <th>1</th>\n",
       "      <td>138</td>\n",
       "      <td>ALB</td>\n",
       "      <td>Albania</td>\n",
       "      <td>Tirana</td>\n",
       "      <td>Europe</td>\n",
       "      <td>2842321</td>\n",
       "      <td>2866849</td>\n",
       "      <td>2882481</td>\n",
       "      <td>2913399</td>\n",
       "      <td>3182021</td>\n",
       "      <td>3295066</td>\n",
       "      <td>2941651</td>\n",
       "      <td>2324731</td>\n",
       "      <td>28748</td>\n",
       "      <td>98.8702</td>\n",
       "      <td>0.9957</td>\n",
       "      <td>0.04</td>\n",
       "    </tr>\n",
       "    <tr>\n",
       "      <th>2</th>\n",
       "      <td>34</td>\n",
       "      <td>DZA</td>\n",
       "      <td>Algeria</td>\n",
       "      <td>Algiers</td>\n",
       "      <td>Africa</td>\n",
       "      <td>44903225</td>\n",
       "      <td>43451666</td>\n",
       "      <td>39543154</td>\n",
       "      <td>35856344</td>\n",
       "      <td>30774621</td>\n",
       "      <td>25518074</td>\n",
       "      <td>18739378</td>\n",
       "      <td>13795915</td>\n",
       "      <td>2381741</td>\n",
       "      <td>18.8531</td>\n",
       "      <td>1.0164</td>\n",
       "      <td>0.56</td>\n",
       "    </tr>\n",
       "    <tr>\n",
       "      <th>3</th>\n",
       "      <td>213</td>\n",
       "      <td>ASM</td>\n",
       "      <td>American Samoa</td>\n",
       "      <td>Pago Pago</td>\n",
       "      <td>Oceania</td>\n",
       "      <td>44273</td>\n",
       "      <td>46189</td>\n",
       "      <td>51368</td>\n",
       "      <td>54849</td>\n",
       "      <td>58230</td>\n",
       "      <td>47818</td>\n",
       "      <td>32886</td>\n",
       "      <td>27075</td>\n",
       "      <td>199</td>\n",
       "      <td>222.4774</td>\n",
       "      <td>0.9831</td>\n",
       "      <td>0.00</td>\n",
       "    </tr>\n",
       "    <tr>\n",
       "      <th>4</th>\n",
       "      <td>203</td>\n",
       "      <td>AND</td>\n",
       "      <td>Andorra</td>\n",
       "      <td>Andorra la Vella</td>\n",
       "      <td>Europe</td>\n",
       "      <td>79824</td>\n",
       "      <td>77700</td>\n",
       "      <td>71746</td>\n",
       "      <td>71519</td>\n",
       "      <td>66097</td>\n",
       "      <td>53569</td>\n",
       "      <td>35611</td>\n",
       "      <td>19860</td>\n",
       "      <td>468</td>\n",
       "      <td>170.5641</td>\n",
       "      <td>1.0100</td>\n",
       "      <td>0.00</td>\n",
       "    </tr>\n",
       "  </tbody>\n",
       "</table>\n",
       "</div>"
      ]
     },
     "execution_count": 57,
     "metadata": {},
     "output_type": "execute_result"
    }
   ],
   "execution_count": 57
  },
  {
   "metadata": {
    "ExecuteTime": {
     "end_time": "2025-03-13T20:55:25.931937Z",
     "start_time": "2025-03-13T20:55:25.929390Z"
    }
   },
   "cell_type": "code",
   "source": "df_world_countries.isna().sum()",
   "id": "67e0c967067adda7",
   "outputs": [
    {
     "data": {
      "text/plain": [
       "Rank                           0\n",
       "CCA3                           0\n",
       "Country/Territory              0\n",
       "Capital                        0\n",
       "Continent                      0\n",
       "2022 Population                0\n",
       "2020 Population                0\n",
       "2015 Population                0\n",
       "2010 Population                0\n",
       "2000 Population                0\n",
       "1990 Population                0\n",
       "1980 Population                0\n",
       "1970 Population                0\n",
       "Area (km²)                     0\n",
       "Density (per km²)              0\n",
       "Growth Rate                    0\n",
       "World Population Percentage    0\n",
       "dtype: int64"
      ]
     },
     "execution_count": 58,
     "metadata": {},
     "output_type": "execute_result"
    }
   ],
   "execution_count": 58
  },
  {
   "metadata": {
    "ExecuteTime": {
     "end_time": "2025-03-13T20:55:25.997146Z",
     "start_time": "2025-03-13T20:55:25.985014Z"
    }
   },
   "cell_type": "code",
   "source": "df_world_countries.describe()",
   "id": "9db073584cdbefb2",
   "outputs": [
    {
     "data": {
      "text/plain": [
       "             Rank  2022 Population  2020 Population  2015 Population  \\\n",
       "count  234.000000     2.340000e+02     2.340000e+02     2.340000e+02   \n",
       "mean   117.500000     3.407441e+07     3.350107e+07     3.172996e+07   \n",
       "std     67.694165     1.367664e+08     1.355899e+08     1.304050e+08   \n",
       "min      1.000000     5.100000e+02     5.200000e+02     5.640000e+02   \n",
       "25%     59.250000     4.197385e+05     4.152845e+05     4.046760e+05   \n",
       "50%    117.500000     5.559944e+06     5.493074e+06     5.307400e+06   \n",
       "75%    175.750000     2.247650e+07     2.144798e+07     1.973085e+07   \n",
       "max    234.000000     1.425887e+09     1.424930e+09     1.393715e+09   \n",
       "\n",
       "       2010 Population  2000 Population  1990 Population  1980 Population  \\\n",
       "count     2.340000e+02     2.340000e+02     2.340000e+02     2.340000e+02   \n",
       "mean      2.984524e+07     2.626947e+07     2.271022e+07     1.898462e+07   \n",
       "std       1.242185e+08     1.116982e+08     9.783217e+07     8.178519e+07   \n",
       "min       5.960000e+02     6.510000e+02     7.000000e+02     7.330000e+02   \n",
       "25%       3.931490e+05     3.272420e+05     2.641158e+05     2.296142e+05   \n",
       "50%       4.942770e+06     4.292907e+06     3.825410e+06     3.141146e+06   \n",
       "75%       1.915957e+07     1.576230e+07     1.186923e+07     9.826054e+06   \n",
       "max       1.348191e+09     1.264099e+09     1.153704e+09     9.823725e+08   \n",
       "\n",
       "       1970 Population    Area (km²)  Density (per km²)  Growth Rate  \\\n",
       "count     2.340000e+02  2.340000e+02         234.000000   234.000000   \n",
       "mean      1.578691e+07  5.814494e+05         452.127044     1.009577   \n",
       "std       6.779509e+07  1.761841e+06        2066.121904     0.013385   \n",
       "min       7.520000e+02  1.000000e+00           0.026100     0.912000   \n",
       "25%       1.559970e+05  2.650000e+03          38.417875     1.001775   \n",
       "50%       2.604830e+06  8.119950e+04          95.346750     1.007900   \n",
       "75%       8.817329e+06  4.304258e+05         238.933250     1.016950   \n",
       "max       8.225344e+08  1.709824e+07       23172.266700     1.069100   \n",
       "\n",
       "       World Population Percentage  \n",
       "count                   234.000000  \n",
       "mean                      0.427051  \n",
       "std                       1.714977  \n",
       "min                       0.000000  \n",
       "25%                       0.010000  \n",
       "50%                       0.070000  \n",
       "75%                       0.280000  \n",
       "max                      17.880000  "
      ],
      "text/html": [
       "<div>\n",
       "<style scoped>\n",
       "    .dataframe tbody tr th:only-of-type {\n",
       "        vertical-align: middle;\n",
       "    }\n",
       "\n",
       "    .dataframe tbody tr th {\n",
       "        vertical-align: top;\n",
       "    }\n",
       "\n",
       "    .dataframe thead th {\n",
       "        text-align: right;\n",
       "    }\n",
       "</style>\n",
       "<table border=\"1\" class=\"dataframe\">\n",
       "  <thead>\n",
       "    <tr style=\"text-align: right;\">\n",
       "      <th></th>\n",
       "      <th>Rank</th>\n",
       "      <th>2022 Population</th>\n",
       "      <th>2020 Population</th>\n",
       "      <th>2015 Population</th>\n",
       "      <th>2010 Population</th>\n",
       "      <th>2000 Population</th>\n",
       "      <th>1990 Population</th>\n",
       "      <th>1980 Population</th>\n",
       "      <th>1970 Population</th>\n",
       "      <th>Area (km²)</th>\n",
       "      <th>Density (per km²)</th>\n",
       "      <th>Growth Rate</th>\n",
       "      <th>World Population Percentage</th>\n",
       "    </tr>\n",
       "  </thead>\n",
       "  <tbody>\n",
       "    <tr>\n",
       "      <th>count</th>\n",
       "      <td>234.000000</td>\n",
       "      <td>2.340000e+02</td>\n",
       "      <td>2.340000e+02</td>\n",
       "      <td>2.340000e+02</td>\n",
       "      <td>2.340000e+02</td>\n",
       "      <td>2.340000e+02</td>\n",
       "      <td>2.340000e+02</td>\n",
       "      <td>2.340000e+02</td>\n",
       "      <td>2.340000e+02</td>\n",
       "      <td>2.340000e+02</td>\n",
       "      <td>234.000000</td>\n",
       "      <td>234.000000</td>\n",
       "      <td>234.000000</td>\n",
       "    </tr>\n",
       "    <tr>\n",
       "      <th>mean</th>\n",
       "      <td>117.500000</td>\n",
       "      <td>3.407441e+07</td>\n",
       "      <td>3.350107e+07</td>\n",
       "      <td>3.172996e+07</td>\n",
       "      <td>2.984524e+07</td>\n",
       "      <td>2.626947e+07</td>\n",
       "      <td>2.271022e+07</td>\n",
       "      <td>1.898462e+07</td>\n",
       "      <td>1.578691e+07</td>\n",
       "      <td>5.814494e+05</td>\n",
       "      <td>452.127044</td>\n",
       "      <td>1.009577</td>\n",
       "      <td>0.427051</td>\n",
       "    </tr>\n",
       "    <tr>\n",
       "      <th>std</th>\n",
       "      <td>67.694165</td>\n",
       "      <td>1.367664e+08</td>\n",
       "      <td>1.355899e+08</td>\n",
       "      <td>1.304050e+08</td>\n",
       "      <td>1.242185e+08</td>\n",
       "      <td>1.116982e+08</td>\n",
       "      <td>9.783217e+07</td>\n",
       "      <td>8.178519e+07</td>\n",
       "      <td>6.779509e+07</td>\n",
       "      <td>1.761841e+06</td>\n",
       "      <td>2066.121904</td>\n",
       "      <td>0.013385</td>\n",
       "      <td>1.714977</td>\n",
       "    </tr>\n",
       "    <tr>\n",
       "      <th>min</th>\n",
       "      <td>1.000000</td>\n",
       "      <td>5.100000e+02</td>\n",
       "      <td>5.200000e+02</td>\n",
       "      <td>5.640000e+02</td>\n",
       "      <td>5.960000e+02</td>\n",
       "      <td>6.510000e+02</td>\n",
       "      <td>7.000000e+02</td>\n",
       "      <td>7.330000e+02</td>\n",
       "      <td>7.520000e+02</td>\n",
       "      <td>1.000000e+00</td>\n",
       "      <td>0.026100</td>\n",
       "      <td>0.912000</td>\n",
       "      <td>0.000000</td>\n",
       "    </tr>\n",
       "    <tr>\n",
       "      <th>25%</th>\n",
       "      <td>59.250000</td>\n",
       "      <td>4.197385e+05</td>\n",
       "      <td>4.152845e+05</td>\n",
       "      <td>4.046760e+05</td>\n",
       "      <td>3.931490e+05</td>\n",
       "      <td>3.272420e+05</td>\n",
       "      <td>2.641158e+05</td>\n",
       "      <td>2.296142e+05</td>\n",
       "      <td>1.559970e+05</td>\n",
       "      <td>2.650000e+03</td>\n",
       "      <td>38.417875</td>\n",
       "      <td>1.001775</td>\n",
       "      <td>0.010000</td>\n",
       "    </tr>\n",
       "    <tr>\n",
       "      <th>50%</th>\n",
       "      <td>117.500000</td>\n",
       "      <td>5.559944e+06</td>\n",
       "      <td>5.493074e+06</td>\n",
       "      <td>5.307400e+06</td>\n",
       "      <td>4.942770e+06</td>\n",
       "      <td>4.292907e+06</td>\n",
       "      <td>3.825410e+06</td>\n",
       "      <td>3.141146e+06</td>\n",
       "      <td>2.604830e+06</td>\n",
       "      <td>8.119950e+04</td>\n",
       "      <td>95.346750</td>\n",
       "      <td>1.007900</td>\n",
       "      <td>0.070000</td>\n",
       "    </tr>\n",
       "    <tr>\n",
       "      <th>75%</th>\n",
       "      <td>175.750000</td>\n",
       "      <td>2.247650e+07</td>\n",
       "      <td>2.144798e+07</td>\n",
       "      <td>1.973085e+07</td>\n",
       "      <td>1.915957e+07</td>\n",
       "      <td>1.576230e+07</td>\n",
       "      <td>1.186923e+07</td>\n",
       "      <td>9.826054e+06</td>\n",
       "      <td>8.817329e+06</td>\n",
       "      <td>4.304258e+05</td>\n",
       "      <td>238.933250</td>\n",
       "      <td>1.016950</td>\n",
       "      <td>0.280000</td>\n",
       "    </tr>\n",
       "    <tr>\n",
       "      <th>max</th>\n",
       "      <td>234.000000</td>\n",
       "      <td>1.425887e+09</td>\n",
       "      <td>1.424930e+09</td>\n",
       "      <td>1.393715e+09</td>\n",
       "      <td>1.348191e+09</td>\n",
       "      <td>1.264099e+09</td>\n",
       "      <td>1.153704e+09</td>\n",
       "      <td>9.823725e+08</td>\n",
       "      <td>8.225344e+08</td>\n",
       "      <td>1.709824e+07</td>\n",
       "      <td>23172.266700</td>\n",
       "      <td>1.069100</td>\n",
       "      <td>17.880000</td>\n",
       "    </tr>\n",
       "  </tbody>\n",
       "</table>\n",
       "</div>"
      ]
     },
     "execution_count": 59,
     "metadata": {},
     "output_type": "execute_result"
    }
   ],
   "execution_count": 59
  },
  {
   "metadata": {},
   "cell_type": "markdown",
   "source": "Dane o populacji spoza zakresu zarejestrowanych danych o COVID-19 (2020-2022) zostaną wyfiltrowane. Zostaną również usunięte dane o stolicach oraz pełych nazwach krajów (dane o stolicach są nieistotne, a pełne nazwy krajów są już zawarte w danych o COVID-19).",
   "id": "4af7e94b87cb851e"
  },
  {
   "metadata": {
    "ExecuteTime": {
     "end_time": "2025-03-13T20:55:26.092115Z",
     "start_time": "2025-03-13T20:55:26.090186Z"
    }
   },
   "cell_type": "code",
   "source": "df_world_countries_filtered = df_world_countries.copy()",
   "id": "a10e8318609ba1d9",
   "outputs": [],
   "execution_count": 60
  },
  {
   "metadata": {
    "ExecuteTime": {
     "end_time": "2025-03-13T20:55:26.167108Z",
     "start_time": "2025-03-13T20:55:26.163876Z"
    }
   },
   "cell_type": "code",
   "source": [
    "df_world_countries_filtered.drop(\n",
    "    columns=['Country/Territory', 'Capital', '1970 Population', '1980 Population', '1990 Population', '2000 Population',\n",
    "             '2010 Population', '2015 Population'],\n",
    "    inplace=True\n",
    ")\n",
    "\n",
    "df_world_countries_filtered.rename(\n",
    "    columns={\n",
    "        'Rank': 'country_population_rank',\n",
    "        'CCA3': 'iso_3166_1_alpha_3',\n",
    "        'Continent': 'continent',\n",
    "        '2022 Population': 'country_population_2022',\n",
    "        '2020 Population': 'country_population_2020',\n",
    "        'Area (km²)': 'country_area_sq_km',\n",
    "        'Density (per km²)': 'country_population_density_per_sq_km',\n",
    "        'Growth Rate': 'country_population_growth_rate',\n",
    "        'World Population Percentage': 'country_world_population_percentage'\n",
    "    },\n",
    "    inplace=True\n",
    ")"
   ],
   "id": "db58d463303d8ce5",
   "outputs": [],
   "execution_count": 61
  },
  {
   "metadata": {
    "ExecuteTime": {
     "end_time": "2025-03-13T20:55:33.499885Z",
     "start_time": "2025-03-13T20:55:26.244682Z"
    }
   },
   "cell_type": "code",
   "source": [
    "df_combined = df_combined.merge(\n",
    "    df_world_countries_filtered, how='left', on='iso_3166_1_alpha_3'\n",
    ")"
   ],
   "id": "d4d55fc3aa2609a8",
   "outputs": [],
   "execution_count": 62
  },
  {
   "metadata": {
    "ExecuteTime": {
     "end_time": "2025-03-13T20:55:33.526585Z",
     "start_time": "2025-03-13T20:55:33.522101Z"
    }
   },
   "cell_type": "code",
   "source": "df_combined.info()",
   "id": "9636d0d2480f27ec",
   "outputs": [
    {
     "name": "stdout",
     "output_type": "stream",
     "text": [
      "<class 'pandas.core.frame.DataFrame'>\n",
      "RangeIndex: 22756333 entries, 0 to 22756332\n",
      "Data columns (total 40 columns):\n",
      " #   Column                                 Dtype         \n",
      "---  ------                                 -----         \n",
      " 0   location_key                           object        \n",
      " 1   date                                   datetime64[ns]\n",
      " 2   country_name                           object        \n",
      " 3   aggregation_level                      Int64         \n",
      " 4   iso_3166_1_alpha_2                     object        \n",
      " 5   iso_3166_1_alpha_3                     object        \n",
      " 6   subregion1_code                        object        \n",
      " 7   subregion1_name                        object        \n",
      " 8   subregion2_code                        object        \n",
      " 9   subregion2_name                        object        \n",
      " 10  new_confirmed                          Int64         \n",
      " 11  cumulative_confirmed                   Int64         \n",
      " 12  new_confirmed_male                     Int64         \n",
      " 13  new_confirmed_female                   Int64         \n",
      " 14  cumulative_confirmed_male              Int64         \n",
      " 15  cumulative_confirmed_female            Int64         \n",
      " 16  new_deceased                           Int64         \n",
      " 17  cumulative_deceased                    Int64         \n",
      " 18  new_deceased_male                      Int64         \n",
      " 19  new_deceased_female                    Int64         \n",
      " 20  cumulative_deceased_male               Int64         \n",
      " 21  cumulative_deceased_female             Int64         \n",
      " 22  new_persons_vaccinated                 Int64         \n",
      " 23  cumulative_persons_vaccinated          Int64         \n",
      " 24  new_persons_fully_vaccinated           Int64         \n",
      " 25  cumulative_persons_fully_vaccinated    Int64         \n",
      " 26  new_vaccine_doses_administered         Int64         \n",
      " 27  cumulative_vaccine_doses_administered  Int64         \n",
      " 28  search_trends_alcoholism               float64       \n",
      " 29  search_trends_anxiety                  float64       \n",
      " 30  search_trends_depression               float64       \n",
      " 31  search_trends_insomnia                 float64       \n",
      " 32  country_population_rank                float64       \n",
      " 33  continent                              object        \n",
      " 34  country_population_2022                float64       \n",
      " 35  country_population_2020                float64       \n",
      " 36  country_area_sq_km                     float64       \n",
      " 37  country_population_density_per_sq_km   float64       \n",
      " 38  country_population_growth_rate         float64       \n",
      " 39  country_world_population_percentage    float64       \n",
      "dtypes: Int64(19), datetime64[ns](1), float64(11), object(9)\n",
      "memory usage: 7.2+ GB\n"
     ]
    }
   ],
   "execution_count": 63
  },
  {
   "metadata": {},
   "cell_type": "markdown",
   "source": "##### **6.2.** GDP.csv",
   "id": "f11f35395a5e72e3"
  },
  {
   "metadata": {},
   "cell_type": "markdown",
   "source": [
    "Wartości produktu krajowego brutto (w skrócie PKB, ang. GDP - gross domestic product) w krajach i regionach świata. Kolejno zawarto:\n",
    "- Country Name - nazwa kraju lub regionu.\n",
    "- Country Code - 3-literowy kod kraju lub regionu.\n",
    "- Year - rok, dla którego zapisano wartość PKB.\n",
    "- Value - wartość PKB podana w USD."
   ],
   "id": "b4d03f325cfcfb7b"
  },
  {
   "metadata": {
    "ExecuteTime": {
     "end_time": "2025-03-13T20:55:33.563550Z",
     "start_time": "2025-03-13T20:55:33.556912Z"
    }
   },
   "cell_type": "code",
   "source": "df_gdp = pd.read_csv('data/gdp.csv')",
   "id": "b2fc917dea23189d",
   "outputs": [],
   "execution_count": 64
  },
  {
   "metadata": {
    "ExecuteTime": {
     "end_time": "2025-03-13T20:55:33.582886Z",
     "start_time": "2025-03-13T20:55:33.578693Z"
    }
   },
   "cell_type": "code",
   "source": "df_gdp.info()",
   "id": "caf77b44ad9d306b",
   "outputs": [
    {
     "name": "stdout",
     "output_type": "stream",
     "text": [
      "<class 'pandas.core.frame.DataFrame'>\n",
      "RangeIndex: 11507 entries, 0 to 11506\n",
      "Data columns (total 4 columns):\n",
      " #   Column        Non-Null Count  Dtype  \n",
      "---  ------        --------------  -----  \n",
      " 0   Country Name  11507 non-null  object \n",
      " 1   Country Code  11507 non-null  object \n",
      " 2   Year          11507 non-null  int64  \n",
      " 3   Value         11507 non-null  float64\n",
      "dtypes: float64(1), int64(1), object(2)\n",
      "memory usage: 359.7+ KB\n"
     ]
    }
   ],
   "execution_count": 65
  },
  {
   "metadata": {
    "ExecuteTime": {
     "end_time": "2025-03-13T20:55:33.606801Z",
     "start_time": "2025-03-13T20:55:33.603288Z"
    }
   },
   "cell_type": "code",
   "source": "df_gdp.head()",
   "id": "3f246bd5fac23cd9",
   "outputs": [
    {
     "data": {
      "text/plain": [
       "  Country Name Country Code  Year         Value\n",
       "0   Arab World          ARB  1968  2.576068e+10\n",
       "1   Arab World          ARB  1969  2.843420e+10\n",
       "2   Arab World          ARB  1970  3.138550e+10\n",
       "3   Arab World          ARB  1971  3.642691e+10\n",
       "4   Arab World          ARB  1972  4.331606e+10"
      ],
      "text/html": [
       "<div>\n",
       "<style scoped>\n",
       "    .dataframe tbody tr th:only-of-type {\n",
       "        vertical-align: middle;\n",
       "    }\n",
       "\n",
       "    .dataframe tbody tr th {\n",
       "        vertical-align: top;\n",
       "    }\n",
       "\n",
       "    .dataframe thead th {\n",
       "        text-align: right;\n",
       "    }\n",
       "</style>\n",
       "<table border=\"1\" class=\"dataframe\">\n",
       "  <thead>\n",
       "    <tr style=\"text-align: right;\">\n",
       "      <th></th>\n",
       "      <th>Country Name</th>\n",
       "      <th>Country Code</th>\n",
       "      <th>Year</th>\n",
       "      <th>Value</th>\n",
       "    </tr>\n",
       "  </thead>\n",
       "  <tbody>\n",
       "    <tr>\n",
       "      <th>0</th>\n",
       "      <td>Arab World</td>\n",
       "      <td>ARB</td>\n",
       "      <td>1968</td>\n",
       "      <td>2.576068e+10</td>\n",
       "    </tr>\n",
       "    <tr>\n",
       "      <th>1</th>\n",
       "      <td>Arab World</td>\n",
       "      <td>ARB</td>\n",
       "      <td>1969</td>\n",
       "      <td>2.843420e+10</td>\n",
       "    </tr>\n",
       "    <tr>\n",
       "      <th>2</th>\n",
       "      <td>Arab World</td>\n",
       "      <td>ARB</td>\n",
       "      <td>1970</td>\n",
       "      <td>3.138550e+10</td>\n",
       "    </tr>\n",
       "    <tr>\n",
       "      <th>3</th>\n",
       "      <td>Arab World</td>\n",
       "      <td>ARB</td>\n",
       "      <td>1971</td>\n",
       "      <td>3.642691e+10</td>\n",
       "    </tr>\n",
       "    <tr>\n",
       "      <th>4</th>\n",
       "      <td>Arab World</td>\n",
       "      <td>ARB</td>\n",
       "      <td>1972</td>\n",
       "      <td>4.331606e+10</td>\n",
       "    </tr>\n",
       "  </tbody>\n",
       "</table>\n",
       "</div>"
      ]
     },
     "execution_count": 66,
     "metadata": {},
     "output_type": "execute_result"
    }
   ],
   "execution_count": 66
  },
  {
   "metadata": {
    "ExecuteTime": {
     "end_time": "2025-03-13T20:55:33.640389Z",
     "start_time": "2025-03-13T20:55:33.637269Z"
    }
   },
   "cell_type": "code",
   "source": "df_gdp.isna().sum()",
   "id": "9112779ceeda185e",
   "outputs": [
    {
     "data": {
      "text/plain": [
       "Country Name    0\n",
       "Country Code    0\n",
       "Year            0\n",
       "Value           0\n",
       "dtype: int64"
      ]
     },
     "execution_count": 67,
     "metadata": {},
     "output_type": "execute_result"
    }
   ],
   "execution_count": 67
  },
  {
   "metadata": {
    "ExecuteTime": {
     "end_time": "2025-03-13T20:55:33.708757Z",
     "start_time": "2025-03-13T20:55:33.703194Z"
    }
   },
   "cell_type": "code",
   "source": "df_gdp.describe()",
   "id": "ce70d8cc91a5fada",
   "outputs": [
    {
     "data": {
      "text/plain": [
       "               Year         Value\n",
       "count  11507.000000  1.150700e+04\n",
       "mean    1991.265230  1.005972e+12\n",
       "std       15.886648  4.533056e+12\n",
       "min     1960.000000  8.824448e+06\n",
       "25%     1978.000000  2.056874e+09\n",
       "50%     1993.000000  1.436880e+10\n",
       "75%     2005.000000  1.796394e+11\n",
       "max     2016.000000  7.904923e+13"
      ],
      "text/html": [
       "<div>\n",
       "<style scoped>\n",
       "    .dataframe tbody tr th:only-of-type {\n",
       "        vertical-align: middle;\n",
       "    }\n",
       "\n",
       "    .dataframe tbody tr th {\n",
       "        vertical-align: top;\n",
       "    }\n",
       "\n",
       "    .dataframe thead th {\n",
       "        text-align: right;\n",
       "    }\n",
       "</style>\n",
       "<table border=\"1\" class=\"dataframe\">\n",
       "  <thead>\n",
       "    <tr style=\"text-align: right;\">\n",
       "      <th></th>\n",
       "      <th>Year</th>\n",
       "      <th>Value</th>\n",
       "    </tr>\n",
       "  </thead>\n",
       "  <tbody>\n",
       "    <tr>\n",
       "      <th>count</th>\n",
       "      <td>11507.000000</td>\n",
       "      <td>1.150700e+04</td>\n",
       "    </tr>\n",
       "    <tr>\n",
       "      <th>mean</th>\n",
       "      <td>1991.265230</td>\n",
       "      <td>1.005972e+12</td>\n",
       "    </tr>\n",
       "    <tr>\n",
       "      <th>std</th>\n",
       "      <td>15.886648</td>\n",
       "      <td>4.533056e+12</td>\n",
       "    </tr>\n",
       "    <tr>\n",
       "      <th>min</th>\n",
       "      <td>1960.000000</td>\n",
       "      <td>8.824448e+06</td>\n",
       "    </tr>\n",
       "    <tr>\n",
       "      <th>25%</th>\n",
       "      <td>1978.000000</td>\n",
       "      <td>2.056874e+09</td>\n",
       "    </tr>\n",
       "    <tr>\n",
       "      <th>50%</th>\n",
       "      <td>1993.000000</td>\n",
       "      <td>1.436880e+10</td>\n",
       "    </tr>\n",
       "    <tr>\n",
       "      <th>75%</th>\n",
       "      <td>2005.000000</td>\n",
       "      <td>1.796394e+11</td>\n",
       "    </tr>\n",
       "    <tr>\n",
       "      <th>max</th>\n",
       "      <td>2016.000000</td>\n",
       "      <td>7.904923e+13</td>\n",
       "    </tr>\n",
       "  </tbody>\n",
       "</table>\n",
       "</div>"
      ]
     },
     "execution_count": 68,
     "metadata": {},
     "output_type": "execute_result"
    }
   ],
   "execution_count": 68
  },
  {
   "metadata": {
    "ExecuteTime": {
     "end_time": "2025-03-13T20:55:33.774144Z",
     "start_time": "2025-03-13T20:55:33.771977Z"
    }
   },
   "cell_type": "code",
   "source": "df_gdp_filtered = df_gdp.copy()",
   "id": "9abecb5014ae621d",
   "outputs": [],
   "execution_count": 69
  },
  {
   "metadata": {
    "ExecuteTime": {
     "end_time": "2025-03-13T20:55:33.859740Z",
     "start_time": "2025-03-13T20:55:33.857162Z"
    }
   },
   "cell_type": "code",
   "source": [
    "df_gdp_filtered.drop(columns='Country Name', inplace=True)\n",
    "\n",
    "df_gdp_filtered.rename(\n",
    "    columns={\n",
    "        'Country Code': 'iso_3166_1_alpha_3',\n",
    "        'Year': 'year',\n",
    "        'Value': 'country_gdp_usd'\n",
    "    },\n",
    "    inplace=True\n",
    ")"
   ],
   "id": "2baf85c8bb492fda",
   "outputs": [],
   "execution_count": 70
  },
  {
   "metadata": {
    "ExecuteTime": {
     "end_time": "2025-03-13T20:55:48.696813Z",
     "start_time": "2025-03-13T20:55:33.898171Z"
    }
   },
   "cell_type": "code",
   "source": [
    "df_combined['year'] = pd.to_datetime(df_combined['date']).dt.year\n",
    "\n",
    "df_combined = df_combined.merge(\n",
    "    df_gdp_filtered,\n",
    "    how='left',\n",
    "    on=['iso_3166_1_alpha_3', 'year']\n",
    ")\n",
    "\n",
    "df_combined.drop(columns='year', inplace=True)"
   ],
   "id": "90b6f5ec8289b5f5",
   "outputs": [],
   "execution_count": 71
  },
  {
   "metadata": {
    "ExecuteTime": {
     "end_time": "2025-03-13T20:55:48.729047Z",
     "start_time": "2025-03-13T20:55:48.722346Z"
    }
   },
   "cell_type": "code",
   "source": "df_combined.info()",
   "id": "70daf6cb81b80582",
   "outputs": [
    {
     "name": "stdout",
     "output_type": "stream",
     "text": [
      "<class 'pandas.core.frame.DataFrame'>\n",
      "RangeIndex: 22756333 entries, 0 to 22756332\n",
      "Data columns (total 41 columns):\n",
      " #   Column                                 Dtype         \n",
      "---  ------                                 -----         \n",
      " 0   location_key                           object        \n",
      " 1   date                                   datetime64[ns]\n",
      " 2   country_name                           object        \n",
      " 3   aggregation_level                      Int64         \n",
      " 4   iso_3166_1_alpha_2                     object        \n",
      " 5   iso_3166_1_alpha_3                     object        \n",
      " 6   subregion1_code                        object        \n",
      " 7   subregion1_name                        object        \n",
      " 8   subregion2_code                        object        \n",
      " 9   subregion2_name                        object        \n",
      " 10  new_confirmed                          Int64         \n",
      " 11  cumulative_confirmed                   Int64         \n",
      " 12  new_confirmed_male                     Int64         \n",
      " 13  new_confirmed_female                   Int64         \n",
      " 14  cumulative_confirmed_male              Int64         \n",
      " 15  cumulative_confirmed_female            Int64         \n",
      " 16  new_deceased                           Int64         \n",
      " 17  cumulative_deceased                    Int64         \n",
      " 18  new_deceased_male                      Int64         \n",
      " 19  new_deceased_female                    Int64         \n",
      " 20  cumulative_deceased_male               Int64         \n",
      " 21  cumulative_deceased_female             Int64         \n",
      " 22  new_persons_vaccinated                 Int64         \n",
      " 23  cumulative_persons_vaccinated          Int64         \n",
      " 24  new_persons_fully_vaccinated           Int64         \n",
      " 25  cumulative_persons_fully_vaccinated    Int64         \n",
      " 26  new_vaccine_doses_administered         Int64         \n",
      " 27  cumulative_vaccine_doses_administered  Int64         \n",
      " 28  search_trends_alcoholism               float64       \n",
      " 29  search_trends_anxiety                  float64       \n",
      " 30  search_trends_depression               float64       \n",
      " 31  search_trends_insomnia                 float64       \n",
      " 32  country_population_rank                float64       \n",
      " 33  continent                              object        \n",
      " 34  country_population_2022                float64       \n",
      " 35  country_population_2020                float64       \n",
      " 36  country_area_sq_km                     float64       \n",
      " 37  country_population_density_per_sq_km   float64       \n",
      " 38  country_population_growth_rate         float64       \n",
      " 39  country_world_population_percentage    float64       \n",
      " 40  country_gdp_usd                        float64       \n",
      "dtypes: Int64(19), datetime64[ns](1), float64(12), object(9)\n",
      "memory usage: 7.4+ GB\n"
     ]
    }
   ],
   "execution_count": 72
  },
  {
   "metadata": {},
   "cell_type": "markdown",
   "source": "Nowy zbiór danych zapisz jako oddzielny obiekt DataFrame. Jeżeli uważasz, że należy stworzyć kilka takich obiektów, zrób to i zapisz swoje uzasadnienie. Pamiętaj o ciągłej konieczności zachowania czystości danych. Wynik tego zadania zapisz w pliku / plikach CSV.",
   "id": "d5d862e414e454b3"
  },
  {
   "metadata": {
    "ExecuteTime": {
     "end_time": "2025-03-13T20:55:48.750252Z",
     "start_time": "2025-03-13T20:55:48.748788Z"
    }
   },
   "cell_type": "code",
   "source": "# df_combined.to_csv('output/combined_part_6.csv')",
   "id": "222e4ea93d714cef",
   "outputs": [],
   "execution_count": 73
  },
  {
   "metadata": {},
   "cell_type": "markdown",
   "source": [
    "## Część 7\n",
    "#### **Misja dodatkowa - Więcej danych**"
   ],
   "id": "1a0058eb8055a8dc"
  },
  {
   "metadata": {},
   "cell_type": "markdown",
   "source": "Znajdź 3 dodatkowe zbiory danych, które uważasz, że rozwijają w ciekawy sposób temat ostatniej pandemii. Powtórz dla nich analogiczne czynności z części 4, a następnie połącz je z danymi z części 6. Nowy zbiór danych zapisz jako oddzielny obiekt DataFrame. Jeżeli uważasz, że należy stworzyć kilka takich obiektów, zrób to i zapisz swoje uzasadnienie. Pamiętaj o ciągłej konieczności zachowania czystości danych. Wynik tego zadania zapisz w pliku / plikach CSV.",
   "id": "718c080589406e77"
  },
  {
   "metadata": {},
   "cell_type": "markdown",
   "source": [
    "##### **Zbiór 1.** Dane dotyczące globalnych kursów kryptowaluty Bitcoin.\n",
    "https://www.kaggle.com/datasets/svaningelgem/crypto-currencies-daily-prices"
   ],
   "id": "877ba48e00c03ee7"
  },
  {
   "metadata": {
    "ExecuteTime": {
     "end_time": "2025-03-13T20:55:48.772417Z",
     "start_time": "2025-03-13T20:55:48.766541Z"
    }
   },
   "cell_type": "code",
   "source": "df_crypto = pd.read_csv('data/BTC.csv')",
   "id": "d69473268d164504",
   "outputs": [],
   "execution_count": 74
  },
  {
   "metadata": {
    "ExecuteTime": {
     "end_time": "2025-03-13T20:55:48.792495Z",
     "start_time": "2025-03-13T20:55:48.788584Z"
    }
   },
   "cell_type": "code",
   "source": "df_crypto.info()",
   "id": "6eb5855d085e28db",
   "outputs": [
    {
     "name": "stdout",
     "output_type": "stream",
     "text": [
      "<class 'pandas.core.frame.DataFrame'>\n",
      "RangeIndex: 5300 entries, 0 to 5299\n",
      "Data columns (total 6 columns):\n",
      " #   Column  Non-Null Count  Dtype  \n",
      "---  ------  --------------  -----  \n",
      " 0   ticker  5300 non-null   object \n",
      " 1   date    5300 non-null   object \n",
      " 2   open    5300 non-null   float64\n",
      " 3   high    5300 non-null   float64\n",
      " 4   low     5300 non-null   float64\n",
      " 5   close   5300 non-null   float64\n",
      "dtypes: float64(4), object(2)\n",
      "memory usage: 248.6+ KB\n"
     ]
    }
   ],
   "execution_count": 75
  },
  {
   "metadata": {
    "ExecuteTime": {
     "end_time": "2025-03-13T20:55:48.813653Z",
     "start_time": "2025-03-13T20:55:48.808921Z"
    }
   },
   "cell_type": "code",
   "source": "df_crypto.head()",
   "id": "df8e231abe61c485",
   "outputs": [
    {
     "data": {
      "text/plain": [
       "  ticker        date     open     high      low    close\n",
       "0    BTC  2010-07-17  0.04951  0.04951  0.04951  0.04951\n",
       "1    BTC  2010-07-18  0.04951  0.08585  0.04951  0.08584\n",
       "2    BTC  2010-07-19  0.08584  0.09307  0.07723  0.08080\n",
       "3    BTC  2010-07-20  0.08080  0.08181  0.07426  0.07474\n",
       "4    BTC  2010-07-21  0.07474  0.07921  0.06634  0.07921"
      ],
      "text/html": [
       "<div>\n",
       "<style scoped>\n",
       "    .dataframe tbody tr th:only-of-type {\n",
       "        vertical-align: middle;\n",
       "    }\n",
       "\n",
       "    .dataframe tbody tr th {\n",
       "        vertical-align: top;\n",
       "    }\n",
       "\n",
       "    .dataframe thead th {\n",
       "        text-align: right;\n",
       "    }\n",
       "</style>\n",
       "<table border=\"1\" class=\"dataframe\">\n",
       "  <thead>\n",
       "    <tr style=\"text-align: right;\">\n",
       "      <th></th>\n",
       "      <th>ticker</th>\n",
       "      <th>date</th>\n",
       "      <th>open</th>\n",
       "      <th>high</th>\n",
       "      <th>low</th>\n",
       "      <th>close</th>\n",
       "    </tr>\n",
       "  </thead>\n",
       "  <tbody>\n",
       "    <tr>\n",
       "      <th>0</th>\n",
       "      <td>BTC</td>\n",
       "      <td>2010-07-17</td>\n",
       "      <td>0.04951</td>\n",
       "      <td>0.04951</td>\n",
       "      <td>0.04951</td>\n",
       "      <td>0.04951</td>\n",
       "    </tr>\n",
       "    <tr>\n",
       "      <th>1</th>\n",
       "      <td>BTC</td>\n",
       "      <td>2010-07-18</td>\n",
       "      <td>0.04951</td>\n",
       "      <td>0.08585</td>\n",
       "      <td>0.04951</td>\n",
       "      <td>0.08584</td>\n",
       "    </tr>\n",
       "    <tr>\n",
       "      <th>2</th>\n",
       "      <td>BTC</td>\n",
       "      <td>2010-07-19</td>\n",
       "      <td>0.08584</td>\n",
       "      <td>0.09307</td>\n",
       "      <td>0.07723</td>\n",
       "      <td>0.08080</td>\n",
       "    </tr>\n",
       "    <tr>\n",
       "      <th>3</th>\n",
       "      <td>BTC</td>\n",
       "      <td>2010-07-20</td>\n",
       "      <td>0.08080</td>\n",
       "      <td>0.08181</td>\n",
       "      <td>0.07426</td>\n",
       "      <td>0.07474</td>\n",
       "    </tr>\n",
       "    <tr>\n",
       "      <th>4</th>\n",
       "      <td>BTC</td>\n",
       "      <td>2010-07-21</td>\n",
       "      <td>0.07474</td>\n",
       "      <td>0.07921</td>\n",
       "      <td>0.06634</td>\n",
       "      <td>0.07921</td>\n",
       "    </tr>\n",
       "  </tbody>\n",
       "</table>\n",
       "</div>"
      ]
     },
     "execution_count": 76,
     "metadata": {},
     "output_type": "execute_result"
    }
   ],
   "execution_count": 76
  },
  {
   "metadata": {
    "ExecuteTime": {
     "end_time": "2025-03-13T20:55:48.856384Z",
     "start_time": "2025-03-13T20:55:48.853329Z"
    }
   },
   "cell_type": "code",
   "source": "df_crypto.isna().sum()",
   "id": "f08fbe5762f30e06",
   "outputs": [
    {
     "data": {
      "text/plain": [
       "ticker    0\n",
       "date      0\n",
       "open      0\n",
       "high      0\n",
       "low       0\n",
       "close     0\n",
       "dtype: int64"
      ]
     },
     "execution_count": 77,
     "metadata": {},
     "output_type": "execute_result"
    }
   ],
   "execution_count": 77
  },
  {
   "metadata": {
    "ExecuteTime": {
     "end_time": "2025-03-13T20:55:48.895664Z",
     "start_time": "2025-03-13T20:55:48.889135Z"
    }
   },
   "cell_type": "code",
   "source": "df_crypto.describe()",
   "id": "ef9b5c5f416b82e7",
   "outputs": [
    {
     "data": {
      "text/plain": [
       "                open           high            low          close\n",
       "count    5300.000000    5300.000000    5300.000000    5300.000000\n",
       "mean    14222.022606   14558.291070   13864.188277   14237.440034\n",
       "std     21067.485260   21534.072186   20566.435094   21085.009956\n",
       "min         0.049510       0.049510       0.010000       0.049510\n",
       "25%       236.517500     240.495000     232.377500     236.665000\n",
       "50%      3784.640000    3891.085000    3639.270000    3793.075000\n",
       "75%     21103.675000   21649.300000   20631.850000   21125.900000\n",
       "max    105118.000000  106426.000000  103320.000000  105104.000000"
      ],
      "text/html": [
       "<div>\n",
       "<style scoped>\n",
       "    .dataframe tbody tr th:only-of-type {\n",
       "        vertical-align: middle;\n",
       "    }\n",
       "\n",
       "    .dataframe tbody tr th {\n",
       "        vertical-align: top;\n",
       "    }\n",
       "\n",
       "    .dataframe thead th {\n",
       "        text-align: right;\n",
       "    }\n",
       "</style>\n",
       "<table border=\"1\" class=\"dataframe\">\n",
       "  <thead>\n",
       "    <tr style=\"text-align: right;\">\n",
       "      <th></th>\n",
       "      <th>open</th>\n",
       "      <th>high</th>\n",
       "      <th>low</th>\n",
       "      <th>close</th>\n",
       "    </tr>\n",
       "  </thead>\n",
       "  <tbody>\n",
       "    <tr>\n",
       "      <th>count</th>\n",
       "      <td>5300.000000</td>\n",
       "      <td>5300.000000</td>\n",
       "      <td>5300.000000</td>\n",
       "      <td>5300.000000</td>\n",
       "    </tr>\n",
       "    <tr>\n",
       "      <th>mean</th>\n",
       "      <td>14222.022606</td>\n",
       "      <td>14558.291070</td>\n",
       "      <td>13864.188277</td>\n",
       "      <td>14237.440034</td>\n",
       "    </tr>\n",
       "    <tr>\n",
       "      <th>std</th>\n",
       "      <td>21067.485260</td>\n",
       "      <td>21534.072186</td>\n",
       "      <td>20566.435094</td>\n",
       "      <td>21085.009956</td>\n",
       "    </tr>\n",
       "    <tr>\n",
       "      <th>min</th>\n",
       "      <td>0.049510</td>\n",
       "      <td>0.049510</td>\n",
       "      <td>0.010000</td>\n",
       "      <td>0.049510</td>\n",
       "    </tr>\n",
       "    <tr>\n",
       "      <th>25%</th>\n",
       "      <td>236.517500</td>\n",
       "      <td>240.495000</td>\n",
       "      <td>232.377500</td>\n",
       "      <td>236.665000</td>\n",
       "    </tr>\n",
       "    <tr>\n",
       "      <th>50%</th>\n",
       "      <td>3784.640000</td>\n",
       "      <td>3891.085000</td>\n",
       "      <td>3639.270000</td>\n",
       "      <td>3793.075000</td>\n",
       "    </tr>\n",
       "    <tr>\n",
       "      <th>75%</th>\n",
       "      <td>21103.675000</td>\n",
       "      <td>21649.300000</td>\n",
       "      <td>20631.850000</td>\n",
       "      <td>21125.900000</td>\n",
       "    </tr>\n",
       "    <tr>\n",
       "      <th>max</th>\n",
       "      <td>105118.000000</td>\n",
       "      <td>106426.000000</td>\n",
       "      <td>103320.000000</td>\n",
       "      <td>105104.000000</td>\n",
       "    </tr>\n",
       "  </tbody>\n",
       "</table>\n",
       "</div>"
      ]
     },
     "execution_count": 78,
     "metadata": {},
     "output_type": "execute_result"
    }
   ],
   "execution_count": 78
  },
  {
   "metadata": {
    "ExecuteTime": {
     "end_time": "2025-03-13T20:55:49.004832Z",
     "start_time": "2025-03-13T20:55:49.002563Z"
    }
   },
   "cell_type": "code",
   "source": "df_crypto_filtered = df_crypto.copy()",
   "id": "6341951aa706a6b7",
   "outputs": [],
   "execution_count": 79
  },
  {
   "metadata": {
    "ExecuteTime": {
     "end_time": "2025-03-13T20:55:49.113697Z",
     "start_time": "2025-03-13T20:55:49.109851Z"
    }
   },
   "cell_type": "code",
   "source": "df_crypto_filtered.drop(columns='ticker', inplace=True)",
   "id": "c7b81660a884ecff",
   "outputs": [],
   "execution_count": 80
  },
  {
   "metadata": {
    "ExecuteTime": {
     "end_time": "2025-03-13T20:55:49.184559Z",
     "start_time": "2025-03-13T20:55:49.182003Z"
    }
   },
   "cell_type": "code",
   "source": [
    "print(\n",
    "    'Observations date range:',\n",
    "    df_crypto_filtered['date'].min(),\n",
    "    '-',\n",
    "    df_crypto_filtered['date'].max()\n",
    ")"
   ],
   "id": "acdaf9e3b5b76b44",
   "outputs": [
    {
     "name": "stdout",
     "output_type": "stream",
     "text": [
      "Observations date range: 2010-07-17 - 2025-03-07\n"
     ]
    }
   ],
   "execution_count": 81
  },
  {
   "metadata": {
    "ExecuteTime": {
     "end_time": "2025-03-13T20:55:49.230328Z",
     "start_time": "2025-03-13T20:55:49.224012Z"
    }
   },
   "cell_type": "code",
   "source": [
    "df_crypto_filtered['date'] = pd.to_datetime(df_crypto_filtered['date'])\n",
    "\n",
    "df_crypto_filtered = df_crypto_filtered[\n",
    "    df_crypto_filtered['date'].between('2020-01-01', '2022-12-31')\n",
    "]"
   ],
   "id": "27d94c58db722d54",
   "outputs": [],
   "execution_count": 82
  },
  {
   "metadata": {},
   "cell_type": "markdown",
   "source": [
    "##### **Zbiór 2.** Dane dotyczące jakości powietrza w poszczególnych stanach i hrabstwach Stanów Zjednoczonych w latach 2020-2022.\n",
    "https://aqs.epa.gov/aqsweb/airdata/download_files.html"
   ],
   "id": "d94a33f56024a776"
  },
  {
   "metadata": {
    "ExecuteTime": {
     "end_time": "2025-03-13T20:55:49.742278Z",
     "start_time": "2025-03-13T20:55:49.275178Z"
    }
   },
   "cell_type": "code",
   "source": [
    "df_aqi_2020 = pd.read_csv('data/daily_aqi_by_county_2020.csv')\n",
    "df_aqi_2021 = pd.read_csv('data/daily_aqi_by_county_2021.csv')\n",
    "df_aqi_2022 = pd.read_csv('data/daily_aqi_by_county_2022.csv')\n",
    "\n",
    "df_air_quality = pd.concat([df_aqi_2020, df_aqi_2021, df_aqi_2022])"
   ],
   "id": "bf3c6ac00f45b503",
   "outputs": [],
   "execution_count": 83
  },
  {
   "metadata": {
    "ExecuteTime": {
     "end_time": "2025-03-13T20:55:49.856476Z",
     "start_time": "2025-03-13T20:55:49.746727Z"
    }
   },
   "cell_type": "code",
   "source": "df_air_quality.info()",
   "id": "97947924d2e209b0",
   "outputs": [
    {
     "name": "stdout",
     "output_type": "stream",
     "text": [
      "<class 'pandas.core.frame.DataFrame'>\n",
      "Index: 976100 entries, 0 to 324421\n",
      "Data columns (total 10 columns):\n",
      " #   Column                     Non-Null Count   Dtype \n",
      "---  ------                     --------------   ----- \n",
      " 0   State Name                 976100 non-null  object\n",
      " 1   county Name                976100 non-null  object\n",
      " 2   State Code                 976100 non-null  int64 \n",
      " 3   County Code                976100 non-null  int64 \n",
      " 4   Date                       976100 non-null  object\n",
      " 5   AQI                        976100 non-null  int64 \n",
      " 6   Category                   976100 non-null  object\n",
      " 7   Defining Parameter         976100 non-null  object\n",
      " 8   Defining Site              976100 non-null  object\n",
      " 9   Number of Sites Reporting  976100 non-null  int64 \n",
      "dtypes: int64(4), object(6)\n",
      "memory usage: 81.9+ MB\n"
     ]
    }
   ],
   "execution_count": 84
  },
  {
   "metadata": {
    "ExecuteTime": {
     "end_time": "2025-03-13T20:55:49.879024Z",
     "start_time": "2025-03-13T20:55:49.875386Z"
    }
   },
   "cell_type": "code",
   "source": "df_air_quality.head()",
   "id": "cd66ae1719068172",
   "outputs": [
    {
     "data": {
      "text/plain": [
       "  State Name county Name  State Code  County Code        Date  AQI  Category  \\\n",
       "0    Alabama     Baldwin           1            3  2020-01-01   56  Moderate   \n",
       "1    Alabama     Baldwin           1            3  2020-01-04   18      Good   \n",
       "2    Alabama     Baldwin           1            3  2020-01-07   18      Good   \n",
       "3    Alabama     Baldwin           1            3  2020-01-10   51  Moderate   \n",
       "4    Alabama     Baldwin           1            3  2020-01-13   38      Good   \n",
       "\n",
       "  Defining Parameter Defining Site  Number of Sites Reporting  \n",
       "0              PM2.5   01-003-0010                          1  \n",
       "1              PM2.5   01-003-0010                          1  \n",
       "2              PM2.5   01-003-0010                          1  \n",
       "3              PM2.5   01-003-0010                          1  \n",
       "4              PM2.5   01-003-0010                          1  "
      ],
      "text/html": [
       "<div>\n",
       "<style scoped>\n",
       "    .dataframe tbody tr th:only-of-type {\n",
       "        vertical-align: middle;\n",
       "    }\n",
       "\n",
       "    .dataframe tbody tr th {\n",
       "        vertical-align: top;\n",
       "    }\n",
       "\n",
       "    .dataframe thead th {\n",
       "        text-align: right;\n",
       "    }\n",
       "</style>\n",
       "<table border=\"1\" class=\"dataframe\">\n",
       "  <thead>\n",
       "    <tr style=\"text-align: right;\">\n",
       "      <th></th>\n",
       "      <th>State Name</th>\n",
       "      <th>county Name</th>\n",
       "      <th>State Code</th>\n",
       "      <th>County Code</th>\n",
       "      <th>Date</th>\n",
       "      <th>AQI</th>\n",
       "      <th>Category</th>\n",
       "      <th>Defining Parameter</th>\n",
       "      <th>Defining Site</th>\n",
       "      <th>Number of Sites Reporting</th>\n",
       "    </tr>\n",
       "  </thead>\n",
       "  <tbody>\n",
       "    <tr>\n",
       "      <th>0</th>\n",
       "      <td>Alabama</td>\n",
       "      <td>Baldwin</td>\n",
       "      <td>1</td>\n",
       "      <td>3</td>\n",
       "      <td>2020-01-01</td>\n",
       "      <td>56</td>\n",
       "      <td>Moderate</td>\n",
       "      <td>PM2.5</td>\n",
       "      <td>01-003-0010</td>\n",
       "      <td>1</td>\n",
       "    </tr>\n",
       "    <tr>\n",
       "      <th>1</th>\n",
       "      <td>Alabama</td>\n",
       "      <td>Baldwin</td>\n",
       "      <td>1</td>\n",
       "      <td>3</td>\n",
       "      <td>2020-01-04</td>\n",
       "      <td>18</td>\n",
       "      <td>Good</td>\n",
       "      <td>PM2.5</td>\n",
       "      <td>01-003-0010</td>\n",
       "      <td>1</td>\n",
       "    </tr>\n",
       "    <tr>\n",
       "      <th>2</th>\n",
       "      <td>Alabama</td>\n",
       "      <td>Baldwin</td>\n",
       "      <td>1</td>\n",
       "      <td>3</td>\n",
       "      <td>2020-01-07</td>\n",
       "      <td>18</td>\n",
       "      <td>Good</td>\n",
       "      <td>PM2.5</td>\n",
       "      <td>01-003-0010</td>\n",
       "      <td>1</td>\n",
       "    </tr>\n",
       "    <tr>\n",
       "      <th>3</th>\n",
       "      <td>Alabama</td>\n",
       "      <td>Baldwin</td>\n",
       "      <td>1</td>\n",
       "      <td>3</td>\n",
       "      <td>2020-01-10</td>\n",
       "      <td>51</td>\n",
       "      <td>Moderate</td>\n",
       "      <td>PM2.5</td>\n",
       "      <td>01-003-0010</td>\n",
       "      <td>1</td>\n",
       "    </tr>\n",
       "    <tr>\n",
       "      <th>4</th>\n",
       "      <td>Alabama</td>\n",
       "      <td>Baldwin</td>\n",
       "      <td>1</td>\n",
       "      <td>3</td>\n",
       "      <td>2020-01-13</td>\n",
       "      <td>38</td>\n",
       "      <td>Good</td>\n",
       "      <td>PM2.5</td>\n",
       "      <td>01-003-0010</td>\n",
       "      <td>1</td>\n",
       "    </tr>\n",
       "  </tbody>\n",
       "</table>\n",
       "</div>"
      ]
     },
     "execution_count": 85,
     "metadata": {},
     "output_type": "execute_result"
    }
   ],
   "execution_count": 85
  },
  {
   "metadata": {
    "ExecuteTime": {
     "end_time": "2025-03-13T20:55:50.019637Z",
     "start_time": "2025-03-13T20:55:49.912165Z"
    }
   },
   "cell_type": "code",
   "source": "df_air_quality.isna().sum()",
   "id": "b9873c118697a23d",
   "outputs": [
    {
     "data": {
      "text/plain": [
       "State Name                   0\n",
       "county Name                  0\n",
       "State Code                   0\n",
       "County Code                  0\n",
       "Date                         0\n",
       "AQI                          0\n",
       "Category                     0\n",
       "Defining Parameter           0\n",
       "Defining Site                0\n",
       "Number of Sites Reporting    0\n",
       "dtype: int64"
      ]
     },
     "execution_count": 86,
     "metadata": {},
     "output_type": "execute_result"
    }
   ],
   "execution_count": 86
  },
  {
   "metadata": {
    "ExecuteTime": {
     "end_time": "2025-03-13T20:55:50.091346Z",
     "start_time": "2025-03-13T20:55:50.034927Z"
    }
   },
   "cell_type": "code",
   "source": "df_air_quality.describe()",
   "id": "99284c4abe2f35a6",
   "outputs": [
    {
     "data": {
      "text/plain": [
       "          State Code    County Code            AQI  Number of Sites Reporting\n",
       "count  976100.000000  976100.000000  976100.000000              976100.000000\n",
       "mean       30.348972      80.176012      42.253111                   1.999282\n",
       "std        16.227468      89.943306      26.268488                   2.454800\n",
       "min         1.000000       1.000000       0.000000                   1.000000\n",
       "25%        17.000000      23.000000      31.000000                   1.000000\n",
       "50%        30.000000      59.000000      40.000000                   1.000000\n",
       "75%        42.000000     107.000000      51.000000                   2.000000\n",
       "max        80.000000     840.000000    8368.000000                  34.000000"
      ],
      "text/html": [
       "<div>\n",
       "<style scoped>\n",
       "    .dataframe tbody tr th:only-of-type {\n",
       "        vertical-align: middle;\n",
       "    }\n",
       "\n",
       "    .dataframe tbody tr th {\n",
       "        vertical-align: top;\n",
       "    }\n",
       "\n",
       "    .dataframe thead th {\n",
       "        text-align: right;\n",
       "    }\n",
       "</style>\n",
       "<table border=\"1\" class=\"dataframe\">\n",
       "  <thead>\n",
       "    <tr style=\"text-align: right;\">\n",
       "      <th></th>\n",
       "      <th>State Code</th>\n",
       "      <th>County Code</th>\n",
       "      <th>AQI</th>\n",
       "      <th>Number of Sites Reporting</th>\n",
       "    </tr>\n",
       "  </thead>\n",
       "  <tbody>\n",
       "    <tr>\n",
       "      <th>count</th>\n",
       "      <td>976100.000000</td>\n",
       "      <td>976100.000000</td>\n",
       "      <td>976100.000000</td>\n",
       "      <td>976100.000000</td>\n",
       "    </tr>\n",
       "    <tr>\n",
       "      <th>mean</th>\n",
       "      <td>30.348972</td>\n",
       "      <td>80.176012</td>\n",
       "      <td>42.253111</td>\n",
       "      <td>1.999282</td>\n",
       "    </tr>\n",
       "    <tr>\n",
       "      <th>std</th>\n",
       "      <td>16.227468</td>\n",
       "      <td>89.943306</td>\n",
       "      <td>26.268488</td>\n",
       "      <td>2.454800</td>\n",
       "    </tr>\n",
       "    <tr>\n",
       "      <th>min</th>\n",
       "      <td>1.000000</td>\n",
       "      <td>1.000000</td>\n",
       "      <td>0.000000</td>\n",
       "      <td>1.000000</td>\n",
       "    </tr>\n",
       "    <tr>\n",
       "      <th>25%</th>\n",
       "      <td>17.000000</td>\n",
       "      <td>23.000000</td>\n",
       "      <td>31.000000</td>\n",
       "      <td>1.000000</td>\n",
       "    </tr>\n",
       "    <tr>\n",
       "      <th>50%</th>\n",
       "      <td>30.000000</td>\n",
       "      <td>59.000000</td>\n",
       "      <td>40.000000</td>\n",
       "      <td>1.000000</td>\n",
       "    </tr>\n",
       "    <tr>\n",
       "      <th>75%</th>\n",
       "      <td>42.000000</td>\n",
       "      <td>107.000000</td>\n",
       "      <td>51.000000</td>\n",
       "      <td>2.000000</td>\n",
       "    </tr>\n",
       "    <tr>\n",
       "      <th>max</th>\n",
       "      <td>80.000000</td>\n",
       "      <td>840.000000</td>\n",
       "      <td>8368.000000</td>\n",
       "      <td>34.000000</td>\n",
       "    </tr>\n",
       "  </tbody>\n",
       "</table>\n",
       "</div>"
      ]
     },
     "execution_count": 87,
     "metadata": {},
     "output_type": "execute_result"
    }
   ],
   "execution_count": 87
  },
  {
   "metadata": {
    "ExecuteTime": {
     "end_time": "2025-03-13T20:55:50.215818Z",
     "start_time": "2025-03-13T20:55:50.134302Z"
    }
   },
   "cell_type": "code",
   "source": "df_air_quality_filtered = df_air_quality.copy()",
   "id": "d5b3af20dd9c445d",
   "outputs": [],
   "execution_count": 88
  },
  {
   "metadata": {
    "ExecuteTime": {
     "end_time": "2025-03-13T20:55:50.337121Z",
     "start_time": "2025-03-13T20:55:50.244635Z"
    }
   },
   "cell_type": "code",
   "source": [
    "df_air_quality_filtered = df_air_quality_filtered[['State Name', 'county Name', 'Date', 'AQI', 'Defining Parameter']]\n",
    "\n",
    "df_air_quality_filtered.rename(\n",
    "    columns={\n",
    "        'State Name': 'subregion1_name',\n",
    "        'county Name': 'subregion2_name',\n",
    "        'Date': 'date',\n",
    "        'AQI': 'aqi',\n",
    "        'Defining Parameter': 'defining_parameter'\n",
    "    },\n",
    "    inplace=True\n",
    ")\n",
    "\n",
    "df_air_quality_filtered['date'] = pd.to_datetime(df_air_quality_filtered['date'])"
   ],
   "id": "63d2e38252233d1",
   "outputs": [],
   "execution_count": 89
  },
  {
   "metadata": {
    "ExecuteTime": {
     "end_time": "2025-03-13T20:55:50.373387Z",
     "start_time": "2025-03-13T20:55:50.344270Z"
    }
   },
   "cell_type": "code",
   "source": "df_air_quality_filtered['defining_parameter'].value_counts()",
   "id": "df0db904459d3c74",
   "outputs": [
    {
     "data": {
      "text/plain": [
       "defining_parameter\n",
       "Ozone    466883\n",
       "PM2.5    465929\n",
       "PM10      30150\n",
       "NO2       11389\n",
       "CO         1749\n",
       "Name: count, dtype: int64"
      ]
     },
     "execution_count": 90,
     "metadata": {},
     "output_type": "execute_result"
    }
   ],
   "execution_count": 90
  },
  {
   "metadata": {},
   "cell_type": "markdown",
   "source": "Ze względu na nieznaczną ilość obserwacji dla innych parametrów niż 'Ozone' i 'PM2.5', zostaną one wyfiltrowane.",
   "id": "bbc6baf5159c6c39"
  },
  {
   "metadata": {
    "ExecuteTime": {
     "end_time": "2025-03-13T20:55:50.439374Z",
     "start_time": "2025-03-13T20:55:50.393113Z"
    }
   },
   "cell_type": "code",
   "source": [
    "df_air_quality_filtered = df_air_quality_filtered[\n",
    "    df_air_quality_filtered['defining_parameter'].isin(['Ozone', 'PM2.5'])\n",
    "]"
   ],
   "id": "4d4023b7a0566c03",
   "outputs": [],
   "execution_count": 91
  },
  {
   "metadata": {
    "ExecuteTime": {
     "end_time": "2025-03-13T20:55:50.776695Z",
     "start_time": "2025-03-13T20:55:50.455096Z"
    }
   },
   "cell_type": "code",
   "source": [
    "df_air_quality_filtered_pivot = df_air_quality_filtered.pivot_table(\n",
    "    index=['subregion1_name', 'subregion2_name', 'date'],\n",
    "    columns='defining_parameter',\n",
    "    values='aqi'\n",
    ").reset_index()\n",
    "\n",
    "df_air_quality_filtered_pivot.columns.name = None\n",
    "\n",
    "df_air_quality_filtered_pivot.rename(\n",
    "    columns={\n",
    "        'Ozone': 'aqi_ozone',\n",
    "        'PM2.5': 'aqi_pm25'\n",
    "    },\n",
    "    inplace=True\n",
    ")"
   ],
   "id": "20196f57094e4531",
   "outputs": [],
   "execution_count": 92
  },
  {
   "metadata": {},
   "cell_type": "markdown",
   "source": "W zbiorze dot. COVID-19, nazwy hrabstw mają dopisek 'County', co zostanie zastosowane również w zbiorze dot. jakości powietrza.",
   "id": "dfd0332228cf683f"
  },
  {
   "metadata": {
    "ExecuteTime": {
     "end_time": "2025-03-13T20:55:50.875323Z",
     "start_time": "2025-03-13T20:55:50.793675Z"
    }
   },
   "cell_type": "code",
   "source": [
    "df_air_quality_filtered_pivot['subregion2_name'] = (\n",
    "    df_air_quality_filtered_pivot['subregion2_name']\n",
    "    .apply(lambda x: x + ' County')\n",
    ")"
   ],
   "id": "3c77cfdc86e9f2db",
   "outputs": [],
   "execution_count": 93
  },
  {
   "metadata": {
    "ExecuteTime": {
     "end_time": "2025-03-13T20:55:50.888512Z",
     "start_time": "2025-03-13T20:55:50.884622Z"
    }
   },
   "cell_type": "code",
   "source": "df_air_quality_filtered_pivot.head()",
   "id": "60e93f2c8ec2fd52",
   "outputs": [
    {
     "data": {
      "text/plain": [
       "  subregion1_name subregion2_name       date  aqi_ozone  aqi_pm25\n",
       "0         Alabama  Baldwin County 2020-01-01        NaN      56.0\n",
       "1         Alabama  Baldwin County 2020-01-04        NaN      18.0\n",
       "2         Alabama  Baldwin County 2020-01-07        NaN      18.0\n",
       "3         Alabama  Baldwin County 2020-01-10        NaN      51.0\n",
       "4         Alabama  Baldwin County 2020-01-13        NaN      38.0"
      ],
      "text/html": [
       "<div>\n",
       "<style scoped>\n",
       "    .dataframe tbody tr th:only-of-type {\n",
       "        vertical-align: middle;\n",
       "    }\n",
       "\n",
       "    .dataframe tbody tr th {\n",
       "        vertical-align: top;\n",
       "    }\n",
       "\n",
       "    .dataframe thead th {\n",
       "        text-align: right;\n",
       "    }\n",
       "</style>\n",
       "<table border=\"1\" class=\"dataframe\">\n",
       "  <thead>\n",
       "    <tr style=\"text-align: right;\">\n",
       "      <th></th>\n",
       "      <th>subregion1_name</th>\n",
       "      <th>subregion2_name</th>\n",
       "      <th>date</th>\n",
       "      <th>aqi_ozone</th>\n",
       "      <th>aqi_pm25</th>\n",
       "    </tr>\n",
       "  </thead>\n",
       "  <tbody>\n",
       "    <tr>\n",
       "      <th>0</th>\n",
       "      <td>Alabama</td>\n",
       "      <td>Baldwin County</td>\n",
       "      <td>2020-01-01</td>\n",
       "      <td>NaN</td>\n",
       "      <td>56.0</td>\n",
       "    </tr>\n",
       "    <tr>\n",
       "      <th>1</th>\n",
       "      <td>Alabama</td>\n",
       "      <td>Baldwin County</td>\n",
       "      <td>2020-01-04</td>\n",
       "      <td>NaN</td>\n",
       "      <td>18.0</td>\n",
       "    </tr>\n",
       "    <tr>\n",
       "      <th>2</th>\n",
       "      <td>Alabama</td>\n",
       "      <td>Baldwin County</td>\n",
       "      <td>2020-01-07</td>\n",
       "      <td>NaN</td>\n",
       "      <td>18.0</td>\n",
       "    </tr>\n",
       "    <tr>\n",
       "      <th>3</th>\n",
       "      <td>Alabama</td>\n",
       "      <td>Baldwin County</td>\n",
       "      <td>2020-01-10</td>\n",
       "      <td>NaN</td>\n",
       "      <td>51.0</td>\n",
       "    </tr>\n",
       "    <tr>\n",
       "      <th>4</th>\n",
       "      <td>Alabama</td>\n",
       "      <td>Baldwin County</td>\n",
       "      <td>2020-01-13</td>\n",
       "      <td>NaN</td>\n",
       "      <td>38.0</td>\n",
       "    </tr>\n",
       "  </tbody>\n",
       "</table>\n",
       "</div>"
      ]
     },
     "execution_count": 94,
     "metadata": {},
     "output_type": "execute_result"
    }
   ],
   "execution_count": 94
  },
  {
   "metadata": {},
   "cell_type": "markdown",
   "source": [
    "##### **Zbiór 3.** Dane dotyczące generacji, emisji i zapotrzebowania energii elektrycznej w poszczególnych krajach świata.\n",
    "https://ember-energy.org/data/monthly-electricity-data/"
   ],
   "id": "199ba2bbb8e9d06"
  },
  {
   "metadata": {
    "ExecuteTime": {
     "end_time": "2025-03-13T20:55:51.308163Z",
     "start_time": "2025-03-13T20:55:50.922692Z"
    }
   },
   "cell_type": "code",
   "source": "df_electricity = pd.read_csv('data/electricity.csv')",
   "id": "e511746a8dbd825",
   "outputs": [],
   "execution_count": 95
  },
  {
   "metadata": {
    "ExecuteTime": {
     "end_time": "2025-03-13T20:55:51.410708Z",
     "start_time": "2025-03-13T20:55:51.323648Z"
    }
   },
   "cell_type": "code",
   "source": "df_electricity.info()",
   "id": "e88e9539c4fc0e0c",
   "outputs": [
    {
     "name": "stdout",
     "output_type": "stream",
     "text": [
      "<class 'pandas.core.frame.DataFrame'>\n",
      "RangeIndex: 464550 entries, 0 to 464549\n",
      "Data columns (total 18 columns):\n",
      " #   Column               Non-Null Count   Dtype  \n",
      "---  ------               --------------   -----  \n",
      " 0   Area                 464550 non-null  object \n",
      " 1   Country code         414616 non-null  object \n",
      " 2   Date                 464550 non-null  object \n",
      " 3   Area type            464550 non-null  object \n",
      " 4   Continent            414616 non-null  object \n",
      " 5   Ember region         414616 non-null  object \n",
      " 6   EU                   414616 non-null  float64\n",
      " 7   OECD                 414616 non-null  float64\n",
      " 8   G20                  414616 non-null  float64\n",
      " 9   G7                   414616 non-null  float64\n",
      " 10  ASEAN                414616 non-null  float64\n",
      " 11  Category             464550 non-null  object \n",
      " 12  Subcategory          464550 non-null  object \n",
      " 13  Variable             464550 non-null  object \n",
      " 14  Unit                 464550 non-null  object \n",
      " 15  Value                462381 non-null  float64\n",
      " 16  YoY absolute change  289738 non-null  float64\n",
      " 17  YoY % change         245539 non-null  float64\n",
      "dtypes: float64(8), object(10)\n",
      "memory usage: 63.8+ MB\n"
     ]
    }
   ],
   "execution_count": 96
  },
  {
   "metadata": {
    "ExecuteTime": {
     "end_time": "2025-03-13T20:55:51.423788Z",
     "start_time": "2025-03-13T20:55:51.418473Z"
    }
   },
   "cell_type": "code",
   "source": "df_electricity.head()",
   "id": "f2e1e51a20d2353f",
   "outputs": [
    {
     "data": {
      "text/plain": [
       "        Area Country code        Date Area type      Continent  \\\n",
       "0  Argentina          ARG  2018-01-01   Country  South America   \n",
       "1  Argentina          ARG  2018-01-01   Country  South America   \n",
       "2  Argentina          ARG  2018-01-01   Country  South America   \n",
       "3  Argentina          ARG  2018-01-01   Country  South America   \n",
       "4  Argentina          ARG  2018-01-01   Country  South America   \n",
       "\n",
       "                  Ember region   EU  OECD  G20   G7  ASEAN  \\\n",
       "0  Latin America and Caribbean  0.0   0.0  1.0  0.0    0.0   \n",
       "1  Latin America and Caribbean  0.0   0.0  1.0  0.0    0.0   \n",
       "2  Latin America and Caribbean  0.0   0.0  1.0  0.0    0.0   \n",
       "3  Latin America and Caribbean  0.0   0.0  1.0  0.0    0.0   \n",
       "4  Latin America and Caribbean  0.0   0.0  1.0  0.0    0.0   \n",
       "\n",
       "                 Category     Subcategory  \\\n",
       "0      Electricity demand          Demand   \n",
       "1  Electricity generation  Aggregate fuel   \n",
       "2  Electricity generation  Aggregate fuel   \n",
       "3  Electricity generation  Aggregate fuel   \n",
       "4  Electricity generation  Aggregate fuel   \n",
       "\n",
       "                                Variable Unit  Value  YoY absolute change  \\\n",
       "0                                 Demand  TWh  12.77                  NaN   \n",
       "1                                  Clean    %  34.57                  NaN   \n",
       "2                                 Fossil    %  65.44                  NaN   \n",
       "3                   Gas and Other Fossil    %  63.40                  NaN   \n",
       "4  Hydro, Bioenergy and Other Renewables    %  29.08                  NaN   \n",
       "\n",
       "   YoY % change  \n",
       "0           NaN  \n",
       "1           NaN  \n",
       "2           NaN  \n",
       "3           NaN  \n",
       "4           NaN  "
      ],
      "text/html": [
       "<div>\n",
       "<style scoped>\n",
       "    .dataframe tbody tr th:only-of-type {\n",
       "        vertical-align: middle;\n",
       "    }\n",
       "\n",
       "    .dataframe tbody tr th {\n",
       "        vertical-align: top;\n",
       "    }\n",
       "\n",
       "    .dataframe thead th {\n",
       "        text-align: right;\n",
       "    }\n",
       "</style>\n",
       "<table border=\"1\" class=\"dataframe\">\n",
       "  <thead>\n",
       "    <tr style=\"text-align: right;\">\n",
       "      <th></th>\n",
       "      <th>Area</th>\n",
       "      <th>Country code</th>\n",
       "      <th>Date</th>\n",
       "      <th>Area type</th>\n",
       "      <th>Continent</th>\n",
       "      <th>Ember region</th>\n",
       "      <th>EU</th>\n",
       "      <th>OECD</th>\n",
       "      <th>G20</th>\n",
       "      <th>G7</th>\n",
       "      <th>ASEAN</th>\n",
       "      <th>Category</th>\n",
       "      <th>Subcategory</th>\n",
       "      <th>Variable</th>\n",
       "      <th>Unit</th>\n",
       "      <th>Value</th>\n",
       "      <th>YoY absolute change</th>\n",
       "      <th>YoY % change</th>\n",
       "    </tr>\n",
       "  </thead>\n",
       "  <tbody>\n",
       "    <tr>\n",
       "      <th>0</th>\n",
       "      <td>Argentina</td>\n",
       "      <td>ARG</td>\n",
       "      <td>2018-01-01</td>\n",
       "      <td>Country</td>\n",
       "      <td>South America</td>\n",
       "      <td>Latin America and Caribbean</td>\n",
       "      <td>0.0</td>\n",
       "      <td>0.0</td>\n",
       "      <td>1.0</td>\n",
       "      <td>0.0</td>\n",
       "      <td>0.0</td>\n",
       "      <td>Electricity demand</td>\n",
       "      <td>Demand</td>\n",
       "      <td>Demand</td>\n",
       "      <td>TWh</td>\n",
       "      <td>12.77</td>\n",
       "      <td>NaN</td>\n",
       "      <td>NaN</td>\n",
       "    </tr>\n",
       "    <tr>\n",
       "      <th>1</th>\n",
       "      <td>Argentina</td>\n",
       "      <td>ARG</td>\n",
       "      <td>2018-01-01</td>\n",
       "      <td>Country</td>\n",
       "      <td>South America</td>\n",
       "      <td>Latin America and Caribbean</td>\n",
       "      <td>0.0</td>\n",
       "      <td>0.0</td>\n",
       "      <td>1.0</td>\n",
       "      <td>0.0</td>\n",
       "      <td>0.0</td>\n",
       "      <td>Electricity generation</td>\n",
       "      <td>Aggregate fuel</td>\n",
       "      <td>Clean</td>\n",
       "      <td>%</td>\n",
       "      <td>34.57</td>\n",
       "      <td>NaN</td>\n",
       "      <td>NaN</td>\n",
       "    </tr>\n",
       "    <tr>\n",
       "      <th>2</th>\n",
       "      <td>Argentina</td>\n",
       "      <td>ARG</td>\n",
       "      <td>2018-01-01</td>\n",
       "      <td>Country</td>\n",
       "      <td>South America</td>\n",
       "      <td>Latin America and Caribbean</td>\n",
       "      <td>0.0</td>\n",
       "      <td>0.0</td>\n",
       "      <td>1.0</td>\n",
       "      <td>0.0</td>\n",
       "      <td>0.0</td>\n",
       "      <td>Electricity generation</td>\n",
       "      <td>Aggregate fuel</td>\n",
       "      <td>Fossil</td>\n",
       "      <td>%</td>\n",
       "      <td>65.44</td>\n",
       "      <td>NaN</td>\n",
       "      <td>NaN</td>\n",
       "    </tr>\n",
       "    <tr>\n",
       "      <th>3</th>\n",
       "      <td>Argentina</td>\n",
       "      <td>ARG</td>\n",
       "      <td>2018-01-01</td>\n",
       "      <td>Country</td>\n",
       "      <td>South America</td>\n",
       "      <td>Latin America and Caribbean</td>\n",
       "      <td>0.0</td>\n",
       "      <td>0.0</td>\n",
       "      <td>1.0</td>\n",
       "      <td>0.0</td>\n",
       "      <td>0.0</td>\n",
       "      <td>Electricity generation</td>\n",
       "      <td>Aggregate fuel</td>\n",
       "      <td>Gas and Other Fossil</td>\n",
       "      <td>%</td>\n",
       "      <td>63.40</td>\n",
       "      <td>NaN</td>\n",
       "      <td>NaN</td>\n",
       "    </tr>\n",
       "    <tr>\n",
       "      <th>4</th>\n",
       "      <td>Argentina</td>\n",
       "      <td>ARG</td>\n",
       "      <td>2018-01-01</td>\n",
       "      <td>Country</td>\n",
       "      <td>South America</td>\n",
       "      <td>Latin America and Caribbean</td>\n",
       "      <td>0.0</td>\n",
       "      <td>0.0</td>\n",
       "      <td>1.0</td>\n",
       "      <td>0.0</td>\n",
       "      <td>0.0</td>\n",
       "      <td>Electricity generation</td>\n",
       "      <td>Aggregate fuel</td>\n",
       "      <td>Hydro, Bioenergy and Other Renewables</td>\n",
       "      <td>%</td>\n",
       "      <td>29.08</td>\n",
       "      <td>NaN</td>\n",
       "      <td>NaN</td>\n",
       "    </tr>\n",
       "  </tbody>\n",
       "</table>\n",
       "</div>"
      ]
     },
     "execution_count": 97,
     "metadata": {},
     "output_type": "execute_result"
    }
   ],
   "execution_count": 97
  },
  {
   "metadata": {
    "ExecuteTime": {
     "end_time": "2025-03-13T20:55:51.546148Z",
     "start_time": "2025-03-13T20:55:51.460628Z"
    }
   },
   "cell_type": "code",
   "source": "df_electricity.isna().sum()",
   "id": "25a6845497df8d69",
   "outputs": [
    {
     "data": {
      "text/plain": [
       "Area                        0\n",
       "Country code            49934\n",
       "Date                        0\n",
       "Area type                   0\n",
       "Continent               49934\n",
       "Ember region            49934\n",
       "EU                      49934\n",
       "OECD                    49934\n",
       "G20                     49934\n",
       "G7                      49934\n",
       "ASEAN                   49934\n",
       "Category                    0\n",
       "Subcategory                 0\n",
       "Variable                    0\n",
       "Unit                        0\n",
       "Value                    2169\n",
       "YoY absolute change    174812\n",
       "YoY % change           219011\n",
       "dtype: int64"
      ]
     },
     "execution_count": 98,
     "metadata": {},
     "output_type": "execute_result"
    }
   ],
   "execution_count": 98
  },
  {
   "metadata": {
    "ExecuteTime": {
     "end_time": "2025-03-13T20:55:51.625696Z",
     "start_time": "2025-03-13T20:55:51.562287Z"
    }
   },
   "cell_type": "code",
   "source": "df_electricity.describe()",
   "id": "c3b5f2a0ad0813f3",
   "outputs": [
    {
     "data": {
      "text/plain": [
       "                  EU           OECD            G20             G7  \\\n",
       "count  414616.000000  414616.000000  414616.000000  414616.000000   \n",
       "mean        0.352198       0.527175       0.241824       0.120979   \n",
       "std         0.477656       0.499262       0.428189       0.326104   \n",
       "min         0.000000       0.000000       0.000000       0.000000   \n",
       "25%         0.000000       0.000000       0.000000       0.000000   \n",
       "50%         0.000000       1.000000       0.000000       0.000000   \n",
       "75%         1.000000       1.000000       0.000000       0.000000   \n",
       "max         1.000000       1.000000       1.000000       1.000000   \n",
       "\n",
       "               ASEAN          Value  YoY absolute change   YoY % change  \n",
       "count  414616.000000  462381.000000        289738.000000  245539.000000  \n",
       "mean        0.068133      30.427111             0.074001       8.289965  \n",
       "std         0.251974     111.925657            15.283876      83.516853  \n",
       "min         0.000000      -9.270000         -1045.650000  -14000.000000  \n",
       "25%         0.000000       0.070000            -0.030000      -6.660000  \n",
       "50%         0.000000       1.370000             0.000000       0.000000  \n",
       "75%         0.000000      14.030000             0.100000      12.750000  \n",
       "max         1.000000    2750.970000           490.200000    8700.000000  "
      ],
      "text/html": [
       "<div>\n",
       "<style scoped>\n",
       "    .dataframe tbody tr th:only-of-type {\n",
       "        vertical-align: middle;\n",
       "    }\n",
       "\n",
       "    .dataframe tbody tr th {\n",
       "        vertical-align: top;\n",
       "    }\n",
       "\n",
       "    .dataframe thead th {\n",
       "        text-align: right;\n",
       "    }\n",
       "</style>\n",
       "<table border=\"1\" class=\"dataframe\">\n",
       "  <thead>\n",
       "    <tr style=\"text-align: right;\">\n",
       "      <th></th>\n",
       "      <th>EU</th>\n",
       "      <th>OECD</th>\n",
       "      <th>G20</th>\n",
       "      <th>G7</th>\n",
       "      <th>ASEAN</th>\n",
       "      <th>Value</th>\n",
       "      <th>YoY absolute change</th>\n",
       "      <th>YoY % change</th>\n",
       "    </tr>\n",
       "  </thead>\n",
       "  <tbody>\n",
       "    <tr>\n",
       "      <th>count</th>\n",
       "      <td>414616.000000</td>\n",
       "      <td>414616.000000</td>\n",
       "      <td>414616.000000</td>\n",
       "      <td>414616.000000</td>\n",
       "      <td>414616.000000</td>\n",
       "      <td>462381.000000</td>\n",
       "      <td>289738.000000</td>\n",
       "      <td>245539.000000</td>\n",
       "    </tr>\n",
       "    <tr>\n",
       "      <th>mean</th>\n",
       "      <td>0.352198</td>\n",
       "      <td>0.527175</td>\n",
       "      <td>0.241824</td>\n",
       "      <td>0.120979</td>\n",
       "      <td>0.068133</td>\n",
       "      <td>30.427111</td>\n",
       "      <td>0.074001</td>\n",
       "      <td>8.289965</td>\n",
       "    </tr>\n",
       "    <tr>\n",
       "      <th>std</th>\n",
       "      <td>0.477656</td>\n",
       "      <td>0.499262</td>\n",
       "      <td>0.428189</td>\n",
       "      <td>0.326104</td>\n",
       "      <td>0.251974</td>\n",
       "      <td>111.925657</td>\n",
       "      <td>15.283876</td>\n",
       "      <td>83.516853</td>\n",
       "    </tr>\n",
       "    <tr>\n",
       "      <th>min</th>\n",
       "      <td>0.000000</td>\n",
       "      <td>0.000000</td>\n",
       "      <td>0.000000</td>\n",
       "      <td>0.000000</td>\n",
       "      <td>0.000000</td>\n",
       "      <td>-9.270000</td>\n",
       "      <td>-1045.650000</td>\n",
       "      <td>-14000.000000</td>\n",
       "    </tr>\n",
       "    <tr>\n",
       "      <th>25%</th>\n",
       "      <td>0.000000</td>\n",
       "      <td>0.000000</td>\n",
       "      <td>0.000000</td>\n",
       "      <td>0.000000</td>\n",
       "      <td>0.000000</td>\n",
       "      <td>0.070000</td>\n",
       "      <td>-0.030000</td>\n",
       "      <td>-6.660000</td>\n",
       "    </tr>\n",
       "    <tr>\n",
       "      <th>50%</th>\n",
       "      <td>0.000000</td>\n",
       "      <td>1.000000</td>\n",
       "      <td>0.000000</td>\n",
       "      <td>0.000000</td>\n",
       "      <td>0.000000</td>\n",
       "      <td>1.370000</td>\n",
       "      <td>0.000000</td>\n",
       "      <td>0.000000</td>\n",
       "    </tr>\n",
       "    <tr>\n",
       "      <th>75%</th>\n",
       "      <td>1.000000</td>\n",
       "      <td>1.000000</td>\n",
       "      <td>0.000000</td>\n",
       "      <td>0.000000</td>\n",
       "      <td>0.000000</td>\n",
       "      <td>14.030000</td>\n",
       "      <td>0.100000</td>\n",
       "      <td>12.750000</td>\n",
       "    </tr>\n",
       "    <tr>\n",
       "      <th>max</th>\n",
       "      <td>1.000000</td>\n",
       "      <td>1.000000</td>\n",
       "      <td>1.000000</td>\n",
       "      <td>1.000000</td>\n",
       "      <td>1.000000</td>\n",
       "      <td>2750.970000</td>\n",
       "      <td>490.200000</td>\n",
       "      <td>8700.000000</td>\n",
       "    </tr>\n",
       "  </tbody>\n",
       "</table>\n",
       "</div>"
      ]
     },
     "execution_count": 99,
     "metadata": {},
     "output_type": "execute_result"
    }
   ],
   "execution_count": 99
  },
  {
   "metadata": {},
   "cell_type": "markdown",
   "source": "W kolumnie 'Country code' znajdują się brakujące wartości, należy zbadać czy wiersze z brakującymi wartościami będą istotne dla analizy.",
   "id": "3b8cc69c31504eba"
  },
  {
   "metadata": {
    "ExecuteTime": {
     "end_time": "2025-03-13T20:55:51.680754Z",
     "start_time": "2025-03-13T20:55:51.663184Z"
    }
   },
   "cell_type": "code",
   "source": "df_electricity.query('`Country code`.isnull()')['Area'].value_counts()",
   "id": "8380c42bec1d36e6",
   "outputs": [
    {
     "data": {
      "text/plain": [
       "Area\n",
       "North America                  9000\n",
       "EU                             6100\n",
       "Europe                         6100\n",
       "Asia                           3650\n",
       "G20                            3650\n",
       "G7                             3650\n",
       "Latin America and Caribbean    3650\n",
       "OECD                           3650\n",
       "ASEAN                          3550\n",
       "World                          3550\n",
       "Oceania                        3384\n",
       "Name: count, dtype: int64"
      ]
     },
     "execution_count": 100,
     "metadata": {},
     "output_type": "execute_result"
    }
   ],
   "execution_count": 100
  },
  {
   "metadata": {},
   "cell_type": "markdown",
   "source": "Brakujące wartości w kolumnie 'Country code' dotyczą obszarów, które nie są krajami, dlatego zostaną usunięte.",
   "id": "d4544be1324524cc"
  },
  {
   "metadata": {
    "ExecuteTime": {
     "end_time": "2025-03-13T20:55:51.761039Z",
     "start_time": "2025-03-13T20:55:51.721211Z"
    }
   },
   "cell_type": "code",
   "source": "df_electricity.dropna(subset=['Country code'], inplace=True)",
   "id": "44e027cbd467eee3",
   "outputs": [],
   "execution_count": 101
  },
  {
   "metadata": {
    "ExecuteTime": {
     "end_time": "2025-03-13T20:55:51.807865Z",
     "start_time": "2025-03-13T20:55:51.793260Z"
    }
   },
   "cell_type": "code",
   "source": "df_electricity['Category'].value_counts()",
   "id": "a8e6357a81a8d634",
   "outputs": [
    {
     "data": {
      "text/plain": [
       "Category\n",
       "Electricity generation    251460\n",
       "Power sector emissions    140388\n",
       "Electricity demand          9772\n",
       "Electricity imports         9772\n",
       "Electricity prices          3224\n",
       "Name: count, dtype: int64"
      ]
     },
     "execution_count": 102,
     "metadata": {},
     "output_type": "execute_result"
    }
   ],
   "execution_count": 102
  },
  {
   "metadata": {
    "ExecuteTime": {
     "end_time": "2025-03-13T20:55:51.875828Z",
     "start_time": "2025-03-13T20:55:51.844736Z"
    }
   },
   "cell_type": "code",
   "source": [
    "print(\n",
    "    'Observations date range:',\n",
    "    df_electricity['Date'].min(),\n",
    "    '-',\n",
    "    df_electricity['Date'].max()\n",
    ")"
   ],
   "id": "56e94bd50f261c51",
   "outputs": [
    {
     "name": "stdout",
     "output_type": "stream",
     "text": [
      "Observations date range: 1998-12-01 - 2025-02-01\n"
     ]
    }
   ],
   "execution_count": 103
  },
  {
   "metadata": {
    "ExecuteTime": {
     "end_time": "2025-03-13T20:55:51.909087Z",
     "start_time": "2025-03-13T20:55:51.892346Z"
    }
   },
   "cell_type": "code",
   "source": "df_electricity_filtered = df_electricity.copy()",
   "id": "1403802460d02944",
   "outputs": [],
   "execution_count": 104
  },
  {
   "metadata": {},
   "cell_type": "markdown",
   "source": "Do dalszej analizy zostaną wykorzystane dane dotyczące zapotrzebowania na energię elektryczną, pozostałe dane zostaną wyfiltrowane.",
   "id": "43894db3f870ef1c"
  },
  {
   "metadata": {
    "ExecuteTime": {
     "end_time": "2025-03-13T20:55:51.965245Z",
     "start_time": "2025-03-13T20:55:51.932361Z"
    }
   },
   "cell_type": "code",
   "source": "df_electricity_filtered = df_electricity_filtered.query('Category == \"Electricity demand\"')",
   "id": "c1a0a88288f6340e",
   "outputs": [],
   "execution_count": 105
  },
  {
   "metadata": {
    "ExecuteTime": {
     "end_time": "2025-03-13T20:55:52.000385Z",
     "start_time": "2025-03-13T20:55:51.995357Z"
    }
   },
   "cell_type": "code",
   "source": "df_electricity_filtered.isna().sum()",
   "id": "1152cd988004510e",
   "outputs": [
    {
     "data": {
      "text/plain": [
       "Area                      0\n",
       "Country code              0\n",
       "Date                      0\n",
       "Area type                 0\n",
       "Continent                 0\n",
       "Ember region              0\n",
       "EU                        0\n",
       "OECD                      0\n",
       "G20                       0\n",
       "G7                        0\n",
       "ASEAN                     0\n",
       "Category                  0\n",
       "Subcategory               0\n",
       "Variable                  0\n",
       "Unit                      0\n",
       "Value                     0\n",
       "YoY absolute change    1056\n",
       "YoY % change           1056\n",
       "dtype: int64"
      ]
     },
     "execution_count": 106,
     "metadata": {},
     "output_type": "execute_result"
    }
   ],
   "execution_count": 106
  },
  {
   "metadata": {
    "ExecuteTime": {
     "end_time": "2025-03-13T20:55:52.036752Z",
     "start_time": "2025-03-13T20:55:52.033028Z"
    }
   },
   "cell_type": "code",
   "source": [
    "df_electricity_filtered = df_electricity_filtered[\n",
    "    ['Country code', 'Date', 'Value']\n",
    "]\n",
    "\n",
    "df_electricity_filtered.rename(\n",
    "    columns={\n",
    "        'Country code': 'iso_3166_1_alpha_3',\n",
    "        'Date': 'date',\n",
    "        'Value': 'electricity_demand'\n",
    "    },\n",
    "    inplace=True\n",
    ")"
   ],
   "id": "f907d9996e7613a5",
   "outputs": [],
   "execution_count": 107
  },
  {
   "metadata": {
    "ExecuteTime": {
     "end_time": "2025-03-13T20:55:52.083341Z",
     "start_time": "2025-03-13T20:55:52.078723Z"
    }
   },
   "cell_type": "code",
   "source": [
    "df_electricity_filtered['date'] = pd.to_datetime(df_electricity_filtered['date'])\n",
    "\n",
    "df_electricity_filtered = df_electricity_filtered[\n",
    "    df_electricity_filtered['date'].between('2020-01-01', '2022-12-31')\n",
    "]"
   ],
   "id": "518e1af237ae6f8b",
   "outputs": [],
   "execution_count": 108
  },
  {
   "metadata": {},
   "cell_type": "markdown",
   "source": "##### **Integracja zbiorów danych**",
   "id": "1087576c561baf9e"
  },
  {
   "metadata": {
    "ExecuteTime": {
     "end_time": "2025-03-13T20:56:19.537036Z",
     "start_time": "2025-03-13T20:55:52.130480Z"
    }
   },
   "cell_type": "code",
   "source": [
    "df_combined = df_combined.merge(\n",
    "    df_crypto_filtered,\n",
    "    how='left',\n",
    "    on='date'\n",
    ")\n",
    "\n",
    "df_combined = df_combined.merge(\n",
    "    df_air_quality_filtered_pivot,\n",
    "    how='left',\n",
    "    on=['subregion1_name', 'subregion2_name', 'date']\n",
    ")\n",
    "\n",
    "df_combined = df_combined.merge(\n",
    "    df_electricity_filtered,\n",
    "    how='left',\n",
    "    on=['iso_3166_1_alpha_3', 'date']\n",
    ")"
   ],
   "id": "4a3ce90a2870c7cb",
   "outputs": [],
   "execution_count": 109
  },
  {
   "metadata": {
    "ExecuteTime": {
     "end_time": "2025-03-13T20:56:19.550740Z",
     "start_time": "2025-03-13T20:56:19.548591Z"
    }
   },
   "cell_type": "code",
   "source": "# df_combined.to_csv('output/combined_part_7.csv')",
   "id": "aadae65ae626f82a",
   "outputs": [],
   "execution_count": 110
  }
 ],
 "metadata": {
  "kernelspec": {
   "display_name": "Python 3",
   "language": "python",
   "name": "python3"
  },
  "language_info": {
   "codemirror_mode": {
    "name": "ipython",
    "version": 2
   },
   "file_extension": ".py",
   "mimetype": "text/x-python",
   "name": "python",
   "nbconvert_exporter": "python",
   "pygments_lexer": "ipython2",
   "version": "2.7.6"
  }
 },
 "nbformat": 4,
 "nbformat_minor": 5
}
